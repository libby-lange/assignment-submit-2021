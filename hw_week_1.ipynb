{
 "cells": [
  {
   "cell_type": "markdown",
   "metadata": {},
   "source": [
    "# Homework 1:\n",
    "This assignment is due at 11:59 PM the day before class.\n",
    "\n",
    "## 1.1 GitHub Exercise\n",
    "\n",
    "This is a simple exercise designed to give you practice using GitHub. Additionally the following questions are meant to stimulate you to think about how innovation arises and propagates. Please choose one person (out of the two) that you think made a larger difference in technology and state your reasons why. Type your answers in \"markdown\" (cell type from menu above) **Cell -> Cell Type -> Markdown**\n",
    "\n",
    "Bill Gates or Gary Kidall? "
   ]
  },
  {
   "cell_type": "markdown",
   "metadata": {},
   "source": [
    "I believe Gary Kildall had a larger impact on technology, because he was able to take the first step into the truly unknown territory of a universal programming language. The sheer visionary talent needed to make the leap to CP/M cannot be overstated. While Bill Gates certainly developed the idea and found more ways to monetize it, this required much less innovation on his part; in fact, the operating system he sold to IBM was directly modeled off of Kildall's CP/M. Had Kildall been the one to sell his system to IBM, there is no telling what further innovations he could have achieved."
   ]
  },
  {
   "cell_type": "markdown",
   "metadata": {},
   "source": [
    "Thomas Edison or Nicola Tesla?"
   ]
  },
  {
   "cell_type": "markdown",
   "metadata": {},
   "source": [
    "I was originally drawn to reply Thomas Edison due to his conception of massive centers of unbridled innovation, in addition to his own countless practical inventions. However, Nicola Tesla likely deserves the title of having made a larger difference in technology because not only are many of his inventions still the backbone of telecommunications technologies to this day, but his ideas remain a source of inspiration for innovators across countless fields. Although his genius may not have been properly recognized at the time (perhaps partially due to the stigma surrounding mental illness), his legacy has been more than cemented in the near-century since."
   ]
  },
  {
   "cell_type": "markdown",
   "metadata": {},
   "source": [
    "Rosalind Franklin or Watson and Crick?"
   ]
  },
  {
   "cell_type": "markdown",
   "metadata": {},
   "source": [
    "I believe Rosalind Franklin made the more important contribution to science. Men have been stealing women's ideas and work, completed in hostile environments and at great personal cost, for far too long. Furthermore, Franklin continued to contribute crucial insights to our understanding of virology even after her previous work was distributed and used without her permission. This is a testament to her dedication to the furthering of human knowledge of the natural world, rather than a preoccupation with fame and recognition."
   ]
  },
  {
   "cell_type": "markdown",
   "metadata": {},
   "source": [
    "Steve(Jobs or Wozniak)?"
   ]
  },
  {
   "cell_type": "markdown",
   "metadata": {},
   "source": [
    "I think Steve Jobs made greater contributions to technology. Although Wozniak engineered the first Apple computers, Jobs had the foresight to develop the Apple brand to encompass so much more than just PCs for hobbyists. Prhobitive price points aside, Jobs took technologies that were once a niche interest and put them in the homes (and hands) of regular people. Jobs never stopped looking for the next disruptive technology."
   ]
  },
  {
   "cell_type": "markdown",
   "metadata": {},
   "source": [
    "How might modern data science be disruptive to Global Affairs? "
   ]
  },
  {
   "cell_type": "markdown",
   "metadata": {},
   "source": [
    "Modern data science applications like machine learning and natural language processing pose a major challenge to global affairs in that no overarching regulatory framework yet exists for their legitimate use. Cyberspace transcends the physical borders through which we understand the international community, making standard setting and criminal prosecution equally difficult. In the future, governments and people will have to content with increasingly lifelike bots and convincing deepfakes. Truth as a concept is already on shaky ground as it is, but these new technologies will add an even greater challenge."
   ]
  },
  {
   "cell_type": "markdown",
   "metadata": {},
   "source": [
    "##  1.2 Use the Command Line to Build a Folder and File Tree\n",
    "\n",
    "In your main classroom Github repository on your local computer make a folder called SUBMISSIONS. Under this folder make a folder named week_01. This week_01 folder is where all of the submissions for this week will go.\n",
    "\n",
    "Please use the command line to build a folder tree with the below files within your week_01 folder as shown below.\n",
    "\n",
    "\n",
    "```python\n",
    "week_01\n",
    "|--answers.txt\n",
    "|--s1\n",
    "   |---s3\n",
    "   |   |---conf.txt\n",
    "   |---s2\n",
    "       |---text_chunk1.txt\n",
    "       |---Advanced\n",
    "           |---text_chunk2.txt\n",
    "```\n",
    "\n",
    "Record your commands in a text file named answers.txt and put this file in your week_01 folder\n",
    "\n",
    "s1, s2, s3, Advanced are folder (or directory) names (for example: under the week_01 folder will be the s1 folder and then the rest of the folder & file structure as shown above)\n",
    "\n",
    "Make a file named conf.txt that contains the sentence (without the quotes):\n",
    "\n",
    "\"I love bash scripting.\" \n",
    "\n",
    "Make a file named text_chunk1.txt have the following two lines (without the quotes):\n",
    "\n",
    "\"A whole new world\"\n",
    "\n",
    "\"A new fantastic point of view\"\n",
    "\n",
    "text_chunk2.txt is a copy of text_chunk1.txt with one extra text line appended (without the quotes)\n",
    "\n",
    "\"A whole new world\"\n",
    "\n",
    "\"A new fantastic point of view\"\n",
    "\n",
    "\"Do you want to build a snowman?\"\n",
    "\n",
    "Commit your answers to your repository."
   ]
  },
  {
   "cell_type": "code",
   "execution_count": 5,
   "metadata": {},
   "outputs": [
    {
     "ename": "SyntaxError",
     "evalue": "invalid syntax (<ipython-input-5-e87a7e0d406b>, line 1)",
     "output_type": "error",
     "traceback": [
      "\u001b[1;36m  File \u001b[1;32m\"<ipython-input-5-e87a7e0d406b>\"\u001b[1;36m, line \u001b[1;32m1\u001b[0m\n\u001b[1;33m    cd SUBMISSIONS\u001b[0m\n\u001b[1;37m       ^\u001b[0m\n\u001b[1;31mSyntaxError\u001b[0m\u001b[1;31m:\u001b[0m invalid syntax\n"
     ]
    }
   ],
   "source": []
  }
 ],
 "metadata": {
  "kernelspec": {
   "display_name": "Python 3",
   "language": "python",
   "name": "python3"
  },
  "language_info": {
   "codemirror_mode": {
    "name": "ipython",
    "version": 3
   },
   "file_extension": ".py",
   "mimetype": "text/x-python",
   "name": "python",
   "nbconvert_exporter": "python",
   "pygments_lexer": "ipython3",
   "version": "3.8.5"
  }
 },
 "nbformat": 4,
 "nbformat_minor": 4
}
