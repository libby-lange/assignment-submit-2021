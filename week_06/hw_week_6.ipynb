{
 "cells": [
  {
   "cell_type": "markdown",
   "metadata": {},
   "source": [
    "## 1.0 Dictionaries: 20pts"
   ]
  },
  {
   "cell_type": "markdown",
   "metadata": {},
   "source": [
    "1.1 (2pts) Create a Python dictionary, my_dict, with three key/value pairs (1:\"one\", 2:\"two\", 3:\"three\"). Then, print the result of calling the my_dict.items()."
   ]
  },
  {
   "cell_type": "code",
   "execution_count": null,
   "metadata": {},
   "outputs": [],
   "source": [
    "#Your code here:\n",
    "\n",
    "my_dict = {1:'one',\n",
    "          2:'two',\n",
    "          3:'three'}\n",
    "\n",
    "print(my_dict.items())"
   ]
  },
  {
   "cell_type": "markdown",
   "metadata": {},
   "source": [
    "1.2 (2pts) Now print the result of using .keys()"
   ]
  },
  {
   "cell_type": "code",
   "execution_count": null,
   "metadata": {},
   "outputs": [],
   "source": [
    "# Your code here:\n",
    "\n",
    "print(my_dict.keys())"
   ]
  },
  {
   "cell_type": "markdown",
   "metadata": {},
   "source": [
    "1.3 (2pts) Now print the result of using .values():"
   ]
  },
  {
   "cell_type": "code",
   "execution_count": null,
   "metadata": {},
   "outputs": [],
   "source": [
    "# Your code here:\n",
    "\n",
    "print(my_dict.values())"
   ]
  },
  {
   "cell_type": "markdown",
   "metadata": {},
   "source": [
    "1.4 (2pts) Use a for loop to print all of the values in the dictionary you create:"
   ]
  },
  {
   "cell_type": "code",
   "execution_count": null,
   "metadata": {},
   "outputs": [],
   "source": [
    "# Your code here:\n",
    "\n",
    "for value in my_dict.values(): #iterate over each value\n",
    "    print(value)"
   ]
  },
  {
   "cell_type": "markdown",
   "metadata": {},
   "source": [
    "1.5 (4pts) Given the following dictionary:\n",
    "\n",
    "inventory = {\n",
    "    'gold' : 500,\n",
    "    'pouch' : ['flint', 'twine', 'gemstone'],\n",
    "    'backpack' : ['xylophone','dagger', 'bedroll','bread loaf']\n",
    "}\n",
    "\n",
    "Do the followings:\n",
    "\n",
    "Add a key to inventory called 'pocket'.\n",
    "\n",
    "Set the value of 'pocket' to be a list consisting of the strings 'seashell', 'strange berry', and 'lint'.\n",
    "\n",
    ".sort( )the items in the list stored under the 'backpack' key.\n",
    "\n",
    "Then .remove('dagger') from the list of items stored under the 'backpack' key.\n",
    "Add 50 to the number stored under the 'gold' key."
   ]
  },
  {
   "cell_type": "code",
   "execution_count": null,
   "metadata": {},
   "outputs": [],
   "source": [
    "# Your code here: \n",
    "\n",
    "inventory = { 'gold' : 500, \n",
    "             'pouch' : ['flint', 'twine', 'gemstone'], \n",
    "             'backpack' : ['xylophone','dagger', 'bedroll','bread loaf'] }\n",
    "\n",
    "inventory['pocket'] = ['seashell', 'strange berry', 'lint'] #add new key w/ values\n",
    "inventory['backpack'].sort()\n",
    "del inventory['backpack'][2] #removes dagger from sorted position\n",
    "inventory['gold'] = inventory['gold'] + 50 #redefines gold by adding to int\n",
    "\n",
    "print(inventory)\n"
   ]
  },
  {
   "cell_type": "markdown",
   "metadata": {},
   "source": [
    "1.6 (4pts) Annotate each line of the following code:"
   ]
  },
  {
   "cell_type": "code",
   "execution_count": null,
   "metadata": {},
   "outputs": [],
   "source": [
    "count={}\n",
    "# Your annotation: assigns the tuple (1, 2, 4) in the dict count to the value 5\n",
    "count[(1,2,4)] = 5\n",
    "#Your annotation: assigns tuple (4, 2, 1) to the value 7\n",
    "count[(4,2,1)] = 7\n",
    "#Your annotation: assigns tuple (1, 2) to the value 6\n",
    "count[(1,2)] = 6\n",
    "#Your annotation: reassigns tuple (4, 2, 1) from value 7 to value 2\n",
    "count[(4,2,1)] = 2\n",
    "#Your annoation: create variable tot with an integer value\n",
    "tot = 0\n",
    "#Your annotation: iterate over each value in count\n",
    "for i in count:\n",
    "# Your annotation: add each value to tot\n",
    "    tot=tot+count[i]\n",
    "#Your annotation: print the sum of the number of entries in the dict (aka length) and tot\n",
    "print(len(count)+tot)"
   ]
  },
  {
   "cell_type": "markdown",
   "metadata": {},
   "source": [
    "1.7 (2 pts)\n",
    "Which of these about a dictionary is false?\n",
    "\n",
    "a) The values of a dictionary can be accessed using keys\n",
    "\n",
    "b) The keys of a dictionary can be accessed using values\n",
    "\n",
    "c) Dictionaries are ordered\n",
    "\n",
    "d) Dictionaries are mutable\n",
    "\n",
    "e) A dictionary can be inside a dictionary"
   ]
  },
  {
   "cell_type": "markdown",
   "metadata": {},
   "source": [
    "1.7\n",
    "\n",
    "a) true\n",
    "\n",
    "b) false\n",
    "\n",
    "c) false\n",
    "\n",
    "d) true\n",
    "\n",
    "e) true"
   ]
  },
  {
   "cell_type": "markdown",
   "metadata": {},
   "source": [
    "1.8 (2pts)\n",
    "\n",
    "Which of the following is not a declaration of the dictionary and why?\n",
    "\n",
    "a) {1: ‘A’, 2: ‘B’}\n",
    "\n",
    "b) dict( [ [1,”A”], [2,”B”] ] )\n",
    "\n",
    "c) {1,”A”,2”B”}\n",
    "\n",
    "d) { }"
   ]
  },
  {
   "cell_type": "markdown",
   "metadata": {},
   "source": [
    "1.8 \n",
    "\n",
    "C is not a declaration of a dictionary because it uses the curly brackets to declare a dictionary but does not separate keys and values with a colon. Thus, it is actually a set."
   ]
  },
  {
   "cell_type": "markdown",
   "metadata": {},
   "source": [
    "## 2.0 Functions"
   ]
  },
  {
   "cell_type": "markdown",
   "metadata": {},
   "source": [
    "2.1a (3pts) Write a Python function to sum all the numbers in a list."
   ]
  },
  {
   "cell_type": "code",
   "execution_count": null,
   "metadata": {},
   "outputs": [],
   "source": [
    "# Your code here: \n",
    "\n",
    "num_list = [2, 9, 12, 54, 32, 76]\n",
    "total = 0\n",
    "\n",
    "def add_all(nums, tot): #feed 2 arguments\n",
    "    '''a function to add all numbers\n",
    "    in a list together'''\n",
    "    for num in nums: #iterate over each number\n",
    "        tot += num #add the number to the total\n",
    "    return tot #then return the total at the end\n",
    "    \n",
    "add_all(num_list, total)\n",
    "    \n",
    "        "
   ]
  },
  {
   "cell_type": "markdown",
   "metadata": {},
   "source": [
    "2.1b (3pts) Write a Python function to check if a rectangle is a square given width and height."
   ]
  },
  {
   "cell_type": "code",
   "execution_count": null,
   "metadata": {},
   "outputs": [],
   "source": [
    "# Your code here: \n",
    "\n",
    "w = int(input('Please enter a width: '))\n",
    "h = int(input('Please enter a height: '))\n",
    "\n",
    "def is_square(width, height):\n",
    "    '''a function to determine whether\n",
    "    a rectangle is a square'''\n",
    "    \n",
    "    if width == height: #if parameters are equal it's a square\n",
    "        print('It\\'s a square!')\n",
    "        \n",
    "    else:\n",
    "        print('It\\'s just a rectangle.')\n",
    "        \n",
    "is_square(w, h)\n",
    "    "
   ]
  },
  {
   "cell_type": "markdown",
   "metadata": {},
   "source": [
    "2.2 (20pts) A Flexible \"Scoring\" Function\n",
    "\n",
    "The following code defines a list of names and also contains a header for the function best. The best function takes two arguments: a generic scoring function, score, and a list of strings, names. (Yes, a function can be passed in as a parameter to another function, specifiying the criteria to \"score\" on) Fill in the function so that it applies a score function to each string in the names list and returns the name with the highest score. If there are ties in the list, your function should return the first item with the maximum score. The best function needs to be designed so that it can take any scoring function and return the name with the highest score.\n",
    "\n",
    "For this question, define a function called len_score that returns the length of a word. Call the best function with the len_score function as a parameter.\n",
    "\n",
    "Example:\n",
    "\n",
    "print(best(len_score, names), \"has the longest name.\")\n",
    "\n",
    "McJagger has the longest name."
   ]
  },
  {
   "cell_type": "code",
   "execution_count": null,
   "metadata": {},
   "outputs": [],
   "source": [
    "# Your code here: \n",
    "\n",
    "names = ['Leonardo', 'Donatello', 'Raphael', 'Michelangelo']\n",
    "\n",
    "\n",
    "\n",
    "def len_score(name):\n",
    "    '''a function to find the length of \n",
    "    each name'''\n",
    "    \n",
    "    return len(name)\n",
    "\n",
    "def best(score, names):     #takes function and list as args\n",
    "    '''a function to find the highest\n",
    "    score of another function'''\n",
    "    current_score = 0     #start the score at 0\n",
    "    for name in names:\n",
    "        if score(name) > current_score:    #if len(name) is greater than current score\n",
    "            current_score = score(name)    #replace current score\n",
    "    return name    #give the name that corresponds w/ this score\n",
    "\n",
    "  \n",
    "\n",
    "print(best(len_score, names), 'has the longest name.')"
   ]
  },
  {
   "cell_type": "markdown",
   "metadata": {},
   "source": [
    "2.3 (20pts)Using Our Flexible Function\n",
    "\n",
    "NOTE: Do not change your best function from the answer in 5-3-1 above! The best function should be able to take any scoring function and return the result. (you also do not need to copy your best function from above - we will run the cell above and then this cell in succession)\n",
    "\n",
    "Define a function, number_of_vowels, that returns the number of vowels in a string. Use it with your best function to find the name in names with the most vowels.\n",
    "\n",
    "See how easy it is to change the score function for different functionalities!\n",
    "\n",
    "Example:\n",
    "\n",
    "print(best(number_of_vowels, names), \"has the most vowels.\")\n",
    "\n",
    "Alexis has the most vowels.\n",
    "\n"
   ]
  },
  {
   "cell_type": "code",
   "execution_count": null,
   "metadata": {},
   "outputs": [],
   "source": [
    "# Your code here:\n",
    "\n",
    "def number_of_vowels(name):\n",
    "    '''a function to find the number of \n",
    "    vowels in a word'''\n",
    "    \n",
    "    num_vowels = 0 #start the count at 0\n",
    "    for name in names:\n",
    "        for letter in name: #iterate over each character in each word\n",
    "            num_vowels += len([letter for letter in name if letter in 'aeiou']) #add the number of vowels from each word\n",
    "            return num_vowels #then return this number aka len(vowels)\n",
    "           \n",
    "print(best(number_of_vowels, names), 'has the most vowels.')        "
   ]
  },
  {
   "cell_type": "markdown",
   "metadata": {},
   "source": [
    "\n",
    "2.4a (10pts) Raising Exceptions (read through and understand)\n",
    "\n",
    "Below is a function called weighted_avg that takes a list of grades and a corresponding list of weights and returns the weighted average of the grades. The function raises what is called an \"exception\" if:\n",
    "\n",
    "    a weight is less than 0 or greater than 100\n",
    "    the weights do not add to 100\n",
    "    the number of weights and grades are not equal\n",
    "    a grade is below 0 (grades above 100 would be considered extra credit and are acceptable)\n"
   ]
  },
  {
   "cell_type": "code",
   "execution_count": null,
   "metadata": {},
   "outputs": [],
   "source": [
    "def weighted_avg(grades,weights):\n",
    " \n",
    "    if any(weight < 0 or weight > 100 for weight in weights):\n",
    "        raise Exception (\"Error: A weight is less than 0 or greater than 100\")\n",
    "\n",
    "    elif sum(weights) != 100:\n",
    "        raise Exception (\"Error: The weights do not add to 100\")\n",
    "\n",
    "    elif len(grades) != len(weights):\n",
    "        raise Exception (\"Error: The number of weights and grades are not equal\")\n",
    "\n",
    "    elif any (grade < 0 for grade in grades):\n",
    "        raise Exception (\"Error: A grade is below 0\")\n",
    "\n",
    "    else:\n",
    "        avg = 0\n",
    "        for i in range(len(grades)):\n",
    "            avg += grades[i] * (weights[i] / 100)\n",
    "        return avg   \n",
    "\n",
    "grades1 = [88,99,100,70]\n",
    "weights1 = [30, 30, 30, 5]\n",
    "\n",
    "grades2 = [78, 75, 80, 99]\n",
    "weights2 = [110, 10, -20, 0]\n",
    "\n",
    "grades3 = [84, 80, 67, 97]\n",
    "weights3 = [50, 25, 25]\n",
    "\n",
    "grades4 = [100, 80, 90, 75]\n",
    "weights4 = [20, 25, 25, 30]\n"
   ]
  },
  {
   "cell_type": "markdown",
   "metadata": {},
   "source": [
    "2.4b (10pts) Catching Exceptions (read through and understand)\n",
    "\n",
    "Below is a try...except... procedure to catch an exception or an error.\n",
    "\n",
    "The program tries to execute the weighted_avg function, but the sum of weights is not 100, so it raised an error/exception. Normally, the execution stops. However, with an \"except\" statement, it catches the exception if it arises and keeps executing with the backup plan. This is useful when trying to scrape information from a website to ensure you have a backup plan to resume execution if you fail to connect to the web server or you did not get the desired information. "
   ]
  },
  {
   "cell_type": "code",
   "execution_count": null,
   "metadata": {},
   "outputs": [],
   "source": [
    "grades5 = [100, 80, 90, 75]\n",
    "weights5 = [20, 20, 25, 30]\n",
    "\n",
    "import sys\n",
    "try:\n",
    "    weighted_avg(grades5, weights5)\n",
    "except:\n",
    "    e = sys.exc_info()[0]\n",
    "    print( \"<p>Error: %s</p>\" % e )"
   ]
  },
  {
   "cell_type": "code",
   "execution_count": null,
   "metadata": {},
   "outputs": [],
   "source": [
    "# Did the above code make sense? Your answer here: \n",
    "#Yes, but I would like to know more about how often this is used.\n",
    "#Is this just general practice for all coders to avoid having to search through their code to debug?\n",
    "#It seems like it would save a lot of time, so I'm wondering if there are any downsides."
   ]
  },
  {
   "cell_type": "markdown",
   "metadata": {},
   "source": [
    "2.5 (10pts) Create a function that concatenates strings.\n"
   ]
  },
  {
   "cell_type": "code",
   "execution_count": null,
   "metadata": {},
   "outputs": [],
   "source": [
    "# Your code here:\n",
    "string1 = 'I would walk 500 miles '\n",
    "string2 = 'and I would walk 500 more.'\n",
    "\n",
    "def concat(one, two):\n",
    "    '''a function to concatenate strings'''\n",
    "    \n",
    "    return one + two #adds two together\n",
    "\n",
    "concat(string1, string2) #give the function the 2 strings as parameters"
   ]
  },
  {
   "cell_type": "markdown",
   "metadata": {},
   "source": [
    "2.6 (10pts) As the end of COVID-19, use functions to calculate trip costs:\n",
    "\n",
    "Define a function called hotel_cost with one argument nights as input. \n",
    "\n",
    "The hotel costs $140 per night. So, the function hotel_cost should return 140 * nights.\n",
    "\n",
    "Define a function called plane_ride_cost that takes a string, city, as input. The function should return a different price depending on the location, similar to the code example above. Below are the valid destinations and their corresponding round-trip prices.\n",
    "\n",
    "\"Charlotte\": 183\n",
    "\"Tampa\": 220\n",
    "\"Pittsburgh\": 222\n",
    "\"Los Angeles\": 475\n",
    "\n",
    "-Below your existing code, define a function called rental_car_cost with an argument called days. \n",
    "\n",
    "Calculate the cost of renting the car: Every day you rent the car costs $28.(cost=40*days) if you rent the car for 7 or more days, you get $75 off your total(cost-=75). \n",
    "\n",
    "Alternatively (elif), if you rent the car for 3 or more days, you get $20 off your total. \n",
    "\n",
    "You cannot get both of the above discounts. Return that cost. \n",
    "-Then, define a function called trip_cost that takes two arguments, city and days. Like the example above, have your function return the sum of calling the rental_car_cost(days), hotel_cost(days), and plane_ride_cost(city) functions.\n",
    "\n",
    "Modify your trip_cost function definion. \n",
    "\n",
    "Add a third argument, spending_money. \n",
    "\n",
    "Modify what the trip_cost function does. \n",
    "\n",
    "Add the variable spending_money to the sum that it returns.\n"
   ]
  },
  {
   "cell_type": "code",
   "execution_count": null,
   "metadata": {},
   "outputs": [],
   "source": [
    "cities = {\"Charlotte\": 183, \"Tampa\": 220, \"Pittsburgh\": 222, \"Los Angeles\": 475}\n",
    "\n",
    "def hotel_cost(days):\n",
    "    '''Calculates cost of hotel'''\n",
    "    return days * 140 #changed arg to days to match with final total cost function\n",
    "\n",
    "def plane_ride_cost(city):\n",
    "    '''Gives value that corresponds with city key'''\n",
    "    return cities[city] #returns value according to key entered as parameter\n",
    "\n",
    "def rental_car_cost(days):\n",
    "    '''Calculates rental cost by number of \n",
    "    days used'''\n",
    "    if days < 3: #cost without discounts\n",
    "        return days * 28\n",
    "    elif days >= 3 and days < 7: #cost for 3-7 day discount\n",
    "        return days * 28 - 20\n",
    "    else:  #discount for anything over 7 days\n",
    "        return days * 28 - 75\n",
    "    \n",
    "def trip_cost(city, days, spending_money): \n",
    "    '''Adds together all costs according to parameters,\n",
    "    modified to include spending money'''\n",
    "    return hotel_cost(days) + plane_ride_cost(city) + rental_car_cost(days) + spending_money\n",
    "\n",
    "print('The total cost of your trip is', trip_cost('Tampa', 10, 60), 'dollars.')"
   ]
  },
  {
   "cell_type": "code",
   "execution_count": null,
   "metadata": {},
   "outputs": [],
   "source": []
  }
 ],
 "metadata": {
  "kernelspec": {
   "display_name": "Python 3",
   "language": "python",
   "name": "python3"
  },
  "language_info": {
   "codemirror_mode": {
    "name": "ipython",
    "version": 3
   },
   "file_extension": ".py",
   "mimetype": "text/x-python",
   "name": "python",
   "nbconvert_exporter": "python",
   "pygments_lexer": "ipython3",
   "version": "3.8.5"
  }
 },
 "nbformat": 4,
 "nbformat_minor": 2
}
