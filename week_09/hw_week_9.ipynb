{
 "cells": [
  {
   "cell_type": "markdown",
   "metadata": {},
   "source": [
    "## Homework 9 (Due April 29th - Two weeks from now)\n",
    "  ### Putting it all together(at last!)\n",
    "\n",
    "**** DANGER!!! ****\n",
    "***DO NOT PUSH THE CSV file TO YOUR REPO!!! IT WILL BREAK IT and YOU WILL HAVE TO DO A LOT OF WORK TO RESET YOUR REPO***"
   ]
  },
  {
   "cell_type": "markdown",
   "metadata": {},
   "source": [
    "## Objectives\n",
    "\n",
    "- Explore and glean insights from a real dataset using pandas\n",
    "- Practice using pandas for exploratory analysis, information gathering, and discovery\n",
    "- Practice using matplotlib for data visualization"
   ]
  },
  {
   "cell_type": "markdown",
   "metadata": {},
   "source": [
    "## Dataset\n",
    "\n",
    "You are to analyze campaign contributions to the 2016 U.S. presidential primary races made in California. Use the csv file located here: https://drive.google.com/file/d/1Lgg-PwXQ6TQLDowd6XyBxZw5g1NGWPjB/view?usp=sharing. You should download and save this file in the same folder as this notebook is stored.  This file originally came from the U.S. Federal Election Commission (https://www.fec.gov/).\n",
    "\n",
    "** DO NOT PUSH THIS FILE TO YOUR GITHUB REPO !!! ** IF YOU DO>>>>IT WILL BREAK YOUR REPO AND YOU'LL HAVE TO DO A LOT OF WORK TO FIX IT!!!\n",
    "\n",
    "Documentation for this data can be found here: https://drive.google.com/file/d/11o_SByceenv0NgNMstM-dxC1jL7I9fHL/view?usp=sharing"
   ]
  },
  {
   "cell_type": "markdown",
   "metadata": {},
   "source": [
    "## General Guidelines:\n",
    "\n",
    "- This is a **real** dataset and so it may contain errors and other pecularities to work through\n",
    "- This dataset is ~218mb, which will take some time to load (and probably won't load in Google Sheets or Excel)\n",
    "- If you make assumptions, annotate them in your responses\n",
    "- While there is one code/markdown cell positioned after each question as a placeholder, some of your code/responses may require multiple cells\n",
    "- Double-click the markdown cells that say YOUR ANSWER HERE to enter your written answers. If you need more cells for your written answers, make them markdown cells (rather than code cells)"
   ]
  },
  {
   "cell_type": "markdown",
   "metadata": {},
   "source": [
    "## Setup\n",
    "\n",
    "Run the two cells below. \n",
    "\n",
    "The first cell will load the data into a pandas dataframe named `contrib`. Note that a custom date parser is defined to speed up loading. If Python were to guess the date format, it would take even longer to load.  \n",
    "\n",
    "The second cell subsets the dataframe to focus on just the primary period through May 2016. Otherwise, we would see general election donations which would make it harder to draw conclusions about the primaries."
   ]
  },
  {
   "cell_type": "code",
   "execution_count": 1,
   "metadata": {},
   "outputs": [
    {
     "name": "stderr",
     "output_type": "stream",
     "text": [
      "C:\\Users\\Libby\\anaconda3\\lib\\site-packages\\IPython\\core\\interactiveshell.py:3146: DtypeWarning: Columns (6,11,12) have mixed types.Specify dtype option on import or set low_memory=False.\n",
      "  has_raised = await self.run_ast_nodes(code_ast.body, cell_name,\n",
      "<ipython-input-1-53e35c6b6473>:11: FutureWarning: The pandas.datetime class is deprecated and will be removed from pandas in a future version. Import from datetime module instead.\n",
      "  d = lambda x: pd.datetime.strptime(x, '%d-%b-%y')\n"
     ]
    },
    {
     "name": "stdout",
     "output_type": "stream",
     "text": [
      "(1125659, 18)\n"
     ]
    }
   ],
   "source": [
    "import pandas as pd\n",
    "import matplotlib.pyplot as plt\n",
    "import datetime\n",
    "\n",
    "# These commands below set some options for pandas and to have matplotlib show the charts in the notebook\n",
    "pd.set_option('display.max_rows', 1000)\n",
    "pd.options.display.float_format = '{:,.2f}'.format\n",
    "%matplotlib inline\n",
    "\n",
    "# Define a date parser to pass to read_csv\n",
    "d = lambda x: pd.datetime.strptime(x, '%d-%b-%y')\n",
    "\n",
    "# Load the data\n",
    "contrib = pd.read_csv('./P00000001-CA.csv', index_col=False, parse_dates=['contb_receipt_dt'], date_parser=d)\n",
    "print(contrib.shape)\n",
    "\n",
    "# Note - for now, it is okay to ignore the warning about mixed types. "
   ]
  },
  {
   "cell_type": "code",
   "execution_count": 2,
   "metadata": {},
   "outputs": [
    {
     "name": "stdout",
     "output_type": "stream",
     "text": [
      "(654502, 18)\n"
     ]
    }
   ],
   "source": [
    "# Subset data to primary period \n",
    "contrib = contrib.copy()[contrib['contb_receipt_dt'] <= datetime.datetime(2016, 5, 31)]\n",
    "print(contrib.shape)"
   ]
  },
  {
   "cell_type": "markdown",
   "metadata": {},
   "source": [
    "## 1. Data  Exploration (20 points)\n",
    "\n",
    "**1a. First, take a preliminary look at the data.**\n",
    "- Print the *shape* of the data. What does this tell you about the number of variables and rows you have?\n",
    "- Print a list of column names. \n",
    "- Review the documentation for this data (link above). Do you have all of the columns you expect to have? What does each column mean?\n",
    "- Sometimes variable names are not clear unless we read the documentation. In your own words, based on the documentation, what information does the `election_tp` variable contain?"
   ]
  },
  {
   "cell_type": "code",
   "execution_count": 62,
   "metadata": {
    "deletable": false,
    "nbgrader": {
     "checksum": "9f7a7938e43b14d3c7c49d6a278b0bb1",
     "grade": true,
     "grade_id": "cell-5d017805206f18b1",
     "locked": false,
     "points": 0,
     "schema_version": 1,
     "solution": true
    }
   },
   "outputs": [
    {
     "name": "stdout",
     "output_type": "stream",
     "text": [
      "(654502, 18)\n"
     ]
    }
   ],
   "source": [
    "# 1a YOUR CODE HERE\n",
    "print(contrib.shape)"
   ]
  },
  {
   "cell_type": "code",
   "execution_count": 63,
   "metadata": {},
   "outputs": [
    {
     "name": "stdout",
     "output_type": "stream",
     "text": [
      "cmte_id\n",
      "cand_id\n",
      "cand_nm\n",
      "contbr_nm\n",
      "contbr_city\n",
      "contbr_st\n",
      "contbr_zip\n",
      "contbr_employer\n",
      "contbr_occupation\n",
      "contb_receipt_amt\n",
      "contb_receipt_dt\n",
      "receipt_desc\n",
      "memo_cd\n",
      "memo_text\n",
      "form_tp\n",
      "file_num\n",
      "tran_id\n",
      "election_tp\n"
     ]
    }
   ],
   "source": [
    "for column in contrib.columns: #iterate over column names\n",
    "    print(column)"
   ]
  },
  {
   "cell_type": "markdown",
   "metadata": {
    "deletable": false,
    "nbgrader": {
     "checksum": "e6a198453ec4b0171a064fef0bd7c678",
     "grade": true,
     "grade_id": "cell-3bc26919169bf4aa",
     "locked": false,
     "points": 5,
     "schema_version": 1,
     "solution": true
    }
   },
   "source": [
    "`1a YOUR RESPONSE HERE`\n",
    "The shape of the data returns the tuple (654502, 18). This tells us that there are 654,502 rows, or entries, and 18 columns, or variables.\n",
    "\n",
    "This data provides columns for committee ID and candidate ID, which are codes assigned by the FEC; the candidate's name; the contributor's name; the city, state, and zip code of the contributor; the contributor's occupation; the amount and date of contribution received; additional notes about the contribution provided by the FEC; a memo code noting whether there is additional information; memo text, which is the additional information if applicable; the form type of the contribution; the file number and transaction ID assigned by the FEC; and what type of election the contribution was for. If I had to identify a column I think is missing, it would probably be a cumulative contribution column that keeps track of multiple contributions by the same donor (in light of campaign finance laws).\n",
    "\n",
    "The election_tp variable provides information on what kind of election the contribution was provided for: primary, general, other, convention, runoff, special, recount. It assigns each of these a one-letter code which is combined with the year of the election for which the contribution was made."
   ]
  },
  {
   "cell_type": "markdown",
   "metadata": {},
   "source": [
    "**1b. Print the first 5 rows from the dataset using head() to manually look through some of your data.**"
   ]
  },
  {
   "cell_type": "code",
   "execution_count": 64,
   "metadata": {
    "deletable": false,
    "nbgrader": {
     "checksum": "4fbf682f1c78b3614832c6f48ecd88c7",
     "grade": true,
     "grade_id": "cell-72bc97601b84f17d",
     "locked": false,
     "points": 5,
     "schema_version": 1,
     "solution": true
    }
   },
   "outputs": [
    {
     "name": "stdout",
     "output_type": "stream",
     "text": [
      "     cmte_id    cand_id                  cand_nm          contbr_nm  \\\n",
      "0  C00575795  P00003392  Clinton, Hillary Rodham         AULL, ANNE   \n",
      "1  C00575795  P00003392  Clinton, Hillary Rodham  CARROLL, MARYJEAN   \n",
      "2  C00575795  P00003392  Clinton, Hillary Rodham   GANDARA, DESIREE   \n",
      "3  C00577130  P60007168         Sanders, Bernard          LEE, ALAN   \n",
      "4  C00577130  P60007168         Sanders, Bernard   LEONELLI, ODETTE   \n",
      "\n",
      "     contbr_city contbr_st     contbr_zip            contbr_employer  \\\n",
      "0       LARKSPUR        CA 949,391,913.00                        NaN   \n",
      "1        CAMBRIA        CA 934,284,638.00                        NaN   \n",
      "2        FONTANA        CA 923,371,507.00                        NaN   \n",
      "3      CAMARILLO        CA 930,111,214.00  AT&T GOVERNMENT SOLUTIONS   \n",
      "4  REDONDO BEACH        CA 902,784,310.00   VERICOR ENTERPRISES INC.   \n",
      "\n",
      "   contbr_occupation  contb_receipt_amt contb_receipt_dt receipt_desc memo_cd  \\\n",
      "0            RETIRED              50.00       2016-04-26          NaN       X   \n",
      "1            RETIRED             200.00       2016-04-20          NaN       X   \n",
      "2            RETIRED               5.00       2016-04-02          NaN       X   \n",
      "3  SOFTWARE ENGINEER              40.00       2016-03-04          NaN     NaN   \n",
      "4         PHARMACIST              35.00       2016-03-05          NaN     NaN   \n",
      "\n",
      "                             memo_text form_tp  file_num      tran_id  \\\n",
      "0               * HILLARY VICTORY FUND    SA18   1091718     C4768722   \n",
      "1               * HILLARY VICTORY FUND    SA18   1091718     C4747242   \n",
      "2               * HILLARY VICTORY FUND    SA18   1091718     C4666603   \n",
      "3  * EARMARKED CONTRIBUTION: SEE BELOW   SA17A   1077404  VPF7BKWA097   \n",
      "4  * EARMARKED CONTRIBUTION: SEE BELOW   SA17A   1077404  VPF7BKX3MB3   \n",
      "\n",
      "  election_tp  \n",
      "0       P2016  \n",
      "1       P2016  \n",
      "2       P2016  \n",
      "3       P2016  \n",
      "4       P2016  \n"
     ]
    }
   ],
   "source": [
    "# 1b YOUR CODE HERE\n",
    "print(contrib.head())"
   ]
  },
  {
   "cell_type": "markdown",
   "metadata": {},
   "source": [
    "**1c. Pick three variables from the dataset above and run some quick sanity checks.**\n",
    "\n",
    "When working with a new dataset, it is important to explore and sanity check your variables.  For example, you may want to examine the maximum and minimum values, a frequency count, or something else. Use markdown cells to explain if your sanity checks \"pass\" your scrutiny or if you have concerns about the integrity of your data. "
   ]
  },
  {
   "cell_type": "code",
   "execution_count": 65,
   "metadata": {
    "deletable": false,
    "nbgrader": {
     "checksum": "0ec29a2cabd52709322d1cfd650babe7",
     "grade": true,
     "grade_id": "cell-23b51536d24c1645",
     "locked": false,
     "points": 0,
     "schema_version": 1,
     "solution": true
    }
   },
   "outputs": [
    {
     "name": "stdout",
     "output_type": "stream",
     "text": [
      "10800.0\n",
      "-10000.0\n"
     ]
    }
   ],
   "source": [
    "# 1c YOUR CODE HERE for variable #1\n",
    "\n",
    "contrib_max = contrib['contb_receipt_amt'].max() #checks largest contribution amount\n",
    "contrib_min = contrib['contb_receipt_amt'].min() #checks smallest\n",
    "\n",
    "print(contrib_max)\n",
    "print(contrib_min)\n",
    "\n"
   ]
  },
  {
   "cell_type": "markdown",
   "metadata": {},
   "source": [
    "The max contribution amount passes the sanity test in my opinion. However, the minimum amount -$10,000 does seem concerning. I am not sure what a negative campaign contribution would be. Perhaps a candidate refunded a contribution?"
   ]
  },
  {
   "cell_type": "code",
   "execution_count": 66,
   "metadata": {},
   "outputs": [],
   "source": [
    "# 1c YOUR CODE HERE for variable #2\n",
    "\n",
    "for value in contrib['contbr_st']:\n",
    "    if value != 'CA':\n",
    "        print(value)"
   ]
  },
  {
   "cell_type": "markdown",
   "metadata": {},
   "source": [
    "This variable passes the sanity test. I wanted to check the contributor state column to make sure there were not any values other than 'CA', since this data is supposed to be for California only."
   ]
  },
  {
   "cell_type": "code",
   "execution_count": 67,
   "metadata": {},
   "outputs": [
    {
     "name": "stdout",
     "output_type": "stream",
     "text": [
      "SA17A    629741\n",
      "SA18      20240\n",
      "SB28A      4521\n",
      "Name: form_tp, dtype: int64\n"
     ]
    }
   ],
   "source": [
    "# 1c YOUR CODE HERE for variable #3\n",
    "\n",
    "form_count = contrib['form_tp'].value_counts()\n",
    "\n",
    "print(form_count)\n"
   ]
  },
  {
   "cell_type": "markdown",
   "metadata": {
    "deletable": false,
    "nbgrader": {
     "checksum": "cfa64002e64474584dc1442b5a39b460",
     "grade": true,
     "grade_id": "cell-8a320c2ff7c24d98",
     "locked": false,
     "points": 0,
     "schema_version": 1,
     "solution": true
    }
   },
   "source": [
    "`1c YOUR RESPONSE HERE`\n",
    "\n",
    "For my third variable, I wanted to confirm that the documentation for the spreadsheet was correct that there were only 3 possible responses for the variable form_tp. The results pass the sanity check as there weren't any unexpected values."
   ]
  },
  {
   "cell_type": "markdown",
   "metadata": {},
   "source": [
    "**1d. Plotting a histogram** \n",
    "\n",
    "Make a histogram of **three** of the variables you picked above. What are some insights that you can see from this histogram? What information do you get for the sanity check that is not shown in the histogram? \n",
    "Remember to include on your histogram:\n",
    "- Include a title\n",
    "- Include axis labels\n",
    "- The correct number of bins to see the breakout of values\n",
    "- Hint: For some variables the range of values is very large. To do a better exploration, make the initial histogram the full range and then you can make a smaller histogram 'zoomed' in on a discreet range."
   ]
  },
  {
   "cell_type": "code",
   "execution_count": 68,
   "metadata": {},
   "outputs": [
    {
     "data": {
      "text/plain": [
       "Text(0, 0.5, 'Number of Donors')"
      ]
     },
     "execution_count": 68,
     "metadata": {},
     "output_type": "execute_result"
    },
    {
     "data": {
      "image/png": "[encoded data removed]",
      "text/plain": [
       "<Figure size 864x720 with 3 Axes>"
      ]
     },
     "metadata": {
      "needs_background": "light"
     },
     "output_type": "display_data"
    }
   ],
   "source": [
    "# 1d YOUR CODE HERE\n",
    "\n",
    "fig = plt.figure(figsize= (12, 10))\n",
    "ax1 = fig.add_subplot(2, 2, 1)\n",
    "ax2 = fig.add_subplot(2, 2, 2)\n",
    "ax3 = fig.add_subplot(2, 2, 3)\n",
    "ax1.hist(contrib.contb_receipt_amt)\n",
    "ax2.hist(contrib.contbr_st)\n",
    "ax3.hist(contrib.form_tp)\n",
    "\n",
    "ax1.set_title('Contribution Amounts')\n",
    "ax1.set_xlabel('Dollar Amount')\n",
    "ax1.set_ylabel('Number of Donors')\n",
    "ax2.set_title('State of Contributor')\n",
    "ax2.set_xlabel('State Abbreviation')\n",
    "ax2.set_ylabel('Number of Donors')\n",
    "ax3.set_title('Form Number')\n",
    "ax3.set_xlabel('Form Number')\n",
    "ax3.set_ylabel('Number of Donors')"
   ]
  },
  {
   "cell_type": "code",
   "execution_count": 80,
   "metadata": {},
   "outputs": [
    {
     "data": {
      "text/plain": [
       "Text(0, 0.5, 'Number of Donors')"
      ]
     },
     "execution_count": 80,
     "metadata": {},
     "output_type": "execute_result"
    },
    {
     "data": {
      "image/png": "[encoded data removed]",
      "text/plain": [
       "<Figure size 432x288 with 1 Axes>"
      ]
     },
     "metadata": {
      "needs_background": "light"
     },
     "output_type": "display_data"
    }
   ],
   "source": [
    "plt.xlim(-500, 1500)\n",
    "#set limits around most common contrib amt\n",
    "plt.hist(contrib.contb_receipt_amt, edgecolor='black', bins=50)\n",
    "#change bin number to get more exact shape\n",
    "plt.xlabel('Dollar Amount')\n",
    "plt.ylabel('Number of Donors')\n"
   ]
  },
  {
   "cell_type": "markdown",
   "metadata": {},
   "source": [
    "`1d YOUR RESPONSE HERE`\n",
    "\n",
    "The contribution amounts histogram is not as informative as the sanity check because viewed from a fully zoomed out standpoint, you can't see the large negative values. Even when you zoom in on the data, the bar widths make it difficult to determine how many people actually contributed what amounts."
   ]
  },
  {
   "cell_type": "markdown",
   "metadata": {},
   "source": [
    "## 2. Exploring Campaign Contributions (30 points)\n",
    "\n",
    "Let's investigate the donations to the candidates.\n",
    "\n",
    "**2a. Present a table that shows the number of donations to each candidate sorted by number of donations.**\n",
    "\n",
    "- When presenting data as a table, it is often best to sort the data in a meaningful way. This makes it easier for your reader to examine what you've done and to glean insights.  From now on, all tables that you present in this assignment (and course) should be sorted.\n",
    "- Hint: Use the `groupby` method.\n",
    "- Hint: Use the `sort_values` method to sort the data so that candidates with the largest number of donations appear on top. \n",
    "\n",
    "Which candidate received the largest number of contributions (variable 'contb_receipt_amt')?"
   ]
  },
  {
   "cell_type": "code",
   "execution_count": 81,
   "metadata": {
    "deletable": false,
    "nbgrader": {
     "checksum": "442b24601da06376c43cbe6ef5c5348a",
     "grade": true,
     "grade_id": "cell-6a453219105384dd",
     "locked": false,
     "points": 0,
     "schema_version": 1,
     "solution": true
    }
   },
   "outputs": [
    {
     "data": {
      "text/plain": [
       "cand_nm\n",
       "Sanders, Bernard             371795\n",
       "Clinton, Hillary Rodham      163509\n",
       "Cruz, Rafael Edward 'Ted'     57136\n",
       "Carson, Benjamin S.           27342\n",
       "Rubio, Marco                  14089\n",
       "Fiorina, Carly                 4696\n",
       "Paul, Rand                     4256\n",
       "Bush, Jeb                      3114\n",
       "Kasich, John R.                2988\n",
       "Trump, Donald J.               2255\n",
       "Walker, Scott                   713\n",
       "Huckabee, Mike                  531\n",
       "O'Malley, Martin Joseph         397\n",
       "Lessig, Lawrence                372\n",
       "Graham, Lindsey O.              342\n",
       "Christie, Christopher J.        333\n",
       "Stein, Jill                     197\n",
       "Perry, James R. (Rick)          116\n",
       "Webb, James Henry Jr.           106\n",
       "Santorum, Richard J.             84\n",
       "Johnson, Gary                    77\n",
       "Jindal, Bobby                    31\n",
       "Pataki, George E.                20\n",
       "Gilmore, James S III              3\n",
       "Name: contb_receipt_amt, dtype: int64"
      ]
     },
     "execution_count": 81,
     "metadata": {},
     "output_type": "execute_result"
    }
   ],
   "source": [
    "# 2a YOUR CODE HERE\n",
    "\n",
    "#groups using name and number of entries through count method\n",
    "contrib_grouped = contrib.groupby('cand_nm')['contb_receipt_amt'].count() \n",
    "\n",
    "contrib_grouped.sort_values(ascending=False)\n",
    "#sort in descending order to show most first"
   ]
  },
  {
   "cell_type": "markdown",
   "metadata": {
    "deletable": false,
    "nbgrader": {
     "checksum": "c5a1b7f30648cced7269ccb9b1532bd6",
     "grade": true,
     "grade_id": "cell-90c49bd6471a3dc9",
     "locked": false,
     "points": 0,
     "schema_version": 1,
     "solution": true
    }
   },
   "source": [
    "`2a YOUR RESPONSE HERE`\n",
    "\n",
    "Bernie Sanders received the largest number of contributions."
   ]
  },
  {
   "cell_type": "markdown",
   "metadata": {},
   "source": [
    "**2b. Now, present a table that shows the total value of donations to each candidate. sorted by total value of the donations**\n",
    "\n",
    "Which candidate raised the most money in California?"
   ]
  },
  {
   "cell_type": "code",
   "execution_count": 82,
   "metadata": {},
   "outputs": [
    {
     "data": {
      "text/plain": [
       "cand_nm\n",
       "Clinton, Hillary Rodham     39,368,777.01\n",
       "Sanders, Bernard            18,773,871.31\n",
       "Cruz, Rafael Edward 'Ted'    6,286,460.34\n",
       "Rubio, Marco                 4,846,483.72\n",
       "Bush, Jeb                    3,325,536.83\n",
       "Carson, Benjamin S.          2,952,109.00\n",
       "Kasich, John R.              1,553,823.54\n",
       "Fiorina, Carly               1,468,489.42\n",
       "Trump, Donald J.               893,356.89\n",
       "Paul, Rand                     797,624.29\n",
       "Walker, Scott                  495,006.90\n",
       "Christie, Christopher J.       456,066.00\n",
       "Graham, Lindsey O.             408,595.00\n",
       "O'Malley, Martin Joseph        297,834.26\n",
       "Huckabee, Mike                 230,890.60\n",
       "Perry, James R. (Rick)         208,400.00\n",
       "Lessig, Lawrence               186,144.50\n",
       "Webb, James Henry Jr.           76,568.16\n",
       "Johnson, Gary                   41,187.60\n",
       "Santorum, Richard J.            36,304.88\n",
       "Pataki, George E.               30,450.00\n",
       "Stein, Jill                     27,918.00\n",
       "Jindal, Bobby                   23,231.26\n",
       "Gilmore, James S III             8,100.00\n",
       "Name: contb_receipt_amt, dtype: float64"
      ]
     },
     "execution_count": 82,
     "metadata": {},
     "output_type": "execute_result"
    }
   ],
   "source": [
    "# 2b YOUR CODE HERE\n",
    "\n",
    "#add up all contributions using sum\n",
    "amount_grouped = contrib.groupby('cand_nm')['contb_receipt_amt'].sum()\n",
    "\n",
    "amount_grouped.sort_values(ascending=False)\n",
    "#set to descending\n"
   ]
  },
  {
   "cell_type": "markdown",
   "metadata": {
    "deletable": false,
    "nbgrader": {
     "checksum": "60d3e303837e9603de5b96e32af7d806",
     "grade": true,
     "grade_id": "cell-447dc63eff8ebc5f",
     "locked": false,
     "points": 0,
     "schema_version": 1,
     "solution": true
    }
   },
   "source": [
    "`2b YOUR RESPONSE HERE`\n",
    "\n",
    "Hillary Clinton raised the most money in California."
   ]
  },
  {
   "cell_type": "markdown",
   "metadata": {},
   "source": [
    "**2c. Combine the tables (sorted by either a or b above).**\n",
    "\n",
    "- What is the \"type\" of the two tables you presented above - Series or DataFrames?\n",
    "- Convert any Series to DataFrames.\n",
    "- Rename the variable (column) names to accurately describe what is presented.\n",
    "- Merge together your tables to show the *count* and the *value* of donations to each candidate in one table.\n",
    "- Hint: Use the `merge` method."
   ]
  },
  {
   "cell_type": "markdown",
   "metadata": {},
   "source": [
    "The tables I presented above are both Series."
   ]
  },
  {
   "cell_type": "code",
   "execution_count": 83,
   "metadata": {},
   "outputs": [
    {
     "name": "stdout",
     "output_type": "stream",
     "text": [
      "                           Total contributions  Number of contributions\n",
      "cand_nm                                                                \n",
      "Clinton, Hillary Rodham          39,368,777.01                   163509\n",
      "Sanders, Bernard                 18,773,871.31                   371795\n",
      "Cruz, Rafael Edward 'Ted'         6,286,460.34                    57136\n",
      "Rubio, Marco                      4,846,483.72                    14089\n",
      "Bush, Jeb                         3,325,536.83                     3114\n",
      "Carson, Benjamin S.               2,952,109.00                    27342\n",
      "Kasich, John R.                   1,553,823.54                     2988\n",
      "Fiorina, Carly                    1,468,489.42                     4696\n",
      "Trump, Donald J.                    893,356.89                     2255\n",
      "Paul, Rand                          797,624.29                     4256\n",
      "Walker, Scott                       495,006.90                      713\n",
      "Christie, Christopher J.            456,066.00                      333\n",
      "Graham, Lindsey O.                  408,595.00                      342\n",
      "O'Malley, Martin Joseph             297,834.26                      397\n",
      "Huckabee, Mike                      230,890.60                      531\n",
      "Perry, James R. (Rick)              208,400.00                      116\n",
      "Lessig, Lawrence                    186,144.50                      372\n",
      "Webb, James Henry Jr.                76,568.16                      106\n",
      "Johnson, Gary                        41,187.60                       77\n",
      "Santorum, Richard J.                 36,304.88                       84\n",
      "Pataki, George E.                    30,450.00                       20\n",
      "Stein, Jill                          27,918.00                      197\n",
      "Jindal, Bobby                        23,231.26                       31\n",
      "Gilmore, James S III                  8,100.00                        3\n"
     ]
    }
   ],
   "source": [
    "# 2c YOUR CODE HERE\n",
    "\n",
    "#first make dataframes\n",
    "df_contrib_grouped = contrib_grouped.to_frame()\n",
    "df_amount_grouped = amount_grouped.to_frame()\n",
    "\n",
    "#concatenate into single df\n",
    "df_combined = pd.concat([df_amount_grouped, df_contrib_grouped], axis=1)\n",
    "#rename df columns\n",
    "df_combined.columns = ['Total contributions', 'Number of contributions']\n",
    "\n",
    "#sort according to total amount\n",
    "print(df_combined.sort_values(by=['Total contributions'], ascending=False))\n",
    "\n",
    "\n"
   ]
  },
  {
   "cell_type": "markdown",
   "metadata": {},
   "source": [
    "**2d. Calculate and add a new variable to the table from 2c that shows the average \\$ per donation. Print this table sorted by the average donation**"
   ]
  },
  {
   "cell_type": "code",
   "execution_count": 84,
   "metadata": {},
   "outputs": [
    {
     "name": "stdout",
     "output_type": "stream",
     "text": [
      "                           Average contribution amount  Total contributions  \\\n",
      "cand_nm                                                                       \n",
      "Gilmore, James S III                          2,700.00             8,100.00   \n",
      "Perry, James R. (Rick)                        1,796.55           208,400.00   \n",
      "Pataki, George E.                             1,522.50            30,450.00   \n",
      "Christie, Christopher J.                      1,369.57           456,066.00   \n",
      "Graham, Lindsey O.                            1,194.72           408,595.00   \n",
      "Bush, Jeb                                     1,067.93         3,325,536.83   \n",
      "O'Malley, Martin Joseph                         750.21           297,834.26   \n",
      "Jindal, Bobby                                   749.40            23,231.26   \n",
      "Webb, James Henry Jr.                           722.34            76,568.16   \n",
      "Walker, Scott                                   694.26           495,006.90   \n",
      "Johnson, Gary                                   534.90            41,187.60   \n",
      "Kasich, John R.                                 520.02         1,553,823.54   \n",
      "Lessig, Lawrence                                500.39           186,144.50   \n",
      "Huckabee, Mike                                  434.82           230,890.60   \n",
      "Santorum, Richard J.                            432.20            36,304.88   \n",
      "Trump, Donald J.                                396.17           893,356.89   \n",
      "Rubio, Marco                                    343.99         4,846,483.72   \n",
      "Fiorina, Carly                                  312.71         1,468,489.42   \n",
      "Clinton, Hillary Rodham                         240.77        39,368,777.01   \n",
      "Paul, Rand                                      187.41           797,624.29   \n",
      "Stein, Jill                                     141.72            27,918.00   \n",
      "Cruz, Rafael Edward 'Ted'                       110.03         6,286,460.34   \n",
      "Carson, Benjamin S.                             107.97         2,952,109.00   \n",
      "Sanders, Bernard                                 50.50        18,773,871.31   \n",
      "\n",
      "                           Number of contributions  \n",
      "cand_nm                                             \n",
      "Gilmore, James S III                             3  \n",
      "Perry, James R. (Rick)                         116  \n",
      "Pataki, George E.                               20  \n",
      "Christie, Christopher J.                       333  \n",
      "Graham, Lindsey O.                             342  \n",
      "Bush, Jeb                                     3114  \n",
      "O'Malley, Martin Joseph                        397  \n",
      "Jindal, Bobby                                   31  \n",
      "Webb, James Henry Jr.                          106  \n",
      "Walker, Scott                                  713  \n",
      "Johnson, Gary                                   77  \n",
      "Kasich, John R.                               2988  \n",
      "Lessig, Lawrence                               372  \n",
      "Huckabee, Mike                                 531  \n",
      "Santorum, Richard J.                            84  \n",
      "Trump, Donald J.                              2255  \n",
      "Rubio, Marco                                 14089  \n",
      "Fiorina, Carly                                4696  \n",
      "Clinton, Hillary Rodham                     163509  \n",
      "Paul, Rand                                    4256  \n",
      "Stein, Jill                                    197  \n",
      "Cruz, Rafael Edward 'Ted'                    57136  \n",
      "Carson, Benjamin S.                          27342  \n",
      "Sanders, Bernard                            371795  \n"
     ]
    }
   ],
   "source": [
    "# 2d YOUR CODE HERE\n",
    "\n",
    "#create new Series grouped by avg donation amount\n",
    "mean_grouped = contrib.groupby('cand_nm')['contb_receipt_amt'].mean()\n",
    "#convert to df\n",
    "df_mean_grouped = mean_grouped.to_frame()\n",
    "\n",
    "#create new big df\n",
    "new_df_combined = pd.concat([df_mean_grouped, df_amount_grouped, df_contrib_grouped], axis=1)\n",
    "new_df_combined.columns = ['Average contribution amount','Total contributions', 'Number of contributions']\n",
    "print(new_df_combined.sort_values(by=['Average contribution amount'], ascending=False))\n",
    "\n"
   ]
  },
  {
   "cell_type": "markdown",
   "metadata": {},
   "source": [
    "**2e. Plotting a Bar Chart**\n",
    "\n",
    "Make a single bar chart that shows two different bars per candidate with one bar as the total value of the donations and the other as average $ per donation. \n",
    "- Show the Candidates Name on the x-axis\n",
    "- Show the amount on the y-axis\n",
    "- Include a title\n",
    "- Include axis labels\n",
    "- Make the y-axis a log-scale to show both numbers!"
   ]
  },
  {
   "cell_type": "code",
   "execution_count": 85,
   "metadata": {},
   "outputs": [
    {
     "data": {
      "text/plain": [
       "Text(0.5, 1.0, 'Total and Average Contributions for Political Candidates')"
      ]
     },
     "execution_count": 85,
     "metadata": {},
     "output_type": "execute_result"
    },
    {
     "data": {
      "image/png": "[encoded data removed]",
      "text/plain": [
       "<Figure size 432x288 with 1 Axes>"
      ]
     },
     "metadata": {
      "needs_background": "light"
     },
     "output_type": "display_data"
    }
   ],
   "source": [
    "# 2e YOUR CODE HERE\n",
    "\n",
    "#create df\n",
    "df_for_bar = pd.concat([df_amount_grouped, df_mean_grouped], axis=1)\n",
    "\n",
    "#make it a bar graph w/ log scale\n",
    "my_bar = df_for_bar.plot(kind='bar', log=True)\n",
    "my_bar.set_xlabel('Candidate name')\n",
    "my_bar.set_ylabel('Amount')\n",
    "my_bar.legend(['Total contribution', 'Average contribution'])\n",
    "my_bar.set_title('Total and Average Contributions for Political Candidates')"
   ]
  },
  {
   "cell_type": "markdown",
   "metadata": {},
   "source": [
    "**2f. Comment on the results of your data analysis in a short paragraph.**\n",
    "\n",
    "- There are several interesting conclusions you can draw from the table you have created.\n",
    "- What have you learned about campaign contributions in California?\n",
    "- We are looking for data insights here rather than comments on the code!"
   ]
  },
  {
   "cell_type": "markdown",
   "metadata": {},
   "source": [
    "`2f YOUR RESPONSE HERE`\n",
    "\n",
    "First, it is interesting to note that Bernie Sanders had the lowest average contribution amount, yet raised the second highest amount of money behind Hillary Clinton. This tells us that a large number of people were contributing small amounts to his campaign in California, which supports the assumption that his was a grassroots campaign.\n",
    "\n",
    "I also found it interesting that after the top two Democratic candidates, the top contribution recipients were Republican challengers to Donald Trump. This not only suggests that California Republican participate actively in politics, contrary to the stereotype of California as blue through and through, it also says that California Republicans were highly against Trump's selection as presidential nominee."
   ]
  },
  {
   "cell_type": "markdown",
   "metadata": {},
   "source": [
    "## 3. Exploring Donor Occupations (30 points)\n",
    "\n",
    "Above in part 2, we saw that some simple data analysis can give us insights into the campaigns of our candidates. Now let's quickly look to see what *kind* of person is donating to each campaign using the `contbr_occupation` variable."
   ]
  },
  {
   "cell_type": "markdown",
   "metadata": {},
   "source": [
    "**3a. Show the top 5 occupations of individuals that contributed to Hillary Clinton.** \n",
    "\n",
    "- Subset your data to create a dataframe with only donations for Hillary Clinton.\n",
    "- Then use the `value_counts` and `head` methods to present the top 5 occupations (`contbr_occupation`) for her donors.\n",
    "- Note: we are just interested in the count of donations, not the value of those donations."
   ]
  },
  {
   "cell_type": "code",
   "execution_count": 86,
   "metadata": {
    "deletable": false,
    "nbgrader": {
     "checksum": "20a71229316bf24a2ce62c52f72d8142",
     "grade": true,
     "grade_id": "cell-963603c5ed346a99",
     "locked": false,
     "points": 0,
     "schema_version": 1,
     "solution": true
    }
   },
   "outputs": [
    {
     "data": {
      "text/plain": [
       "contbr_occupation    \n",
       "RETIRED                  33450\n",
       "ATTORNEY                  7315\n",
       "INFORMATION REQUESTED     4742\n",
       "TEACHER                   3591\n",
       "HOMEMAKER                 3436\n",
       "dtype: int64"
      ]
     },
     "execution_count": 86,
     "metadata": {},
     "output_type": "execute_result"
    }
   ],
   "source": [
    "# 3a YOUR CODE HERE\n",
    "\n",
    "#create new df using Hillary's ID number\n",
    "contrib_hillary = contrib.copy()[contrib['cand_id'] == 'P00003392']\n",
    "\n",
    "#sort according to occupation column\n",
    "hillary_occupations = contrib_hillary.value_counts(['contbr_occupation'])\n",
    "\n",
    "#show top 5\n",
    "hillary_occupations.head()\n",
    "\n"
   ]
  },
  {
   "cell_type": "markdown",
   "metadata": {
    "deletable": false,
    "nbgrader": {
     "checksum": "426b589a9d6457f38381eb1c77678d4f",
     "grade": true,
     "grade_id": "cell-b6fc3f7c906c95a2",
     "locked": false,
     "points": 0,
     "schema_version": 1,
     "solution": true
    }
   },
   "source": [
    "**3b. Write a function called `get_donors`.**\n",
    "\n",
    "Imagine that you want to do the previous operation on several candidates.  To keep your work neat, you want to take the work you did on the Clinton-subset and wrap it in a function that you can apply to other subsets of the data.\n",
    "\n",
    "- The function should take a DataFrame as a parameter, and return a Series containing the counts for the top 5 occupations contained in that DataFrame."
   ]
  },
  {
   "cell_type": "code",
   "execution_count": 87,
   "metadata": {
    "deletable": false,
    "nbgrader": {
     "checksum": "81ebf2a2f96961b4464f6c35d2143427",
     "grade": true,
     "grade_id": "cell-bea2cf7a6fff8565",
     "locked": false,
     "points": 0,
     "schema_version": 1,
     "solution": true
    }
   },
   "outputs": [],
   "source": [
    "def get_donors(df):\n",
    "    \"\"\"This function takes a dataframe that contains a variable named contbr_occupation.\n",
    "    It outputs a Series containing the counts for the 5 most common values of that\n",
    "    variable.\"\"\"\n",
    "    \n",
    "    # 3b YOUR CODE HERE\n",
    "    \n",
    "    return df.value_counts(['contbr_occupation']).head()"
   ]
  },
  {
   "cell_type": "markdown",
   "metadata": {},
   "source": [
    "**3c. Now run the `get_donors` function on subsets of the dataframe corresponding to three candidates. Show each of the three candidates below.**\n",
    "\n",
    "- Hillary Clinton\n",
    "- Bernie Sanders\n",
    "- Donald Trump"
   ]
  },
  {
   "cell_type": "code",
   "execution_count": 88,
   "metadata": {
    "deletable": false,
    "nbgrader": {
     "checksum": "bffd2778d22127102347386bfb6f5b20",
     "grade": true,
     "grade_id": "cell-4ad1da24176f0450",
     "locked": false,
     "points": 0,
     "schema_version": 1,
     "solution": true
    }
   },
   "outputs": [
    {
     "data": {
      "text/plain": [
       "contbr_occupation    \n",
       "RETIRED                  33450\n",
       "ATTORNEY                  7315\n",
       "INFORMATION REQUESTED     4742\n",
       "TEACHER                   3591\n",
       "HOMEMAKER                 3436\n",
       "dtype: int64"
      ]
     },
     "execution_count": 88,
     "metadata": {},
     "output_type": "execute_result"
    }
   ],
   "source": [
    "# 3c YOUR CODE HERE\n",
    "\n",
    "get_donors(contrib_hillary)"
   ]
  },
  {
   "cell_type": "code",
   "execution_count": 89,
   "metadata": {},
   "outputs": [
    {
     "data": {
      "text/plain": [
       "contbr_occupation\n",
       "NOT EMPLOYED         96371\n",
       "RETIRED              15048\n",
       "TEACHER              10167\n",
       "SOFTWARE ENGINEER     7861\n",
       "ENGINEER              7094\n",
       "dtype: int64"
      ]
     },
     "execution_count": 89,
     "metadata": {},
     "output_type": "execute_result"
    }
   ],
   "source": [
    "contrib_bernie = contrib.copy()[contrib['cand_id'] == 'P60007168']\n",
    "\n",
    "get_donors(contrib_bernie)"
   ]
  },
  {
   "cell_type": "code",
   "execution_count": 90,
   "metadata": {},
   "outputs": [
    {
     "data": {
      "text/plain": [
       "contbr_occupation    \n",
       "RETIRED                  849\n",
       "INFORMATION REQUESTED     70\n",
       "CEO                       57\n",
       "OWNER                     51\n",
       "PRESIDENT                 35\n",
       "dtype: int64"
      ]
     },
     "execution_count": 90,
     "metadata": {},
     "output_type": "execute_result"
    }
   ],
   "source": [
    "contrib_donald = contrib.copy()[contrib['cand_id'] == 'P80001571']\n",
    "\n",
    "get_donors(contrib_donald)\n"
   ]
  },
  {
   "cell_type": "markdown",
   "metadata": {},
   "source": [
    "**3d. Finally, use `groupby` to separate the entire dataset by candidate.**\n",
    "\n",
    "- Call .apply(get_donors) on your groupby object, which will apply the function you wrote to each subset of your data.\n",
    "- Look at your output and marvel at what pandas can do in just one line!"
   ]
  },
  {
   "cell_type": "code",
   "execution_count": 91,
   "metadata": {},
   "outputs": [
    {
     "data": {
      "text/plain": [
       "cand_nm                   contbr_occupation                     \n",
       "Bush, Jeb                 RETIRED                                     996\n",
       "                          HOMEMAKER                                   180\n",
       "                          ATTORNEY                                     92\n",
       "                          Q.A.                                         89\n",
       "                          PRESIDENT                                    84\n",
       "Carson, Benjamin S.       RETIRED                                   13692\n",
       "                          INFORMATION REQUESTED PER BEST EFFORTS     1614\n",
       "                          HOMEMAKER                                  1049\n",
       "                          PHYSICIAN                                   329\n",
       "                          R.N.                                        234\n",
       "Christie, Christopher J.  RETIRED                                      38\n",
       "                          NONE                                         22\n",
       "                          CONSULTANT                                   18\n",
       "                          CEO                                          16\n",
       "                          HOMEMAKER                                    15\n",
       "Clinton, Hillary Rodham   RETIRED                                   33450\n",
       "                          ATTORNEY                                   7315\n",
       "                          INFORMATION REQUESTED                      4742\n",
       "                          TEACHER                                    3591\n",
       "                          HOMEMAKER                                  3436\n",
       "dtype: int64"
      ]
     },
     "execution_count": 91,
     "metadata": {},
     "output_type": "execute_result"
    }
   ],
   "source": [
    "# 3d YOUR CODE HERE\n",
    "\n",
    "occupation_grouped = contrib.groupby('cand_nm').apply(get_donors)\n",
    "\n",
    "occupation_grouped.head(20)"
   ]
  },
  {
   "cell_type": "markdown",
   "metadata": {
    "collapsed": true,
    "deletable": false,
    "nbgrader": {
     "checksum": "14c2855e3d59f0da6b1afd5cf0da2da8",
     "grade": true,
     "grade_id": "cell-fd840cdd19d2bd2a",
     "locked": false,
     "points": 0,
     "schema_version": 1,
     "solution": true
    }
   },
   "source": [
    "**3e. Comment on your data insights & findings in a short paragraph.**"
   ]
  },
  {
   "cell_type": "markdown",
   "metadata": {
    "deletable": false,
    "nbgrader": {
     "checksum": "43ce3d15cee7ab73f53fd8f054c9826c",
     "grade": true,
     "grade_id": "cell-dce8d3107c1463ca",
     "locked": false,
     "points": 0,
     "schema_version": 1,
     "solution": true
    }
   },
   "source": [
    "`3e YOUR RESPONSE HERE`\n",
    "\n",
    "Retirees appear to be the most active contributors to political campaigns in general, which makes sense since they often have more time and capital to devote to politics. Interestingly, the vast majority of Bernie Sanders' donors were listed as unemployed. I wonder if, since his demographic often skewed younger, many of his donors were students or gig workers, both of which might be categorized as unemployed by older classification systems. After these more ambiguous entries, it seems like the highly educated technocrats of California (software engineers and engineers) skewed towards supporting Bernie. It is also interesting that Hillary Clinton received a large portion of contributions from \"Homemakers,\" who typically skew female. Goes to show how much women did not want Trump to be elected? Unsurprisingly, Donald Trump's donors came overwhelmingly from positions of economic power, such as CEO, owner and president. What's more surprising is that across the board teachers are avid political contributors, despite their very low salaries."
   ]
  },
  {
   "cell_type": "markdown",
   "metadata": {},
   "source": [
    "**3f. Think about your findings in section 3 vs. your findings in section 2 of this assignment.**\n",
    "\n",
    "Do you have any new data insights into the results you saw in section 2 now that you see the top occupations for each candidate?"
   ]
  },
  {
   "cell_type": "markdown",
   "metadata": {
    "deletable": false,
    "nbgrader": {
     "checksum": "a5f4e6df0f32e24c492a9589ec87fef6",
     "grade": true,
     "grade_id": "cell-9e3f68b21dac8e10",
     "locked": false,
     "points": 0,
     "schema_version": 1,
     "solution": true
    }
   },
   "source": [
    "`3f YOUR RESPONSE HERE`\n",
    "\n",
    "Now that I can see the breakdown of donor occupations, the low average contribution by Bernie Sanders supporters is easier to understand. These small contributions are not a sign of lack of enthusiasm, but rather a wave of enthusiasm by people with much less money to give. This breakdown also draws much more attention to the power of the retired vote, which then begs the question of how Republicans are convincing elderly voters to vote for them while also pledging to cut programs like Social Security and Medicare."
   ]
  },
  {
   "cell_type": "markdown",
   "metadata": {},
   "source": [
    "\n",
    "## 4. Plotting Data (20 points)\n",
    "\n",
    "There is an important element that we have not yet explored in this dataset - time."
   ]
  },
  {
   "cell_type": "markdown",
   "metadata": {},
   "source": [
    "**4a. Present a single line chart with the following elements.**\n",
    "\n",
    "- Show the date on the x-axis\n",
    "- Show the contribution amount on the y-axis\n",
    "- Include a title\n",
    "- Include axis labels"
   ]
  },
  {
   "cell_type": "code",
   "execution_count": 92,
   "metadata": {
    "deletable": false,
    "nbgrader": {
     "checksum": "4f1a9e7ee0ded9d2b5af5777cb85e505",
     "grade": true,
     "grade_id": "cell-c14fbed9d72d54e3",
     "locked": false,
     "points": 0,
     "schema_version": 1,
     "solution": true
    }
   },
   "outputs": [
    {
     "data": {
      "text/plain": [
       "Text(0.5, 1.0, 'Contributions by Date')"
      ]
     },
     "execution_count": 92,
     "metadata": {},
     "output_type": "execute_result"
    },
    {
     "data": {
      "image/png": "[encoded data removed]",
      "text/plain": [
       "<Figure size 432x288 with 1 Axes>"
      ]
     },
     "metadata": {
      "needs_background": "light"
     },
     "output_type": "display_data"
    }
   ],
   "source": [
    "# 4a YOUR CODE HERE\n",
    "\n",
    "\n",
    "first_date_plot = contrib.plot(kind='line', x='contb_receipt_dt', y='contb_receipt_amt')\n",
    "first_date_plot.set_xlabel('Date')\n",
    "first_date_plot.set_ylabel('Contribution Amount')\n",
    "first_date_plot.set_title('Contributions by Date')"
   ]
  },
  {
   "cell_type": "markdown",
   "metadata": {},
   "source": [
    "**4b. Make a better time-series line chart**\n",
    "\n",
    "This chart is messy and it is hard to gain insights from it.  Improve the chart from 4a so that your new chart shows a specific insight. In the spot provided, write the insight(s) that can be gained from this new time-series line chart."
   ]
  },
  {
   "cell_type": "code",
   "execution_count": 93,
   "metadata": {
    "deletable": false,
    "nbgrader": {
     "checksum": "6dc1481a003cdd752c5edfa9ac400879",
     "grade": true,
     "grade_id": "cell-f7a01ce9c5b10ac7",
     "locked": false,
     "points": 0,
     "schema_version": 1,
     "solution": true
    }
   },
   "outputs": [
    {
     "data": {
      "text/plain": [
       "(0.0, 6000.0)"
      ]
     },
     "execution_count": 93,
     "metadata": {},
     "output_type": "execute_result"
    },
    {
     "data": {
      "image/png": "[encoded data removed]",
      "text/plain": [
       "<Figure size 432x288 with 1 Axes>"
      ]
     },
     "metadata": {
      "needs_background": "light"
     },
     "output_type": "display_data"
    }
   ],
   "source": [
    "# 4b YOUR CODE HERE\n",
    "\n",
    "bernie_date_plot = contrib_bernie.plot(kind='line', x='contb_receipt_dt', y='contb_receipt_amt')\n",
    "bernie_date_plot.set_xlim(['2016-01-01', '2016-05-31'])\n",
    "bernie_date_plot.set_ylim(0, 6000)\n",
    "\n"
   ]
  },
  {
   "cell_type": "markdown",
   "metadata": {
    "deletable": false,
    "nbgrader": {
     "checksum": "010f5de5f6af4c7f830d1cf7a81bbc0f",
     "grade": true,
     "grade_id": "cell-5617179133b06d0c",
     "locked": false,
     "points": 0,
     "schema_version": 1,
     "solution": true
    }
   },
   "source": [
    "`4b YOUR RESPONSE HERE`\n",
    "\n",
    "The zoomed in data shows that throughout early 2016 as primaries kicked off, Bernie Sanders' supporters kept up a fairly consistent stream of contributions. However, as primary season dragged on and the Democratic party threw its full weight behind Hillary, we see the contributions begin to taper off. Suddenly, amounts that were only middling just months before are the highest amounts being contributed."
   ]
  },
  {
   "cell_type": "markdown",
   "metadata": {},
   "source": [
    "## 5. Bonus (20 points)\n",
    "\n",
    "For your final project, you may be interested in plotting data on maps. Explore the Plotly library, and try plotting a bubble map (https://plotly.com/python/bubble-maps/) of the total amount and total number of campaign contributions for each city in California. You would need to match the cities with their respective coordinates and then adjust the size of the bubble according to the values on each city. "
   ]
  },
  {
   "cell_type": "code",
   "execution_count": null,
   "metadata": {},
   "outputs": [],
   "source": [
    "!pip install plotly"
   ]
  },
  {
   "cell_type": "code",
   "execution_count": 3,
   "metadata": {},
   "outputs": [],
   "source": [
    "import plotly.express as px"
   ]
  },
  {
   "cell_type": "code",
   "execution_count": 4,
   "metadata": {},
   "outputs": [],
   "source": [
    "import plotly.graph_objects as go"
   ]
  },
  {
   "cell_type": "code",
   "execution_count": 12,
   "metadata": {},
   "outputs": [],
   "source": [
    "left_df = pd.read_csv('cal_cities_lat_long.csv', index_col = 'contbr_city')\n",
    "#get city coords"
   ]
  },
  {
   "cell_type": "code",
   "execution_count": 54,
   "metadata": {},
   "outputs": [],
   "source": [
    "city_sums = pd.DataFrame(contrib.groupby('contbr_city')['contb_receipt_amt'].sum())\n",
    "#create new df with just city and dollar amount for convenience"
   ]
  },
  {
   "cell_type": "code",
   "execution_count": 56,
   "metadata": {},
   "outputs": [],
   "source": [
    "city_sums.reset_index(drop=False, inplace=True)\n",
    "#create new index"
   ]
  },
  {
   "cell_type": "code",
   "execution_count": 94,
   "metadata": {},
   "outputs": [
    {
     "data": {
      "text/html": [
       "<div>\n",
       "<style scoped>\n",
       "    .dataframe tbody tr th:only-of-type {\n",
       "        vertical-align: middle;\n",
       "    }\n",
       "\n",
       "    .dataframe tbody tr th {\n",
       "        vertical-align: top;\n",
       "    }\n",
       "\n",
       "    .dataframe thead th {\n",
       "        text-align: right;\n",
       "    }\n",
       "</style>\n",
       "<table border=\"1\" class=\"dataframe\">\n",
       "  <thead>\n",
       "    <tr style=\"text-align: right;\">\n",
       "      <th></th>\n",
       "      <th>contbr_city</th>\n",
       "      <th>contb_receipt_amt</th>\n",
       "    </tr>\n",
       "  </thead>\n",
       "  <tbody>\n",
       "    <tr>\n",
       "      <th>0</th>\n",
       "      <td>*MORENO VALLEY</td>\n",
       "      <td>100.00</td>\n",
       "    </tr>\n",
       "    <tr>\n",
       "      <th>1</th>\n",
       "      <td>29 PALMS</td>\n",
       "      <td>2,828.85</td>\n",
       "    </tr>\n",
       "    <tr>\n",
       "      <th>2</th>\n",
       "      <td>91355</td>\n",
       "      <td>28.00</td>\n",
       "    </tr>\n",
       "    <tr>\n",
       "      <th>3</th>\n",
       "      <td>ACAMPO</td>\n",
       "      <td>3,086.53</td>\n",
       "    </tr>\n",
       "    <tr>\n",
       "      <th>4</th>\n",
       "      <td>ACTON</td>\n",
       "      <td>6,819.76</td>\n",
       "    </tr>\n",
       "  </tbody>\n",
       "</table>\n",
       "</div>"
      ],
      "text/plain": [
       "      contbr_city  contb_receipt_amt\n",
       "0  *MORENO VALLEY             100.00\n",
       "1        29 PALMS           2,828.85\n",
       "2           91355              28.00\n",
       "3          ACAMPO           3,086.53\n",
       "4           ACTON           6,819.76"
      ]
     },
     "execution_count": 94,
     "metadata": {},
     "output_type": "execute_result"
    }
   ],
   "source": [
    "#check that it worked\n",
    "city_sums.head()"
   ]
  },
  {
   "cell_type": "code",
   "execution_count": 58,
   "metadata": {},
   "outputs": [],
   "source": [
    "map_df = left_df.merge(city_sums, on='contbr_city', how='left')        \n",
    "#merge them to match city to coordinates"
   ]
  },
  {
   "cell_type": "code",
   "execution_count": 59,
   "metadata": {},
   "outputs": [],
   "source": [
    "map_df = map_df.sort_values(by=[\"contb_receipt_amt\"], ascending=False)\n",
    "map_df.reset_index(drop=True, inplace=True)\n",
    "#sort the new df and reset its index"
   ]
  },
  {
   "cell_type": "code",
   "execution_count": 60,
   "metadata": {},
   "outputs": [
    {
     "data": {
      "text/html": [
       "<div>\n",
       "<style scoped>\n",
       "    .dataframe tbody tr th:only-of-type {\n",
       "        vertical-align: middle;\n",
       "    }\n",
       "\n",
       "    .dataframe tbody tr th {\n",
       "        vertical-align: top;\n",
       "    }\n",
       "\n",
       "    .dataframe thead th {\n",
       "        text-align: right;\n",
       "    }\n",
       "</style>\n",
       "<table border=\"1\" class=\"dataframe\">\n",
       "  <thead>\n",
       "    <tr style=\"text-align: right;\">\n",
       "      <th></th>\n",
       "      <th>contbr_city</th>\n",
       "      <th>Latitude</th>\n",
       "      <th>Longitude</th>\n",
       "      <th>contb_receipt_amt</th>\n",
       "    </tr>\n",
       "  </thead>\n",
       "  <tbody>\n",
       "    <tr>\n",
       "      <th>0</th>\n",
       "      <td>LOS ANGELES</td>\n",
       "      <td>34.05</td>\n",
       "      <td>-118.24</td>\n",
       "      <td>9,644,176.63</td>\n",
       "    </tr>\n",
       "    <tr>\n",
       "      <th>1</th>\n",
       "      <td>SAN FRANCISCO</td>\n",
       "      <td>37.77</td>\n",
       "      <td>-122.42</td>\n",
       "      <td>7,519,039.37</td>\n",
       "    </tr>\n",
       "    <tr>\n",
       "      <th>2</th>\n",
       "      <td>BEVERLY HILLS</td>\n",
       "      <td>34.07</td>\n",
       "      <td>-118.40</td>\n",
       "      <td>2,129,458.08</td>\n",
       "    </tr>\n",
       "    <tr>\n",
       "      <th>3</th>\n",
       "      <td>SAN DIEGO</td>\n",
       "      <td>32.72</td>\n",
       "      <td>-117.16</td>\n",
       "      <td>2,019,730.08</td>\n",
       "    </tr>\n",
       "    <tr>\n",
       "      <th>4</th>\n",
       "      <td>SANTA MONICA</td>\n",
       "      <td>34.02</td>\n",
       "      <td>-118.49</td>\n",
       "      <td>1,690,736.07</td>\n",
       "    </tr>\n",
       "  </tbody>\n",
       "</table>\n",
       "</div>"
      ],
      "text/plain": [
       "     contbr_city  Latitude  Longitude  contb_receipt_amt\n",
       "0    LOS ANGELES     34.05    -118.24       9,644,176.63\n",
       "1  SAN FRANCISCO     37.77    -122.42       7,519,039.37\n",
       "2  BEVERLY HILLS     34.07    -118.40       2,129,458.08\n",
       "3      SAN DIEGO     32.72    -117.16       2,019,730.08\n",
       "4   SANTA MONICA     34.02    -118.49       1,690,736.07"
      ]
     },
     "execution_count": 60,
     "metadata": {},
     "output_type": "execute_result"
    }
   ],
   "source": [
    "map_df.head()"
   ]
  },
  {
   "cell_type": "code",
   "execution_count": 35,
   "metadata": {
    "collapsed": true
   },
   "outputs": [
    {
     "data": {
      "text/plain": [
       "[(0, 1),\n",
       " (1, 2),\n",
       " (2, 11),\n",
       " (11, 18),\n",
       " (18, 118),\n",
       " (118, 197),\n",
       " (197, 340),\n",
       " (340, 376),\n",
       " (376, 449)]"
      ]
     },
     "execution_count": 35,
     "metadata": {},
     "output_type": "execute_result"
    }
   ],
   "source": [
    "#set my map scale\n",
    "stages = [\"9000000+\", \"5000000-8999999\", \"1000000-4999999\", \"500000-999999\", \"100000-499999\", \"50000-99999\",\n",
    "         \"10000-49999\", \"5000-9999\", \"1-4999\"]\n",
    "\n",
    "#create tuples of row indexes \n",
    "tuple1 = (0, map_df[map_df.contb_receipt_amt > 9000000].index[-1]+1)\n",
    "tuple2 = (tuple1[1], map_df[(map_df.contb_receipt_amt > 5000000) & (map_df.contb_receipt_amt <=8999999)].index[-1]+1)\n",
    "tuple3 = (tuple2[1], map_df[(map_df.contb_receipt_amt > 1000000) & (map_df.contb_receipt_amt <=4999999)].index[-1]+1)\n",
    "tuple4 = (tuple3[1], map_df[(map_df.contb_receipt_amt > 500000) & (map_df.contb_receipt_amt <=999999)].index[-1]+1)\n",
    "tuple5 = (tuple4[1], map_df[(map_df.contb_receipt_amt > 100000) & (map_df.contb_receipt_amt <=499999)].index[-1]+1)\n",
    "tuple6 = (tuple5[1], map_df[(map_df.contb_receipt_amt > 50000) & (map_df.contb_receipt_amt <=99999)].index[-1]+1)\n",
    "tuple7 = (tuple6[1], map_df[(map_df.contb_receipt_amt > 10000) & (map_df.contb_receipt_amt <=49999)].index[-1]+1)\n",
    "tuple8 = (tuple7[1], map_df[(map_df.contb_receipt_amt > 5000) & (map_df.contb_receipt_amt <=9999)].index[-1]+1)\n",
    "tuple9 = (tuple8[1], map_df[map_df.contb_receipt_amt <=4999].index[-1]+1)\n",
    "\n",
    "limits = [tuple1, tuple2, tuple3, tuple4, tuple5, tuple6, tuple7, tuple8, tuple9]\n",
    "limits"
   ]
  },
  {
   "cell_type": "code",
   "execution_count": 36,
   "metadata": {},
   "outputs": [],
   "source": [
    "#set my bubble colors\n",
    "colors = ['#F0F8FF','#A1CAF1', '#6495ED', '#007FFF', '#1560BD', '#0F4D92', '#003366', '#4682B4', '#002E63']"
   ]
  },
  {
   "cell_type": "code",
   "execution_count": 61,
   "metadata": {},
   "outputs": [
    {
     "data": {
      "application/vnd.plotly.v1+json": {
       "config": {
        "plotlyServerURL": "https://plot.ly"
       },
       "data": [
        {
         "lat": [
          34.052233
         ],
         "locationmode": "USA-states",
         "lon": [
          -118.24368600000001
         ],
         "marker": {
          "color": "#F0F8FF",
          "line": {
           "color": "rgb(40,40,40)",
           "width": 0.5
          },
          "size": [
           1928.8353259999906
          ],
          "sizemode": "area"
         },
         "name": "9000000+",
         "text": [
          "LOS ANGELES"
         ],
         "type": "scattergeo"
        },
        {
         "lat": [
          37.774931
         ],
         "locationmode": "USA-states",
         "lon": [
          -122.419417
         ],
         "marker": {
          "color": "#A1CAF1",
          "line": {
           "color": "rgb(40,40,40)",
           "width": 0.5
          },
          "size": [
           1503.8078740000078
          ],
          "sizemode": "area"
         },
         "name": "5000000-8999999",
         "text": [
          "SAN FRANCISCO"
         ],
         "type": "scattergeo"
        },
        {
         "lat": [
          34.073619,
          32.715328,
          34.019453000000006,
          37.441883000000004,
          37.804364,
          37.871592,
          38.581571999999994,
          37.339386,
          33.618911
         ],
         "locationmode": "USA-states",
         "lon": [
          -118.400356,
          -117.157256,
          -118.491192,
          -122.143019,
          -122.27111399999998,
          -122.272747,
          -121.4944,
          -121.89495600000001,
          -117.928947
         ],
         "marker": {
          "color": "#6495ED",
          "line": {
           "color": "rgb(40,40,40)",
           "width": 0.5
          },
          "size": [
           425.89161599999994,
           403.9460159999997,
           338.1472140000002,
           334.190152,
           298.11336199999977,
           265.1385839999998,
           250.13863800000027,
           246.93507199999976,
           211.43500999999992
          ],
          "sizemode": "area"
         },
         "name": "1000000-4999999",
         "text": [
          "BEVERLY HILLS",
          "SAN DIEGO",
          "SANTA MONICA",
          "PALO ALTO",
          "OAKLAND",
          "BERKELEY",
          "SACRAMENTO",
          "SAN JOSE",
          "NEWPORT BEACH"
         ],
         "type": "scattergeo"
        },
        {
         "lat": [
          34.147785999999996,
          34.420831,
          37.453828,
          33.683946999999996,
          33.796331,
          33.768322,
          34.090008000000005
         ],
         "locationmode": "USA-states",
         "lon": [
          -118.144517,
          -119.69818899999999,
          -122.18218600000002,
          -117.79469399999999,
          -118.118119,
          -118.195617,
          -118.36174399999999
         ],
         "marker": {
          "color": "#007FFF",
          "line": {
           "color": "rgb(40,40,40)",
           "width": 0.5
          },
          "size": [
           199.475908,
           175.00706200000005,
           149.57622400000002,
           148.50279000000003,
           136.753984,
           123.07207199999998,
           117.85156999999995
          ],
          "sizemode": "area"
         },
         "name": "500000-999999",
         "text": [
          "PASADENA",
          "SANTA BARBARA",
          "MENLO PARK",
          "IRVINE",
          "LOS ALTOS",
          "LONG BEACH",
          "WEST HOLLYWOOD"
         ],
         "type": "scattergeo"
        },
        {
         "lat": [
          34.005008000000004,
          37.906036,
          38.440467,
          33.884736,
          37.824372,
          37.386053000000004,
          37.562992,
          35.373292,
          36.974117,
          33.542246999999996,
          34.139728000000005,
          37.973535999999996,
          37.485214,
          36.746842,
          37.263833,
          34.142508,
          37.548269,
          37.910078000000006,
          33.660297,
          34.121396999999995,
          33.158091999999996,
          37.368831,
          38.544906,
          37.877146999999994,
          37.885758,
          33.745571999999996,
          33.95335,
          37.584103000000006,
          33.83585,
          34.180839,
          33.849183000000004,
          38.297539,
          33.522525,
          34.107231,
          37.765206,
          33.830296999999995,
          37.322996999999994,
          34.138333,
          34.145839,
          34.274639,
          33.835291999999995,
          34.021122,
          33.787794,
          33.641133,
          34.028622,
          32.959489000000005,
          37.859094,
          33.036986,
          38.402136,
          33.800571999999995,
          33.744461,
          38.790733,
          37.662431,
          33.426972,
          37.507158000000004,
          33.119208,
          35.282753,
          33.870292,
          39.728494,
          33.600021999999996,
          33.862235999999996,
          33.74585,
          38.291858000000005,
          38.232417,
          37.935758,
          34.020289,
          37.957703,
          37.872703,
          37.520214,
          37.354108000000004,
          33.888625,
          34.096111,
          32.767828,
          38.107419,
          37.681875,
          34.096675,
          33.195869,
          34.269447,
          37.934092,
          33.722244,
          36.677735999999996,
          34.095286,
          34.116119,
          34.216394,
          32.794771999999995,
          33.501692,
          37.463553000000005,
          37.287164000000004,
          37.916133,
          40.586539,
          37.639097,
          33.493639,
          33.143372,
          34.197506,
          36.825228,
          34.1064,
          33.200036,
          37.668819,
          34.055569,
          37.613825
         ],
         "locationmode": "USA-states",
         "lon": [
          -118.810172,
          -122.544975,
          -122.714431,
          -118.410908,
          -122.23163600000001,
          -122.08385,
          -122.325525,
          -119.01871100000001,
          -122.03079699999999,
          -117.783111,
          -118.035344,
          -122.53108600000002,
          -122.236356,
          -119.772586,
          -122.02301399999999,
          -118.255075,
          -121.98857199999999,
          -122.065183,
          -117.999225,
          -118.106458,
          -117.350594,
          -122.03635,
          -121.740517,
          -122.179689,
          -122.11801899999999,
          -117.867833,
          -117.396156,
          -122.366083,
          -118.34062800000001,
          -118.308967,
          -118.38840800000001,
          -122.286864,
          -117.707553,
          -118.057847,
          -122.24163600000001,
          -116.54529199999999,
          -122.032183,
          -118.66083300000001,
          -118.805647,
          -119.22900600000001,
          -117.914503,
          -118.39646699999999,
          -117.85311100000001,
          -117.918669,
          -117.810336,
          -117.26531399999999,
          -122.48525,
          -117.291983,
          -122.823881,
          -118.390075,
          -118.38701699999999,
          -121.23578300000001,
          -121.874678,
          -117.61199199999999,
          -122.260522,
          -117.086422,
          -120.659617,
          -117.925339,
          -121.837478,
          -117.671994,
          -118.399519,
          -117.826167,
          -122.458036,
          -122.63665300000001,
          -122.34775,
          -117.86533899999999,
          -121.29078100000001,
          -122.464417,
          -122.2758,
          -121.95523600000001,
          -117.813111,
          -118.105833,
          -117.02308300000001,
          -122.569703,
          -121.76800800000001,
          -117.719778,
          -117.37948300000001,
          -118.78148300000001,
          -122.535253,
          -116.37445600000001,
          -121.6555,
          -118.12701399999999,
          -118.15035,
          -119.037603,
          -116.962528,
          -117.66255,
          -122.42858600000001,
          -121.94995800000001,
          -122.31076399999999,
          -122.391675,
          -120.99687800000001,
          -117.14836399999999,
          -117.16614399999999,
          -119.177053,
          -119.702919,
          -117.593108,
          -117.24253600000002,
          -122.080797,
          -117.18253899999999,
          -122.486919
         ],
         "marker": {
          "color": "#1560BD",
          "line": {
           "color": "rgb(40,40,40)",
           "width": 0.5
          },
          "size": [
           84.84435799999993,
           84.66398999999998,
           84.39740600000002,
           82.72449800000001,
           80.73663399999998,
           76.85765599999993,
           75.39933,
           74.29628400000006,
           73.05754399999998,
           71.527442,
           69.33571600000008,
           68.88811000000005,
           66.08666599999998,
           65.01702000000003,
           64.003262,
           63.97865600000004,
           63.78353,
           63.47466799999999,
           60.008755999999984,
           59.942062,
           59.51495999999997,
           56.09011800000001,
           55.38354400000003,
           55.051048,
           52.17090999999999,
           51.45454400000002,
           49.90925000000004,
           48.62846200000002,
           47.49005600000001,
           46.87266400000002,
           46.09900200000002,
           45.85528000000001,
           44.841803999999996,
           44.33053800000002,
           43.45272400000003,
           43.26851400000002,
           43.14171200000001,
           39.68410800000001,
           39.66357,
           39.24388600000003,
           39.16896600000001,
           37.47510200000001,
           37.344906000000016,
           36.81157,
           36.39441000000001,
           36.164346,
           36.044142,
           35.99220200000001,
           35.814244,
           35.18577800000001,
           34.53389600000001,
           34.105132000000005,
           33.82745800000002,
           33.36492400000001,
           33.03822200000001,
           32.21207200000001,
           31.428900000000013,
           31.01433600000001,
           30.44657799999999,
           29.81629200000002,
           29.215924,
           29.053297999999998,
           28.883674,
           28.284292000000004,
           28.06936,
           28.03732,
           27.984659999999998,
           27.960545999999997,
           27.243966,
           27.122644,
           27.016778000000006,
           26.593036,
           26.507227999999998,
           26.19939399999999,
           26.040846,
           25.614419999999992,
           24.959255999999996,
           24.815238,
           24.547978,
           24.384806,
           24.136569999999995,
           23.825383999999996,
           23.807812000000002,
           23.710981999999998,
           23.680072,
           23.608848000000005,
           23.545288000000003,
           22.72013799999999,
           22.255907999999994,
           21.904832,
           21.846074,
           21.268386000000007,
           21.001524,
           20.895604000000002,
           20.848481999999997,
           20.775334000000004,
           20.538063999999995,
           20.47461,
           20.38631800000001,
           20.23119199999999
          ],
          "sizemode": "area"
         },
         "name": "100000-499999",
         "text": [
          "MALIBU",
          "MILL VALLEY",
          "SANTA ROSA",
          "MANHATTAN BEACH",
          "PIEDMONT",
          "MOUNTAIN VIEW",
          "SAN MATEO",
          "BAKERSFIELD",
          "SANTA CRUZ",
          "LAGUNA BEACH",
          "ARCADIA",
          "SAN RAFAEL",
          "REDWOOD CITY",
          "FRESNO",
          "SARATOGA",
          "GLENDALE",
          "FREMONT",
          "WALNUT CREEK",
          "HUNTINGTON BEACH",
          "SAN MARINO",
          "CARLSBAD",
          "SUNNYVALE",
          "DAVIS",
          "ORINDA",
          "LAFAYETTE",
          "SANTA ANA",
          "RIVERSIDE",
          "BURLINGAME",
          "TORRANCE",
          "BURBANK",
          "REDONDO BEACH",
          "NAPA",
          "LAGUNA NIGUEL",
          "THOUSAND OAKS",
          "ALAMEDA",
          "PALM SPRINGS",
          "CUPERTINO",
          "CALABASAS",
          "WESTLAKE VILLAGE",
          "VENTURA",
          "ANAHEIM",
          "CULVER CITY",
          "ORANGE",
          "COSTA MESA",
          "DIAMOND BAR",
          "DEL MAR",
          "SAUSALITO",
          "ENCINITAS",
          "SEBASTOPOL",
          "PALOS VERDES ESTATES",
          "RANCHO PALOS VERDES",
          "ROCKLIN",
          "PLEASANTON",
          "SAN CLEMENTE",
          "SAN CARLOS",
          "ESCONDIDO",
          "SAN LUIS OBISPO",
          "FULLERTON",
          "CHICO",
          "MISSION VIEJO",
          "HERMOSA BEACH",
          "TUSTIN",
          "SONOMA",
          "PETALUMA",
          "RICHMOND",
          "WALNUT",
          "STOCKTON",
          "BELVEDERE",
          "BELMONT",
          "SANTA CLARA",
          "YORBA LINDA",
          "SAN GABRIEL",
          "LA MESA",
          "NOVATO",
          "LIVERMORE",
          "CLAREMONT",
          "OCEANSIDE",
          "SIMI VALLEY",
          "LARKSPUR",
          "PALM DESERT",
          "SALINAS",
          "ALHAMBRA",
          "SOUTH PASADENA",
          "CAMARILLO",
          "EL CAJON",
          "SAN JUAN CAPISTRANO",
          "HALF MOON BAY",
          "CAMPBELL",
          "EL CERRITO",
          "REDDING",
          "MODESTO",
          "TEMECULA",
          "SAN MARCOS",
          "OXNARD",
          "CLOVIS",
          "RANCHO CUCAMONGA",
          "VISTA",
          "HAYWARD",
          "REDLANDS",
          "PACIFICA"
         ],
         "type": "scattergeo"
        },
        {
         "lat": [
          36.600239,
          34.097511,
          32.640053,
          32.685885999999996,
          37.977978,
          37.558547,
          34.44805,
          36.330228000000005,
          38.4088,
          38.752122,
          33.979178000000005,
          33.739744,
          34.435828,
          37.831317,
          33.741406,
          38.610467,
          38.104085999999995,
          33.756961,
          37.886869,
          34.062511,
          33.989819,
          32.991156,
          34.153339,
          33.599722,
          34.398883000000005,
          33.466972,
          34.144428000000005,
          39.261561,
          37.702153,
          38.677958000000004,
          39.219060999999996,
          33.875294,
          33.709185999999995,
          34.391664,
          32.962821999999996,
          33.553914,
          37.724931,
          34.068622,
          38.019366999999995,
          34.068622,
          37.687925,
          37.779928000000005,
          34.055228,
          37.1305,
          37.947978000000006,
          40.866517,
          38.356578000000006,
          34.686786,
          38.249358,
          33.575,
          34.107231,
          34.136119,
          33.646692,
          38.896564,
          38.891564,
          33.940014,
          33.773906,
          35.118586,
          34.953033000000005,
          33.858346999999995,
          34.579433,
          40.802071999999995,
          34.063344,
          33.919181,
          36.910231,
          39.150172,
          37.005783,
          33.646967,
          38.134147,
          34.080564,
          34.144897,
          33.787794,
          35.632278,
          33.88835,
          34.161671999999996,
          33.747519,
          33.814461,
          37.363539,
          37.630489000000004
         ],
         "locationmode": "USA-states",
         "lon": [
          -121.894675,
          -117.648389,
          -117.084197,
          -117.183089,
          -122.031072,
          -122.271078,
          -119.24288899999999,
          -119.29205800000001,
          -121.37161699999999,
          -121.28800600000001,
          -118.032844,
          -116.41278899999999,
          -119.82763899999999,
          -122.285247,
          -118.104786,
          -122.869161,
          -122.25663600000001,
          -118.35396100000001,
          -122.297747,
          -118.122847,
          -117.73258600000001,
          -117.271147,
          -118.761675,
          -117.699444,
          -119.518456,
          -117.698108,
          -118.001947,
          -121.016058,
          -121.93579199999999,
          -121.17605800000001,
          -121.06106100000001,
          -117.56643899999999,
          -117.95366899999999,
          -118.54258600000001,
          -117.03586399999999,
          -117.213922,
          -122.15607800000001,
          -117.938953,
          -122.134133,
          -118.02756699999999,
          -122.47020800000001,
          -121.97801399999999,
          -117.752306,
          -121.654389,
          -122.060797,
          -124.08283899999999,
          -121.98774399999999,
          -118.154164,
          -122.03996699999999,
          -117.72555600000001,
          -118.057847,
          -117.86533899999999,
          -116.31000800000001,
          -121.076889,
          -121.293008,
          -118.13256899999999,
          -117.941447,
          -120.590725,
          -120.43571899999999,
          -118.06478600000001,
          -118.11646100000002,
          -124.16367199999999,
          -117.65088899999999,
          -118.41646399999999,
          -121.75689399999999,
          -123.207783,
          -121.568275,
          -117.689217,
          -121.27221899999999,
          -118.072847,
          -118.26874199999999,
          -118.35812800000001,
          -120.66418600000002,
          -118.30896100000001,
          -118.052847,
          -116.97196699999999,
          -117.813111,
          -118.39511100000001,
          -122.411083
         ],
         "marker": {
          "color": "#0F4D92",
          "line": {
           "color": "rgb(40,40,40)",
           "width": 0.5
          },
          "size": [
           19.646048,
           19.437802,
           19.395768,
           19.342784,
           19.280640000000002,
           19.044027999999997,
           18.809576000000003,
           18.788726,
           18.570876,
           18.470587999999996,
           18.250576000000002,
           18.138740000000002,
           17.922334,
           17.761917999999998,
           17.745171999999997,
           17.468342,
           17.415726000000003,
           17.3144,
           16.791926,
           16.778558000000004,
           16.709738,
           16.698088000000002,
           16.666848,
           16.648507999999996,
           16.605297999999998,
           16.390158,
           16.31091,
           16.266589999999994,
           15.912402000000005,
           15.493931999999996,
           15.464538000000001,
           15.459484000000007,
           15.385406,
           15.308528000000004,
           15.020498000000005,
           15.003396,
           14.800062,
           14.736574,
           14.347666000000004,
           14.254454,
           14.061456,
           14.009492,
           13.964888000000004,
           13.659087999999999,
           13.656187999999998,
           13.62482,
           13.553897999999998,
           13.449776000000005,
           13.251354,
           12.756827999999999,
           12.597922000000002,
           12.425426000000003,
           12.333628000000003,
           12.245346000000001,
           12.150042000000001,
           12.13394,
           12.064088,
           12.010262,
           11.926885999999996,
           11.899428000000002,
           11.884804,
           11.812866000000001,
           11.431588000000003,
           11.215966000000002,
           11.154105999999999,
           11.099728000000002,
           10.919056000000001,
           10.80312,
           10.592810000000002,
           10.412058,
           10.396796,
           10.395672000000001,
           10.390160000000002,
           10.378964,
           10.315244000000002,
           10.296849999999997,
           10.265864000000002,
           10.221660000000002,
           10.070074000000002
          ],
          "sizemode": "area"
         },
         "name": "50000-99999",
         "text": [
          "MONTEREY",
          "UPLAND",
          "CHULA VISTA",
          "CORONADO",
          "CONCORD",
          "FOSTER CITY",
          "OJAI",
          "VISALIA",
          "ELK GROVE",
          "ROSEVILLE",
          "WHITTIER",
          "RANCHO MIRAGE",
          "GOLETA",
          "EMERYVILLE",
          "SEAL BEACH",
          "HEALDSBURG",
          "VALLEJO",
          "ROLLING HILLS",
          "ALBANY",
          "MONTEREY PARK",
          "CHINO HILLS",
          "SOLANA BEACH",
          "AGOURA HILLS",
          "LAGUNA HILLS",
          "CARPINTERIA",
          "DANA POINT",
          "MONROVIA",
          "NEVADA CITY",
          "DUBLIN",
          "FOLSOM",
          "GRASS VALLEY",
          "CORONA",
          "FOUNTAIN VALLEY",
          "SANTA CLARITA",
          "POWAY",
          "MURRIETA",
          "SAN LEANDRO",
          "WEST COVINA",
          "MARTINEZ",
          "EL MONTE",
          "DALY CITY",
          "SAN RAMON",
          "POMONA",
          "MORGAN HILL",
          "PLEASANT HILL",
          "ARCATA",
          "VACAVILLE",
          "LANCASTER",
          "FAIRFIELD",
          "ALISO VIEJO",
          "TEMPLE CITY",
          "GLENDORA",
          "LA QUINTA",
          "AUBURN",
          "LINCOLN",
          "DOWNEY",
          "GARDEN GROVE",
          "ARROYO GRANDE",
          "SANTA MARIA",
          "CERRITOS",
          "PALMDALE",
          "EUREKA",
          "ONTARIO",
          "EL SEGUNDO",
          "WATSONVILLE",
          "UKIAH",
          "GILROY",
          "LAKE FOREST",
          "LODI",
          "ROSEMEAD",
          "MOORPARK",
          "ROLLING HILLS ESTATES",
          "PASO ROBLES",
          "GARDENA",
          "SIERRA MADRE",
          "HEMET",
          "VILLA PARK",
          "BISHOP",
          "SAN BRUNO"
         ],
         "type": "scattergeo"
        },
        {
         "lat": [
          37.428272,
          38.678517,
          34.536108,
          37.73965,
          34.092233,
          33.916681,
          36.617736,
          34.016506,
          33.6103,
          37.598546999999996,
          33.853628,
          34.100842,
          33.717631,
          38.729625,
          34.106675,
          33.961681,
          37.654656,
          37.236333,
          37.593392,
          34.012236,
          37.320531,
          33.846403,
          37.051061,
          38.004922,
          38.580461,
          39.140446999999995,
          37.529658000000005,
          35.489416999999996,
          34.108344,
          39.409608,
          37.302164000000005,
          34.14695,
          34.090008000000005,
          38.707125,
          34.595819,
          34.057361,
          33.640856,
          33.751342,
          33.916403,
          35.132189000000004,
          33.960846999999994,
          34.160283,
          36.852453000000004,
          37.941033000000004,
          33.804460999999996,
          33.942467,
          39.445721999999996,
          38.017144,
          37.984092,
          33.867514,
          35.365808,
          33.872236,
          34.63915,
          38.445464,
          33.779742,
          33.917235999999995,
          37.494658,
          34.051956,
          32.838383,
          38.589071999999994,
          33.803072,
          33.720578,
          38.939925,
          38.339636,
          36.975228,
          38.327778,
          34.000569,
          33.931958,
          36.207728,
          34.033625,
          36.32745,
          41.755947,
          38.805461,
          37.739453000000005,
          38.578796999999994,
          34.354167,
          33.668078,
          35.622456,
          38.004366999999995,
          33.947236,
          36.065231,
          33.902236,
          36.961335999999996,
          34.180728,
          33.929460999999996,
          37.347716999999996,
          36.708006,
          39.513775,
          37.058278,
          34.13945,
          32.792,
          33.782519,
          41.410806,
          34.128344,
          37.468828,
          33.831406,
          34.085285999999996,
          37.797428000000004,
          40.178489,
          38.027975,
          38.524906,
          33.802517,
          41.059292,
          38.15575,
          33.954736,
          37.680766999999996,
          34.133619,
          34.426389,
          37.602725,
          37.766594,
          33.678333,
          32.978658,
          40.448208,
          33.881683,
          33.887236,
          39.04295,
          32.678108,
          34.048347,
          33.819361,
          34.020011,
          36.684403,
          35.121642,
          34.077511,
          37.962146999999995,
          37.797428000000004,
          37.997422,
          33.981681,
          39.524325,
          36.296061,
          33.792239,
          33.685022,
          33.865846999999995,
          33.983069,
          38.352692,
          35.142753000000006,
          34.1064,
          36.845511,
          34.003903,
          33.925571999999995,
          39.100731,
          38.254636,
          33.961125,
          33.598914
         ],
         "locationmode": "USA-states",
         "lon": [
          -121.906625,
          -121.773297,
          -117.29115800000001,
          -121.42522199999999,
          -117.435047,
          -117.90006100000001,
          -121.916622,
          -118.113753,
          -117.72533100000001,
          -122.387194,
          -118.13395600000001,
          -117.76783600000002,
          -116.340756,
          -120.798547,
          -117.806725,
          -118.353131,
          -122.40775,
          -121.99245800000001,
          -122.04383100000001,
          -117.68894399999999,
          -121.96224199999999,
          -118.04673100000001,
          -122.014683,
          -121.80578899999999,
          -121.53023300000001,
          -121.61691100000002,
          -122.04023899999999,
          -120.670725,
          -117.28976399999999,
          -123.355567,
          -120.48296699999999,
          -117.970897,
          -117.89033899999998,
          -121.28106100000001,
          -120.137647,
          -118.480511,
          -117.603103,
          -117.99399199999999,
          -118.352575,
          -118.448975,
          -117.95061899999999,
          -118.65231100000001,
          -121.40160300000001,
          -121.93579199999999,
          -118.167847,
          -117.229672,
          -123.805292,
          -122.28858100000001,
          -120.382139,
          -117.998117,
          -120.8499,
          -117.87033600000001,
          -120.45794199999999,
          -121.823297,
          -116.46529199999999,
          -118.01200800000001,
          -120.846594,
          -118.046733,
          -116.97391699999999,
          -121.302728,
          -118.07256399999999,
          -116.21556100000001,
          -119.977186,
          -122.701097,
          -121.95329199999999,
          -122.709167,
          -118.159792,
          -117.946172,
          -119.34733899999999,
          -117.04308600000002,
          -119.645683,
          -124.201747,
          -123.017222,
          -121.13541399999998,
          -122.579706,
          -119.059269,
          -117.32726100000001,
          -117.670897,
          -122.29885800000001,
          -118.08534399999999,
          -119.01676699999999,
          -118.08173300000001,
          -120.060717,
          -119.20815800000001,
          -116.97724699999999,
          -120.60908300000001,
          -119.55596399999999,
          -121.556358,
          -120.84991399999998,
          -117.977286,
          -115.56305,
          -117.228647,
          -122.194575,
          -117.20865,
          -122.141075,
          -118.282017,
          -117.960897,
          -121.216053,
          -122.235831,
          -121.884681,
          -121.970803,
          -117.993117,
          -124.143125,
          -121.691344,
          -118.21201699999999,
          -122.39997199999999,
          -117.907564,
          -117.300878,
          -120.86648100000001,
          -120.847153,
          -117.166944,
          -115.530267,
          -122.29778300000001,
          -118.117011,
          -118.352575,
          -122.915828,
          -117.099197,
          -117.26115300000001,
          -118.366647,
          -117.94950800000001,
          -121.802172,
          -120.621283,
          -117.689778,
          -122.345525,
          -120.99660300000001,
          -121.712453,
          -118.225072,
          -122.193592,
          -119.142053,
          -118.315072,
          -117.27309199999999,
          -118.083122,
          -118.096736,
          -120.932717,
          -120.641283,
          -117.370325,
          -121.537997,
          -118.23007199999999,
          -116.876411,
          -120.953275,
          -121.299947,
          -116.501678,
          -117.28003600000001
         ],
         "marker": {
          "color": "#003366",
          "line": {
           "color": "rgb(40,40,40)",
           "width": 0.5
          },
          "size": [
           9.986405999999997,
           9.793610000000001,
           9.765006,
           9.746509999999999,
           9.741403999999998,
           9.667144,
           9.661392,
           9.408186,
           9.308426000000004,
           9.24972400000001,
           9.210484000000003,
           9.162054,
           8.930132,
           8.786191999999998,
           8.683038,
           8.561522,
           8.523232000000002,
           8.375447999999999,
           8.129102,
           8.10204,
           8.048564000000002,
           8.040538000000002,
           8.025136,
           7.988091999999997,
           7.874066000000002,
           7.8725900000000015,
           7.79762,
           7.705176000000002,
           7.627939999999998,
           7.548975999999999,
           7.513560000000001,
           7.357,
           7.323202000000001,
           7.278476000000001,
           7.265916000000001,
           7.096894000000001,
           7.072331999999999,
           6.943288000000001,
           6.918360000000001,
           6.9011119999999995,
           6.759468,
           6.7325,
           6.612032000000001,
           6.487118000000001,
           6.337432000000001,
           6.1337220000000015,
           6.116622,
           6.106682000000001,
           6.019676,
           5.913836,
           5.738464000000001,
           5.686952000000001,
           5.673070000000002,
           5.659060000000001,
           5.527826,
           5.521624000000001,
           5.495458,
           5.495,
           5.416666,
           5.4165399999999995,
           5.361710000000001,
           5.132358000000001,
           5.067684,
           5.053268,
           4.950300000000001,
           4.929462,
           4.903574000000001,
           4.874592,
           4.8693360000000006,
           4.769126000000001,
           4.7492600000000005,
           4.713733999999999,
           4.659416000000001,
           4.619374,
           4.541951999999999,
           4.475454000000001,
           4.457954,
           4.440796000000001,
           4.359820000000001,
           4.357214,
           4.346134,
           4.260582,
           4.216322,
           4.210604000000001,
           4.1697500000000005,
           4.13123,
           4.039086,
           4.0339220000000005,
           4.001576,
           3.9206340000000006,
           3.912410000000001,
           3.7945040000000003,
           3.7846960000000007,
           3.7579540000000002,
           3.7456380000000005,
           3.739098,
           3.699018,
           3.6746019999999997,
           3.6553540000000004,
           3.642338,
           3.595654,
           3.58,
           3.525878,
           3.519990000000001,
           3.504204,
           3.4423520000000005,
           3.4408620000000005,
           3.3536360000000007,
           3.2999140000000002,
           3.23029,
           3.109248,
           3.0334380000000007,
           2.98319,
           2.9331359999999997,
           2.919236,
           2.8862020000000004,
           2.841820000000001,
           2.741664,
           2.6903840000000008,
           2.6744860000000004,
           2.6448820000000004,
           2.631418,
           2.57392,
           2.5388520000000003,
           2.5306,
           2.5085360000000003,
           2.4459220000000004,
           2.385362,
           2.2682260000000003,
           2.2670820000000003,
           2.26274,
           2.2612,
           2.19524,
           2.1668000000000003,
           2.1589899999999997,
           2.143728,
           2.1293400000000005,
           2.0900000000000003,
           2.0835,
           2.059132,
           2.0485700000000007,
           2.0317000000000003,
           2.021204
          ],
          "sizemode": "area"
         },
         "name": "10000-49999",
         "text": [
          "MILPITAS",
          "WOODLAND",
          "VICTORVILLE",
          "TRACY",
          "FONTANA",
          "BREA",
          "PACIFIC GROVE",
          "MONTEBELLO",
          "LAGUNA WOODS",
          "MILLBRAE",
          "LAKEWOOD",
          "LA VERNE",
          "INDIAN WELLS",
          "PLACERVILLE",
          "SAN DIMAS",
          "INGLEWOOD",
          "SOUTH SAN FRANCISCO",
          "MONTE SERENO",
          "UNION CITY",
          "CHINO",
          "CYPRESS",
          "LA PALMA",
          "SCOTTS VALLEY",
          "ANTIOCH",
          "WEST SACRAMENTO",
          "YUBA CITY",
          "NEWARK",
          "ATASCADERO",
          "SAN BERNARDINO",
          "WILLITS",
          "MERCED",
          "BRADBURY",
          "COVINA",
          "CITRUS HEIGHTS",
          "SOLVANG",
          "BRENTWOOD",
          "RANCHO SANTA MARGARITA",
          "WESTMINSTER",
          "HAWTHORNE",
          "TEHACHAPI",
          "LA HABRA HEIGHTS",
          "HIDDEN HILLS",
          "HOLLISTER",
          "CLAYTON",
          "SIGNAL HILL",
          "MORENO VALLEY",
          "FORT BRAGG",
          "HERCULES",
          "SONORA",
          "BUENA PARK",
          "MORRO BAY",
          "PLACENTIA",
          "LOMPOC",
          "DIXON",
          "CATHEDRAL CITY",
          "LA MIRADA",
          "TURLOCK",
          "SOUTH EL MONTE",
          "SANTEE",
          "RANCHO CORDOVA",
          "LOS ALAMITOS",
          "INDIO",
          "SOUTH LAKE TAHOE",
          "ROHNERT PARK",
          "CAPITOLA",
          "COTATI",
          "COMMERCE",
          "LA HABRA",
          "TULARE",
          "YUCAIPA",
          "HANFORD",
          "CRESCENT CITY",
          "CLOVERDALE",
          "RIPON",
          "CALISTOGA",
          "SANTA PAULA",
          "LAKE ELSINORE",
          "RIDGECREST",
          "PINOLE",
          "SANTA FE SPRINGS",
          "PORTERVILLE",
          "NORWALK",
          "MADERA",
          "PORT HUENEME",
          "BEAUMONT",
          "ATWATER",
          "SANGER",
          "OROVILLE",
          "LOS BANOS",
          "DUARTE",
          "EL CENTRO",
          "PERRIS",
          "MOUNT SHASTA",
          "HIGHLAND",
          "EAST PALO ALTO",
          "CARSON",
          "BALDWIN PARK",
          "MANTECA",
          "RED BLUFF",
          "PITTSBURG",
          "WINTERS",
          "STANTON",
          "TRINIDAD",
          "RIO VISTA",
          "SOUTH GATE",
          "BRISBANE",
          "AZUSA",
          "HESPERIA",
          "HUGHSON",
          "OAKDALE",
          "MENIFEE",
          "BRAWLEY",
          "ANDERSON",
          "BELLFLOWER",
          "LAWNDALE",
          "LAKEPORT",
          "NATIONAL CITY",
          "LOMA LINDA",
          "SEASIDE",
          "LA PUENTE",
          "MARINA",
          "GROVER BEACH",
          "MONTCLAIR",
          "SAN PABLO",
          "ESCALON",
          "OAKLEY",
          "HUNTINGTON PARK",
          "WILLOWS",
          "EXETER",
          "LOMITA",
          "CANYON LAKE",
          "ARTESIA",
          "PICO RIVERA",
          "IONE",
          "PISMO BEACH",
          "RIALTO",
          "SAN JUAN BAUTISTA",
          "VERNON",
          "BANNING",
          "COLFAX",
          "GALT",
          "DESERT HOT SPRINGS",
          "WILDOMAR"
         ],
         "type": "scattergeo"
        },
        {
         "lat": [
          34.895796999999995,
          40.416283,
          32.742553,
          32.583944,
          34.399164,
          34.073903,
          34.281946999999995,
          34.135558,
          33.931125,
          33.963056,
          35.500514,
          40.576242,
          33.889461,
          36.300783,
          37.736039,
          37.123000000000005,
          39.145725,
          37.594933000000005,
          40.598186,
          33.965292,
          38.908797,
          37.4716,
          36.596339,
          33.831403,
          39.810458000000004,
          34.106953000000004,
          33.783908000000004,
          41.42265,
          38.958231,
          34.613597,
          33.89585,
          39.927658,
          36.139678,
          41.735419,
          38.481853,
          34.003903
         ],
         "locationmode": "USA-states",
         "lon": [
          -117.017283,
          -120.653006,
          -117.03141699999999,
          -117.11308600000001,
          -118.918153,
          -117.31365600000001,
          -118.43897199999999,
          -116.05416899999999,
          -117.54866100000001,
          -117.56388899999999,
          -119.271775,
          -124.263944,
          -118.159792,
          -119.78291100000001,
          -120.93548899999999,
          -120.260175,
          -121.591356,
          -120.957711,
          -124.157275,
          -118.151458,
          -123.693072,
          -121.12965600000001,
          -119.45040300000001,
          -118.072842,
          -120.469103,
          -117.93534199999999,
          -116.95863600000001,
          -122.386128,
          -122.626372,
          -120.19265,
          -118.220072,
          -122.179156,
          -120.36015,
          -122.634472,
          -120.84465800000001,
          -117.061975
         ],
         "marker": {
          "color": "#4682B4",
          "line": {
           "color": "rgb(40,40,40)",
           "width": 0.5
          },
          "size": [
           1.973888,
           1.933836,
           1.9178160000000002,
           1.8566200000000002,
           1.8282519999999998,
           1.750228,
           1.7478200000000002,
           1.7408860000000002,
           1.7361739999999999,
           1.7143760000000003,
           1.6836019999999998,
           1.6526079999999999,
           1.617442,
           1.6026,
           1.554388,
           1.5404,
           1.5158420000000001,
           1.484924,
           1.47754,
           1.456758,
           1.44433,
           1.42035,
           1.40045,
           1.3932340000000003,
           1.3880000000000001,
           1.3800000000000001,
           1.3136220000000003,
           1.2807279999999999,
           1.236948,
           1.232366,
           1.2055,
           1.199794,
           1.176244,
           1.08549,
           1.0266,
           1.021568
          ],
          "sizemode": "area"
         },
         "name": "5000-9999",
         "text": [
          "BARSTOW",
          "SUSANVILLE",
          "LEMON GROVE",
          "IMPERIAL BEACH",
          "FILLMORE",
          "COLTON",
          "SAN FERNANDO",
          "TWENTYNINE PALMS",
          "NORCO",
          "EASTVALE",
          "SHAFTER",
          "FERNDALE",
          "PARAMOUNT",
          "LEMOORE",
          "RIVERBANK",
          "CHOWCHILLA",
          "MARYSVILLE",
          "CERES",
          "FORTUNA",
          "BELL GARDENS",
          "POINT ARENA",
          "PATTERSON",
          "REEDLEY",
          "HAWAIIAN GARDENS",
          "PORTOLA",
          "IRWINDALE",
          "SAN JACINTO",
          "WEED",
          "CLEARLAKE",
          "BUELLTON",
          "COMPTON",
          "CORNING",
          "COALINGA",
          "YREKA",
          "PLYMOUTH",
          "CALIMESA"
         ],
         "type": "scattergeo"
        },
        {
         "lat": [
          38.238246999999994,
          37.977978,
          36.723558000000004,
          34.243897,
          41.456806,
          38.348803000000004,
          38.174917,
          39.412389000000005,
          39.363778,
          32.678946999999994,
          39.214333,
          36.513839000000004,
          39.747381,
          37.822706,
          35.594125,
          36.570783,
          37.257717,
          38.392967,
          33.930292,
          41.663864000000004,
          35.678011,
          32.811161,
          35.1258,
          36.986058,
          37.641319,
          36.3208,
          41.487114,
          40.882908,
          33.977514,
          35.768842,
          38.505241999999996,
          36.543283,
          41.208208,
          32.991156,
          34.033903,
          36.203006,
          33.342819,
          32.847553000000005,
          39.009894,
          35.058858,
          37.313828,
          33.617233,
          35.142466999999996,
          33.999522,
          34.848061,
          36.983561,
          41.728196999999994,
          40.680428000000006,
          36.858839,
          34.582769,
          36.506628000000006,
          36.212744,
          38.419356,
          39.676294,
          41.967369,
          33.6803,
          36.413561,
          33.986681,
          39.154614,
          37.386883000000005,
          41.955989,
          36.753561,
          33.960569,
          36.624394,
          36.606617,
          40.4993,
          34.971644,
          36.593292,
          40.027103000000004,
          36.630506,
          33.125597,
          36.004121999999995,
          35.2018
         ],
         "locationmode": "USA-states",
         "lon": [
          -122.040244,
          -122.031072,
          -120.059878,
          -116.911422,
          -122.894756,
          -120.774103,
          -122.26080300000001,
          -121.71275,
          -121.693583,
          -115.498883,
          -122.009417,
          -119.55401699999999,
          -122.196375,
          -121.27661100000002,
          -119.340947,
          -119.612075,
          -120.998814,
          -120.80243600000001,
          -118.21146100000001,
          -124.25289199999999,
          -119.229275,
          -115.380264,
          -117.98590300000001,
          -120.626572,
          -120.76048300000001,
          -121.24381399999999,
          -120.542456,
          -123.98395,
          -118.187017,
          -119.24705300000001,
          -122.470386,
          -119.38706699999999,
          -122.271953,
          -117.271147,
          -117.313653,
          -119.08816100000001,
          -118.328228,
          -115.56943899999999,
          -121.423014,
          -119.40095,
          -121.02076100000001,
          -114.589175,
          -119.45650800000001,
          -117.475397,
          -114.61413300000001,
          -121.98051699999999,
          -122.5278,
          -122.370842,
          -120.45600800000001,
          -117.40921399999999,
          -121.444381,
          -121.126028,
          -120.82410300000001,
          -120.24103899999999,
          -121.91806100000001,
          -116.17389399999999,
          -119.098717,
          -118.18535,
          -122.149419,
          -120.723533,
          -121.477492,
          -120.38155800000001,
          -118.18535,
          -119.313731,
          -120.189044,
          -124.10643600000002,
          -120.571836,
          -121.834953,
          -122.123322,
          -119.67846899999999,
          -115.51415300000001,
          -120.129028,
          -118.833106
         ],
         "marker": {
          "color": "#002E63",
          "line": {
           "color": "rgb(40,40,40)",
           "width": 0.5
          },
          "size": [
           0.9918120000000001,
           0.967464,
           0.93418,
           0.9209560000000002,
           0.8847820000000001,
           0.881,
           0.8700680000000001,
           0.865694,
           0.8488,
           0.785914,
           0.77359,
           0.756948,
           0.7568,
           0.723746,
           0.7212000000000001,
           0.6993720000000001,
           0.6988440000000001,
           0.6921120000000001,
           0.679166,
           0.670806,
           0.67,
           0.6575000000000001,
           0.635,
           0.6274000000000001,
           0.6124,
           0.587088,
           0.5842,
           0.5749759999999999,
           0.55482,
           0.5354,
           0.5225000000000001,
           0.519344,
           0.5120100000000001,
           0.5087200000000001,
           0.4894,
           0.424862,
           0.421006,
           0.41600000000000004,
           0.4058,
           0.4,
           0.39479600000000004,
           0.3724,
           0.36045600000000005,
           0.332716,
           0.2888,
           0.28471,
           0.278442,
           0.27759,
           0.272,
           0.2504,
           0.2253,
           0.215,
           0.20999799999999996,
           0.1824,
           0.1792,
           0.1726,
           0.172598,
           0.169,
           0.1394,
           0.1063,
           0.094,
           0.09000000000000001,
           0.07489000000000001,
           0.060000000000000005,
           0.058,
           0.04549,
           0.0376,
           0.0358,
           0.024024000000000004,
           0.02204,
           0.01,
           0.005,
           0
          ],
          "sizemode": "area"
         },
         "name": "1-4999",
         "text": [
          "SUISUN CITY",
          "CORCORAN",
          "KERMAN",
          "BIG BEAR LAKE",
          "ETNA",
          "JACKSON",
          "AMERICAN CANYON",
          "BIGGS",
          "GRIDLEY",
          "CALEXICO",
          "COLUSA",
          "KINGSBURG",
          "ORLAND",
          "LATHROP",
          "WASCO",
          "SELMA",
          "GUSTINE",
          "SUTTER CREEK",
          "LYNWOOD",
          "FORT JONES",
          "MCFARLAND",
          "HOLTVILLE",
          "CALIFORNIA CITY",
          "DOS PALOS",
          "WATERFORD",
          "GREENFIELD",
          "ALTURAS",
          "BLUE LAKE",
          "BELL",
          "DELANO",
          "ST. HELENA",
          "DINUBA",
          "DUNSMUIR",
          "SOLEDAD",
          "GRAND TERRACE",
          "LINDSAY",
          "AVALON",
          "IMPERIAL",
          "WHEATLAND",
          "MARICOPA",
          "NEWMAN",
          "BLYTHE",
          "TAFT",
          "JURUPA VALLEY",
          "NEEDLES",
          "LIVE OAK",
          "MONTAGUE",
          "SHASTA LAKE",
          "FIREBAUGH",
          "ADELANTO",
          "GONZALES",
          "KING CITY",
          "AMADOR CITY",
          "LOYALTON",
          "DORRIS",
          "COACHELLA",
          "WOODLAKE",
          "MAYWOOD",
          "WILLIAMS",
          "LIVINGSTON",
          "TULELAKE",
          "MENDOTA",
          "CUDAHY",
          "ORANGE COVE",
          "SAN JOAQUIN",
          "RIO DELL",
          "GUADALUPE",
          "DEL REY OAKS",
          "TEHAMA",
          "FOWLER",
          "CALIPATRIA",
          "AVENAL",
          "ARVIN"
         ],
         "type": "scattergeo"
        }
       ],
       "layout": {
        "geo": {
         "landcolor": "rgb(217, 217, 217)",
         "projection": {
          "type": "albers usa"
         },
         "scope": "usa"
        },
        "legend": {
         "title": {
          "text": "Contributions in Dollars"
         }
        },
        "showlegend": true,
        "template": {
         "data": {
          "bar": [
           {
            "error_x": {
             "color": "#2a3f5f"
            },
            "error_y": {
             "color": "#2a3f5f"
            },
            "marker": {
             "line": {
              "color": "#E5ECF6",
              "width": 0.5
             }
            },
            "type": "bar"
           }
          ],
          "barpolar": [
           {
            "marker": {
             "line": {
              "color": "#E5ECF6",
              "width": 0.5
             }
            },
            "type": "barpolar"
           }
          ],
          "carpet": [
           {
            "aaxis": {
             "endlinecolor": "#2a3f5f",
             "gridcolor": "white",
             "linecolor": "white",
             "minorgridcolor": "white",
             "startlinecolor": "#2a3f5f"
            },
            "baxis": {
             "endlinecolor": "#2a3f5f",
             "gridcolor": "white",
             "linecolor": "white",
             "minorgridcolor": "white",
             "startlinecolor": "#2a3f5f"
            },
            "type": "carpet"
           }
          ],
          "choropleth": [
           {
            "colorbar": {
             "outlinewidth": 0,
             "ticks": ""
            },
            "type": "choropleth"
           }
          ],
          "contour": [
           {
            "colorbar": {
             "outlinewidth": 0,
             "ticks": ""
            },
            "colorscale": [
             [
              0,
              "#0d0887"
             ],
             [
              0.1111111111111111,
              "#46039f"
             ],
             [
              0.2222222222222222,
              "#7201a8"
             ],
             [
              0.3333333333333333,
              "#9c179e"
             ],
             [
              0.4444444444444444,
              "#bd3786"
             ],
             [
              0.5555555555555556,
              "#d8576b"
             ],
             [
              0.6666666666666666,
              "#ed7953"
             ],
             [
              0.7777777777777778,
              "#fb9f3a"
             ],
             [
              0.8888888888888888,
              "#fdca26"
             ],
             [
              1,
              "#f0f921"
             ]
            ],
            "type": "contour"
           }
          ],
          "contourcarpet": [
           {
            "colorbar": {
             "outlinewidth": 0,
             "ticks": ""
            },
            "type": "contourcarpet"
           }
          ],
          "heatmap": [
           {
            "colorbar": {
             "outlinewidth": 0,
             "ticks": ""
            },
            "colorscale": [
             [
              0,
              "#0d0887"
             ],
             [
              0.1111111111111111,
              "#46039f"
             ],
             [
              0.2222222222222222,
              "#7201a8"
             ],
             [
              0.3333333333333333,
              "#9c179e"
             ],
             [
              0.4444444444444444,
              "#bd3786"
             ],
             [
              0.5555555555555556,
              "#d8576b"
             ],
             [
              0.6666666666666666,
              "#ed7953"
             ],
             [
              0.7777777777777778,
              "#fb9f3a"
             ],
             [
              0.8888888888888888,
              "#fdca26"
             ],
             [
              1,
              "#f0f921"
             ]
            ],
            "type": "heatmap"
           }
          ],
          "heatmapgl": [
           {
            "colorbar": {
             "outlinewidth": 0,
             "ticks": ""
            },
            "colorscale": [
             [
              0,
              "#0d0887"
             ],
             [
              0.1111111111111111,
              "#46039f"
             ],
             [
              0.2222222222222222,
              "#7201a8"
             ],
             [
              0.3333333333333333,
              "#9c179e"
             ],
             [
              0.4444444444444444,
              "#bd3786"
             ],
             [
              0.5555555555555556,
              "#d8576b"
             ],
             [
              0.6666666666666666,
              "#ed7953"
             ],
             [
              0.7777777777777778,
              "#fb9f3a"
             ],
             [
              0.8888888888888888,
              "#fdca26"
             ],
             [
              1,
              "#f0f921"
             ]
            ],
            "type": "heatmapgl"
           }
          ],
          "histogram": [
           {
            "marker": {
             "colorbar": {
              "outlinewidth": 0,
              "ticks": ""
             }
            },
            "type": "histogram"
           }
          ],
          "histogram2d": [
           {
            "colorbar": {
             "outlinewidth": 0,
             "ticks": ""
            },
            "colorscale": [
             [
              0,
              "#0d0887"
             ],
             [
              0.1111111111111111,
              "#46039f"
             ],
             [
              0.2222222222222222,
              "#7201a8"
             ],
             [
              0.3333333333333333,
              "#9c179e"
             ],
             [
              0.4444444444444444,
              "#bd3786"
             ],
             [
              0.5555555555555556,
              "#d8576b"
             ],
             [
              0.6666666666666666,
              "#ed7953"
             ],
             [
              0.7777777777777778,
              "#fb9f3a"
             ],
             [
              0.8888888888888888,
              "#fdca26"
             ],
             [
              1,
              "#f0f921"
             ]
            ],
            "type": "histogram2d"
           }
          ],
          "histogram2dcontour": [
           {
            "colorbar": {
             "outlinewidth": 0,
             "ticks": ""
            },
            "colorscale": [
             [
              0,
              "#0d0887"
             ],
             [
              0.1111111111111111,
              "#46039f"
             ],
             [
              0.2222222222222222,
              "#7201a8"
             ],
             [
              0.3333333333333333,
              "#9c179e"
             ],
             [
              0.4444444444444444,
              "#bd3786"
             ],
             [
              0.5555555555555556,
              "#d8576b"
             ],
             [
              0.6666666666666666,
              "#ed7953"
             ],
             [
              0.7777777777777778,
              "#fb9f3a"
             ],
             [
              0.8888888888888888,
              "#fdca26"
             ],
             [
              1,
              "#f0f921"
             ]
            ],
            "type": "histogram2dcontour"
           }
          ],
          "mesh3d": [
           {
            "colorbar": {
             "outlinewidth": 0,
             "ticks": ""
            },
            "type": "mesh3d"
           }
          ],
          "parcoords": [
           {
            "line": {
             "colorbar": {
              "outlinewidth": 0,
              "ticks": ""
             }
            },
            "type": "parcoords"
           }
          ],
          "pie": [
           {
            "automargin": true,
            "type": "pie"
           }
          ],
          "scatter": [
           {
            "marker": {
             "colorbar": {
              "outlinewidth": 0,
              "ticks": ""
             }
            },
            "type": "scatter"
           }
          ],
          "scatter3d": [
           {
            "line": {
             "colorbar": {
              "outlinewidth": 0,
              "ticks": ""
             }
            },
            "marker": {
             "colorbar": {
              "outlinewidth": 0,
              "ticks": ""
             }
            },
            "type": "scatter3d"
           }
          ],
          "scattercarpet": [
           {
            "marker": {
             "colorbar": {
              "outlinewidth": 0,
              "ticks": ""
             }
            },
            "type": "scattercarpet"
           }
          ],
          "scattergeo": [
           {
            "marker": {
             "colorbar": {
              "outlinewidth": 0,
              "ticks": ""
             }
            },
            "type": "scattergeo"
           }
          ],
          "scattergl": [
           {
            "marker": {
             "colorbar": {
              "outlinewidth": 0,
              "ticks": ""
             }
            },
            "type": "scattergl"
           }
          ],
          "scattermapbox": [
           {
            "marker": {
             "colorbar": {
              "outlinewidth": 0,
              "ticks": ""
             }
            },
            "type": "scattermapbox"
           }
          ],
          "scatterpolar": [
           {
            "marker": {
             "colorbar": {
              "outlinewidth": 0,
              "ticks": ""
             }
            },
            "type": "scatterpolar"
           }
          ],
          "scatterpolargl": [
           {
            "marker": {
             "colorbar": {
              "outlinewidth": 0,
              "ticks": ""
             }
            },
            "type": "scatterpolargl"
           }
          ],
          "scatterternary": [
           {
            "marker": {
             "colorbar": {
              "outlinewidth": 0,
              "ticks": ""
             }
            },
            "type": "scatterternary"
           }
          ],
          "surface": [
           {
            "colorbar": {
             "outlinewidth": 0,
             "ticks": ""
            },
            "colorscale": [
             [
              0,
              "#0d0887"
             ],
             [
              0.1111111111111111,
              "#46039f"
             ],
             [
              0.2222222222222222,
              "#7201a8"
             ],
             [
              0.3333333333333333,
              "#9c179e"
             ],
             [
              0.4444444444444444,
              "#bd3786"
             ],
             [
              0.5555555555555556,
              "#d8576b"
             ],
             [
              0.6666666666666666,
              "#ed7953"
             ],
             [
              0.7777777777777778,
              "#fb9f3a"
             ],
             [
              0.8888888888888888,
              "#fdca26"
             ],
             [
              1,
              "#f0f921"
             ]
            ],
            "type": "surface"
           }
          ],
          "table": [
           {
            "cells": {
             "fill": {
              "color": "#EBF0F8"
             },
             "line": {
              "color": "white"
             }
            },
            "header": {
             "fill": {
              "color": "#C8D4E3"
             },
             "line": {
              "color": "white"
             }
            },
            "type": "table"
           }
          ]
         },
         "layout": {
          "annotationdefaults": {
           "arrowcolor": "#2a3f5f",
           "arrowhead": 0,
           "arrowwidth": 1
          },
          "autotypenumbers": "strict",
          "coloraxis": {
           "colorbar": {
            "outlinewidth": 0,
            "ticks": ""
           }
          },
          "colorscale": {
           "diverging": [
            [
             0,
             "#8e0152"
            ],
            [
             0.1,
             "#c51b7d"
            ],
            [
             0.2,
             "#de77ae"
            ],
            [
             0.3,
             "#f1b6da"
            ],
            [
             0.4,
             "#fde0ef"
            ],
            [
             0.5,
             "#f7f7f7"
            ],
            [
             0.6,
             "#e6f5d0"
            ],
            [
             0.7,
             "#b8e186"
            ],
            [
             0.8,
             "#7fbc41"
            ],
            [
             0.9,
             "#4d9221"
            ],
            [
             1,
             "#276419"
            ]
           ],
           "sequential": [
            [
             0,
             "#0d0887"
            ],
            [
             0.1111111111111111,
             "#46039f"
            ],
            [
             0.2222222222222222,
             "#7201a8"
            ],
            [
             0.3333333333333333,
             "#9c179e"
            ],
            [
             0.4444444444444444,
             "#bd3786"
            ],
            [
             0.5555555555555556,
             "#d8576b"
            ],
            [
             0.6666666666666666,
             "#ed7953"
            ],
            [
             0.7777777777777778,
             "#fb9f3a"
            ],
            [
             0.8888888888888888,
             "#fdca26"
            ],
            [
             1,
             "#f0f921"
            ]
           ],
           "sequentialminus": [
            [
             0,
             "#0d0887"
            ],
            [
             0.1111111111111111,
             "#46039f"
            ],
            [
             0.2222222222222222,
             "#7201a8"
            ],
            [
             0.3333333333333333,
             "#9c179e"
            ],
            [
             0.4444444444444444,
             "#bd3786"
            ],
            [
             0.5555555555555556,
             "#d8576b"
            ],
            [
             0.6666666666666666,
             "#ed7953"
            ],
            [
             0.7777777777777778,
             "#fb9f3a"
            ],
            [
             0.8888888888888888,
             "#fdca26"
            ],
            [
             1,
             "#f0f921"
            ]
           ]
          },
          "colorway": [
           "#636efa",
           "#EF553B",
           "#00cc96",
           "#ab63fa",
           "#FFA15A",
           "#19d3f3",
           "#FF6692",
           "#B6E880",
           "#FF97FF",
           "#FECB52"
          ],
          "font": {
           "color": "#2a3f5f"
          },
          "geo": {
           "bgcolor": "white",
           "lakecolor": "white",
           "landcolor": "#E5ECF6",
           "showlakes": true,
           "showland": true,
           "subunitcolor": "white"
          },
          "hoverlabel": {
           "align": "left"
          },
          "hovermode": "closest",
          "mapbox": {
           "style": "light"
          },
          "paper_bgcolor": "white",
          "plot_bgcolor": "#E5ECF6",
          "polar": {
           "angularaxis": {
            "gridcolor": "white",
            "linecolor": "white",
            "ticks": ""
           },
           "bgcolor": "#E5ECF6",
           "radialaxis": {
            "gridcolor": "white",
            "linecolor": "white",
            "ticks": ""
           }
          },
          "scene": {
           "xaxis": {
            "backgroundcolor": "#E5ECF6",
            "gridcolor": "white",
            "gridwidth": 2,
            "linecolor": "white",
            "showbackground": true,
            "ticks": "",
            "zerolinecolor": "white"
           },
           "yaxis": {
            "backgroundcolor": "#E5ECF6",
            "gridcolor": "white",
            "gridwidth": 2,
            "linecolor": "white",
            "showbackground": true,
            "ticks": "",
            "zerolinecolor": "white"
           },
           "zaxis": {
            "backgroundcolor": "#E5ECF6",
            "gridcolor": "white",
            "gridwidth": 2,
            "linecolor": "white",
            "showbackground": true,
            "ticks": "",
            "zerolinecolor": "white"
           }
          },
          "shapedefaults": {
           "line": {
            "color": "#2a3f5f"
           }
          },
          "ternary": {
           "aaxis": {
            "gridcolor": "white",
            "linecolor": "white",
            "ticks": ""
           },
           "baxis": {
            "gridcolor": "white",
            "linecolor": "white",
            "ticks": ""
           },
           "bgcolor": "#E5ECF6",
           "caxis": {
            "gridcolor": "white",
            "linecolor": "white",
            "ticks": ""
           }
          },
          "title": {
           "x": 0.05
          },
          "xaxis": {
           "automargin": true,
           "gridcolor": "white",
           "linecolor": "white",
           "ticks": "",
           "title": {
            "standoff": 15
           },
           "zerolinecolor": "white",
           "zerolinewidth": 2
          },
          "yaxis": {
           "automargin": true,
           "gridcolor": "white",
           "linecolor": "white",
           "ticks": "",
           "title": {
            "standoff": 15
           },
           "zerolinecolor": "white",
           "zerolinewidth": 2
          }
         }
        },
        "title": {
         "text": "Contribution Amount by City",
         "x": 0.5
        }
       }
      },
      "text/html": [
       "<div>                            <div id=\"e7f53311-8201-4240-9581-f2d63eca26b4\" class=\"plotly-graph-div\" style=\"height:525px; width:100%;\"></div>            <script type=\"text/javascript\">                require([\"plotly\"], function(Plotly) {                    window.PLOTLYENV=window.PLOTLYENV || {};                                    if (document.getElementById(\"e7f53311-8201-4240-9581-f2d63eca26b4\")) {                    Plotly.newPlot(                        \"e7f53311-8201-4240-9581-f2d63eca26b4\",                        [{\"lat\": [34.052233], \"locationmode\": \"USA-states\", \"lon\": [-118.24368600000001], \"marker\": {\"color\": \"#F0F8FF\", \"line\": {\"color\": \"rgb(40,40,40)\", \"width\": 0.5}, \"size\": [1928.8353259999906], \"sizemode\": \"area\"}, \"name\": \"9000000+\", \"text\": [\"LOS ANGELES\"], \"type\": \"scattergeo\"}, {\"lat\": [37.774931], \"locationmode\": \"USA-states\", \"lon\": [-122.419417], \"marker\": {\"color\": \"#A1CAF1\", \"line\": {\"color\": \"rgb(40,40,40)\", \"width\": 0.5}, \"size\": [1503.8078740000078], \"sizemode\": \"area\"}, \"name\": \"5000000-8999999\", \"text\": [\"SAN FRANCISCO\"], \"type\": \"scattergeo\"}, {\"lat\": [34.073619, 32.715328, 34.019453000000006, 37.441883000000004, 37.804364, 37.871592, 38.581571999999994, 37.339386, 33.618911], \"locationmode\": \"USA-states\", \"lon\": [-118.400356, -117.157256, -118.491192, -122.143019, -122.27111399999998, -122.272747, -121.4944, -121.89495600000001, -117.928947], \"marker\": {\"color\": \"#6495ED\", \"line\": {\"color\": \"rgb(40,40,40)\", \"width\": 0.5}, \"size\": [425.89161599999994, 403.9460159999997, 338.1472140000002, 334.190152, 298.11336199999977, 265.1385839999998, 250.13863800000027, 246.93507199999976, 211.43500999999992], \"sizemode\": \"area\"}, \"name\": \"1000000-4999999\", \"text\": [\"BEVERLY HILLS\", \"SAN DIEGO\", \"SANTA MONICA\", \"PALO ALTO\", \"OAKLAND\", \"BERKELEY\", \"SACRAMENTO\", \"SAN JOSE\", \"NEWPORT BEACH\"], \"type\": \"scattergeo\"}, {\"lat\": [34.147785999999996, 34.420831, 37.453828, 33.683946999999996, 33.796331, 33.768322, 34.090008000000005], \"locationmode\": \"USA-states\", \"lon\": [-118.144517, -119.69818899999999, -122.18218600000002, -117.79469399999999, -118.118119, -118.195617, -118.36174399999999], \"marker\": {\"color\": \"#007FFF\", \"line\": {\"color\": \"rgb(40,40,40)\", \"width\": 0.5}, \"size\": [199.475908, 175.00706200000005, 149.57622400000002, 148.50279000000003, 136.753984, 123.07207199999998, 117.85156999999995], \"sizemode\": \"area\"}, \"name\": \"500000-999999\", \"text\": [\"PASADENA\", \"SANTA BARBARA\", \"MENLO PARK\", \"IRVINE\", \"LOS ALTOS\", \"LONG BEACH\", \"WEST HOLLYWOOD\"], \"type\": \"scattergeo\"}, {\"lat\": [34.005008000000004, 37.906036, 38.440467, 33.884736, 37.824372, 37.386053000000004, 37.562992, 35.373292, 36.974117, 33.542246999999996, 34.139728000000005, 37.973535999999996, 37.485214, 36.746842, 37.263833, 34.142508, 37.548269, 37.910078000000006, 33.660297, 34.121396999999995, 33.158091999999996, 37.368831, 38.544906, 37.877146999999994, 37.885758, 33.745571999999996, 33.95335, 37.584103000000006, 33.83585, 34.180839, 33.849183000000004, 38.297539, 33.522525, 34.107231, 37.765206, 33.830296999999995, 37.322996999999994, 34.138333, 34.145839, 34.274639, 33.835291999999995, 34.021122, 33.787794, 33.641133, 34.028622, 32.959489000000005, 37.859094, 33.036986, 38.402136, 33.800571999999995, 33.744461, 38.790733, 37.662431, 33.426972, 37.507158000000004, 33.119208, 35.282753, 33.870292, 39.728494, 33.600021999999996, 33.862235999999996, 33.74585, 38.291858000000005, 38.232417, 37.935758, 34.020289, 37.957703, 37.872703, 37.520214, 37.354108000000004, 33.888625, 34.096111, 32.767828, 38.107419, 37.681875, 34.096675, 33.195869, 34.269447, 37.934092, 33.722244, 36.677735999999996, 34.095286, 34.116119, 34.216394, 32.794771999999995, 33.501692, 37.463553000000005, 37.287164000000004, 37.916133, 40.586539, 37.639097, 33.493639, 33.143372, 34.197506, 36.825228, 34.1064, 33.200036, 37.668819, 34.055569, 37.613825], \"locationmode\": \"USA-states\", \"lon\": [-118.810172, -122.544975, -122.714431, -118.410908, -122.23163600000001, -122.08385, -122.325525, -119.01871100000001, -122.03079699999999, -117.783111, -118.035344, -122.53108600000002, -122.236356, -119.772586, -122.02301399999999, -118.255075, -121.98857199999999, -122.065183, -117.999225, -118.106458, -117.350594, -122.03635, -121.740517, -122.179689, -122.11801899999999, -117.867833, -117.396156, -122.366083, -118.34062800000001, -118.308967, -118.38840800000001, -122.286864, -117.707553, -118.057847, -122.24163600000001, -116.54529199999999, -122.032183, -118.66083300000001, -118.805647, -119.22900600000001, -117.914503, -118.39646699999999, -117.85311100000001, -117.918669, -117.810336, -117.26531399999999, -122.48525, -117.291983, -122.823881, -118.390075, -118.38701699999999, -121.23578300000001, -121.874678, -117.61199199999999, -122.260522, -117.086422, -120.659617, -117.925339, -121.837478, -117.671994, -118.399519, -117.826167, -122.458036, -122.63665300000001, -122.34775, -117.86533899999999, -121.29078100000001, -122.464417, -122.2758, -121.95523600000001, -117.813111, -118.105833, -117.02308300000001, -122.569703, -121.76800800000001, -117.719778, -117.37948300000001, -118.78148300000001, -122.535253, -116.37445600000001, -121.6555, -118.12701399999999, -118.15035, -119.037603, -116.962528, -117.66255, -122.42858600000001, -121.94995800000001, -122.31076399999999, -122.391675, -120.99687800000001, -117.14836399999999, -117.16614399999999, -119.177053, -119.702919, -117.593108, -117.24253600000002, -122.080797, -117.18253899999999, -122.486919], \"marker\": {\"color\": \"#1560BD\", \"line\": {\"color\": \"rgb(40,40,40)\", \"width\": 0.5}, \"size\": [84.84435799999993, 84.66398999999998, 84.39740600000002, 82.72449800000001, 80.73663399999998, 76.85765599999993, 75.39933, 74.29628400000006, 73.05754399999998, 71.527442, 69.33571600000008, 68.88811000000005, 66.08666599999998, 65.01702000000003, 64.003262, 63.97865600000004, 63.78353, 63.47466799999999, 60.008755999999984, 59.942062, 59.51495999999997, 56.09011800000001, 55.38354400000003, 55.051048, 52.17090999999999, 51.45454400000002, 49.90925000000004, 48.62846200000002, 47.49005600000001, 46.87266400000002, 46.09900200000002, 45.85528000000001, 44.841803999999996, 44.33053800000002, 43.45272400000003, 43.26851400000002, 43.14171200000001, 39.68410800000001, 39.66357, 39.24388600000003, 39.16896600000001, 37.47510200000001, 37.344906000000016, 36.81157, 36.39441000000001, 36.164346, 36.044142, 35.99220200000001, 35.814244, 35.18577800000001, 34.53389600000001, 34.105132000000005, 33.82745800000002, 33.36492400000001, 33.03822200000001, 32.21207200000001, 31.428900000000013, 31.01433600000001, 30.44657799999999, 29.81629200000002, 29.215924, 29.053297999999998, 28.883674, 28.284292000000004, 28.06936, 28.03732, 27.984659999999998, 27.960545999999997, 27.243966, 27.122644, 27.016778000000006, 26.593036, 26.507227999999998, 26.19939399999999, 26.040846, 25.614419999999992, 24.959255999999996, 24.815238, 24.547978, 24.384806, 24.136569999999995, 23.825383999999996, 23.807812000000002, 23.710981999999998, 23.680072, 23.608848000000005, 23.545288000000003, 22.72013799999999, 22.255907999999994, 21.904832, 21.846074, 21.268386000000007, 21.001524, 20.895604000000002, 20.848481999999997, 20.775334000000004, 20.538063999999995, 20.47461, 20.38631800000001, 20.23119199999999], \"sizemode\": \"area\"}, \"name\": \"100000-499999\", \"text\": [\"MALIBU\", \"MILL VALLEY\", \"SANTA ROSA\", \"MANHATTAN BEACH\", \"PIEDMONT\", \"MOUNTAIN VIEW\", \"SAN MATEO\", \"BAKERSFIELD\", \"SANTA CRUZ\", \"LAGUNA BEACH\", \"ARCADIA\", \"SAN RAFAEL\", \"REDWOOD CITY\", \"FRESNO\", \"SARATOGA\", \"GLENDALE\", \"FREMONT\", \"WALNUT CREEK\", \"HUNTINGTON BEACH\", \"SAN MARINO\", \"CARLSBAD\", \"SUNNYVALE\", \"DAVIS\", \"ORINDA\", \"LAFAYETTE\", \"SANTA ANA\", \"RIVERSIDE\", \"BURLINGAME\", \"TORRANCE\", \"BURBANK\", \"REDONDO BEACH\", \"NAPA\", \"LAGUNA NIGUEL\", \"THOUSAND OAKS\", \"ALAMEDA\", \"PALM SPRINGS\", \"CUPERTINO\", \"CALABASAS\", \"WESTLAKE VILLAGE\", \"VENTURA\", \"ANAHEIM\", \"CULVER CITY\", \"ORANGE\", \"COSTA MESA\", \"DIAMOND BAR\", \"DEL MAR\", \"SAUSALITO\", \"ENCINITAS\", \"SEBASTOPOL\", \"PALOS VERDES ESTATES\", \"RANCHO PALOS VERDES\", \"ROCKLIN\", \"PLEASANTON\", \"SAN CLEMENTE\", \"SAN CARLOS\", \"ESCONDIDO\", \"SAN LUIS OBISPO\", \"FULLERTON\", \"CHICO\", \"MISSION VIEJO\", \"HERMOSA BEACH\", \"TUSTIN\", \"SONOMA\", \"PETALUMA\", \"RICHMOND\", \"WALNUT\", \"STOCKTON\", \"BELVEDERE\", \"BELMONT\", \"SANTA CLARA\", \"YORBA LINDA\", \"SAN GABRIEL\", \"LA MESA\", \"NOVATO\", \"LIVERMORE\", \"CLAREMONT\", \"OCEANSIDE\", \"SIMI VALLEY\", \"LARKSPUR\", \"PALM DESERT\", \"SALINAS\", \"ALHAMBRA\", \"SOUTH PASADENA\", \"CAMARILLO\", \"EL CAJON\", \"SAN JUAN CAPISTRANO\", \"HALF MOON BAY\", \"CAMPBELL\", \"EL CERRITO\", \"REDDING\", \"MODESTO\", \"TEMECULA\", \"SAN MARCOS\", \"OXNARD\", \"CLOVIS\", \"RANCHO CUCAMONGA\", \"VISTA\", \"HAYWARD\", \"REDLANDS\", \"PACIFICA\"], \"type\": \"scattergeo\"}, {\"lat\": [36.600239, 34.097511, 32.640053, 32.685885999999996, 37.977978, 37.558547, 34.44805, 36.330228000000005, 38.4088, 38.752122, 33.979178000000005, 33.739744, 34.435828, 37.831317, 33.741406, 38.610467, 38.104085999999995, 33.756961, 37.886869, 34.062511, 33.989819, 32.991156, 34.153339, 33.599722, 34.398883000000005, 33.466972, 34.144428000000005, 39.261561, 37.702153, 38.677958000000004, 39.219060999999996, 33.875294, 33.709185999999995, 34.391664, 32.962821999999996, 33.553914, 37.724931, 34.068622, 38.019366999999995, 34.068622, 37.687925, 37.779928000000005, 34.055228, 37.1305, 37.947978000000006, 40.866517, 38.356578000000006, 34.686786, 38.249358, 33.575, 34.107231, 34.136119, 33.646692, 38.896564, 38.891564, 33.940014, 33.773906, 35.118586, 34.953033000000005, 33.858346999999995, 34.579433, 40.802071999999995, 34.063344, 33.919181, 36.910231, 39.150172, 37.005783, 33.646967, 38.134147, 34.080564, 34.144897, 33.787794, 35.632278, 33.88835, 34.161671999999996, 33.747519, 33.814461, 37.363539, 37.630489000000004], \"locationmode\": \"USA-states\", \"lon\": [-121.894675, -117.648389, -117.084197, -117.183089, -122.031072, -122.271078, -119.24288899999999, -119.29205800000001, -121.37161699999999, -121.28800600000001, -118.032844, -116.41278899999999, -119.82763899999999, -122.285247, -118.104786, -122.869161, -122.25663600000001, -118.35396100000001, -122.297747, -118.122847, -117.73258600000001, -117.271147, -118.761675, -117.699444, -119.518456, -117.698108, -118.001947, -121.016058, -121.93579199999999, -121.17605800000001, -121.06106100000001, -117.56643899999999, -117.95366899999999, -118.54258600000001, -117.03586399999999, -117.213922, -122.15607800000001, -117.938953, -122.134133, -118.02756699999999, -122.47020800000001, -121.97801399999999, -117.752306, -121.654389, -122.060797, -124.08283899999999, -121.98774399999999, -118.154164, -122.03996699999999, -117.72555600000001, -118.057847, -117.86533899999999, -116.31000800000001, -121.076889, -121.293008, -118.13256899999999, -117.941447, -120.590725, -120.43571899999999, -118.06478600000001, -118.11646100000002, -124.16367199999999, -117.65088899999999, -118.41646399999999, -121.75689399999999, -123.207783, -121.568275, -117.689217, -121.27221899999999, -118.072847, -118.26874199999999, -118.35812800000001, -120.66418600000002, -118.30896100000001, -118.052847, -116.97196699999999, -117.813111, -118.39511100000001, -122.411083], \"marker\": {\"color\": \"#0F4D92\", \"line\": {\"color\": \"rgb(40,40,40)\", \"width\": 0.5}, \"size\": [19.646048, 19.437802, 19.395768, 19.342784, 19.280640000000002, 19.044027999999997, 18.809576000000003, 18.788726, 18.570876, 18.470587999999996, 18.250576000000002, 18.138740000000002, 17.922334, 17.761917999999998, 17.745171999999997, 17.468342, 17.415726000000003, 17.3144, 16.791926, 16.778558000000004, 16.709738, 16.698088000000002, 16.666848, 16.648507999999996, 16.605297999999998, 16.390158, 16.31091, 16.266589999999994, 15.912402000000005, 15.493931999999996, 15.464538000000001, 15.459484000000007, 15.385406, 15.308528000000004, 15.020498000000005, 15.003396, 14.800062, 14.736574, 14.347666000000004, 14.254454, 14.061456, 14.009492, 13.964888000000004, 13.659087999999999, 13.656187999999998, 13.62482, 13.553897999999998, 13.449776000000005, 13.251354, 12.756827999999999, 12.597922000000002, 12.425426000000003, 12.333628000000003, 12.245346000000001, 12.150042000000001, 12.13394, 12.064088, 12.010262, 11.926885999999996, 11.899428000000002, 11.884804, 11.812866000000001, 11.431588000000003, 11.215966000000002, 11.154105999999999, 11.099728000000002, 10.919056000000001, 10.80312, 10.592810000000002, 10.412058, 10.396796, 10.395672000000001, 10.390160000000002, 10.378964, 10.315244000000002, 10.296849999999997, 10.265864000000002, 10.221660000000002, 10.070074000000002], \"sizemode\": \"area\"}, \"name\": \"50000-99999\", \"text\": [\"MONTEREY\", \"UPLAND\", \"CHULA VISTA\", \"CORONADO\", \"CONCORD\", \"FOSTER CITY\", \"OJAI\", \"VISALIA\", \"ELK GROVE\", \"ROSEVILLE\", \"WHITTIER\", \"RANCHO MIRAGE\", \"GOLETA\", \"EMERYVILLE\", \"SEAL BEACH\", \"HEALDSBURG\", \"VALLEJO\", \"ROLLING HILLS\", \"ALBANY\", \"MONTEREY PARK\", \"CHINO HILLS\", \"SOLANA BEACH\", \"AGOURA HILLS\", \"LAGUNA HILLS\", \"CARPINTERIA\", \"DANA POINT\", \"MONROVIA\", \"NEVADA CITY\", \"DUBLIN\", \"FOLSOM\", \"GRASS VALLEY\", \"CORONA\", \"FOUNTAIN VALLEY\", \"SANTA CLARITA\", \"POWAY\", \"MURRIETA\", \"SAN LEANDRO\", \"WEST COVINA\", \"MARTINEZ\", \"EL MONTE\", \"DALY CITY\", \"SAN RAMON\", \"POMONA\", \"MORGAN HILL\", \"PLEASANT HILL\", \"ARCATA\", \"VACAVILLE\", \"LANCASTER\", \"FAIRFIELD\", \"ALISO VIEJO\", \"TEMPLE CITY\", \"GLENDORA\", \"LA QUINTA\", \"AUBURN\", \"LINCOLN\", \"DOWNEY\", \"GARDEN GROVE\", \"ARROYO GRANDE\", \"SANTA MARIA\", \"CERRITOS\", \"PALMDALE\", \"EUREKA\", \"ONTARIO\", \"EL SEGUNDO\", \"WATSONVILLE\", \"UKIAH\", \"GILROY\", \"LAKE FOREST\", \"LODI\", \"ROSEMEAD\", \"MOORPARK\", \"ROLLING HILLS ESTATES\", \"PASO ROBLES\", \"GARDENA\", \"SIERRA MADRE\", \"HEMET\", \"VILLA PARK\", \"BISHOP\", \"SAN BRUNO\"], \"type\": \"scattergeo\"}, {\"lat\": [37.428272, 38.678517, 34.536108, 37.73965, 34.092233, 33.916681, 36.617736, 34.016506, 33.6103, 37.598546999999996, 33.853628, 34.100842, 33.717631, 38.729625, 34.106675, 33.961681, 37.654656, 37.236333, 37.593392, 34.012236, 37.320531, 33.846403, 37.051061, 38.004922, 38.580461, 39.140446999999995, 37.529658000000005, 35.489416999999996, 34.108344, 39.409608, 37.302164000000005, 34.14695, 34.090008000000005, 38.707125, 34.595819, 34.057361, 33.640856, 33.751342, 33.916403, 35.132189000000004, 33.960846999999994, 34.160283, 36.852453000000004, 37.941033000000004, 33.804460999999996, 33.942467, 39.445721999999996, 38.017144, 37.984092, 33.867514, 35.365808, 33.872236, 34.63915, 38.445464, 33.779742, 33.917235999999995, 37.494658, 34.051956, 32.838383, 38.589071999999994, 33.803072, 33.720578, 38.939925, 38.339636, 36.975228, 38.327778, 34.000569, 33.931958, 36.207728, 34.033625, 36.32745, 41.755947, 38.805461, 37.739453000000005, 38.578796999999994, 34.354167, 33.668078, 35.622456, 38.004366999999995, 33.947236, 36.065231, 33.902236, 36.961335999999996, 34.180728, 33.929460999999996, 37.347716999999996, 36.708006, 39.513775, 37.058278, 34.13945, 32.792, 33.782519, 41.410806, 34.128344, 37.468828, 33.831406, 34.085285999999996, 37.797428000000004, 40.178489, 38.027975, 38.524906, 33.802517, 41.059292, 38.15575, 33.954736, 37.680766999999996, 34.133619, 34.426389, 37.602725, 37.766594, 33.678333, 32.978658, 40.448208, 33.881683, 33.887236, 39.04295, 32.678108, 34.048347, 33.819361, 34.020011, 36.684403, 35.121642, 34.077511, 37.962146999999995, 37.797428000000004, 37.997422, 33.981681, 39.524325, 36.296061, 33.792239, 33.685022, 33.865846999999995, 33.983069, 38.352692, 35.142753000000006, 34.1064, 36.845511, 34.003903, 33.925571999999995, 39.100731, 38.254636, 33.961125, 33.598914], \"locationmode\": \"USA-states\", \"lon\": [-121.906625, -121.773297, -117.29115800000001, -121.42522199999999, -117.435047, -117.90006100000001, -121.916622, -118.113753, -117.72533100000001, -122.387194, -118.13395600000001, -117.76783600000002, -116.340756, -120.798547, -117.806725, -118.353131, -122.40775, -121.99245800000001, -122.04383100000001, -117.68894399999999, -121.96224199999999, -118.04673100000001, -122.014683, -121.80578899999999, -121.53023300000001, -121.61691100000002, -122.04023899999999, -120.670725, -117.28976399999999, -123.355567, -120.48296699999999, -117.970897, -117.89033899999998, -121.28106100000001, -120.137647, -118.480511, -117.603103, -117.99399199999999, -118.352575, -118.448975, -117.95061899999999, -118.65231100000001, -121.40160300000001, -121.93579199999999, -118.167847, -117.229672, -123.805292, -122.28858100000001, -120.382139, -117.998117, -120.8499, -117.87033600000001, -120.45794199999999, -121.823297, -116.46529199999999, -118.01200800000001, -120.846594, -118.046733, -116.97391699999999, -121.302728, -118.07256399999999, -116.21556100000001, -119.977186, -122.701097, -121.95329199999999, -122.709167, -118.159792, -117.946172, -119.34733899999999, -117.04308600000002, -119.645683, -124.201747, -123.017222, -121.13541399999998, -122.579706, -119.059269, -117.32726100000001, -117.670897, -122.29885800000001, -118.08534399999999, -119.01676699999999, -118.08173300000001, -120.060717, -119.20815800000001, -116.97724699999999, -120.60908300000001, -119.55596399999999, -121.556358, -120.84991399999998, -117.977286, -115.56305, -117.228647, -122.194575, -117.20865, -122.141075, -118.282017, -117.960897, -121.216053, -122.235831, -121.884681, -121.970803, -117.993117, -124.143125, -121.691344, -118.21201699999999, -122.39997199999999, -117.907564, -117.300878, -120.86648100000001, -120.847153, -117.166944, -115.530267, -122.29778300000001, -118.117011, -118.352575, -122.915828, -117.099197, -117.26115300000001, -118.366647, -117.94950800000001, -121.802172, -120.621283, -117.689778, -122.345525, -120.99660300000001, -121.712453, -118.225072, -122.193592, -119.142053, -118.315072, -117.27309199999999, -118.083122, -118.096736, -120.932717, -120.641283, -117.370325, -121.537997, -118.23007199999999, -116.876411, -120.953275, -121.299947, -116.501678, -117.28003600000001], \"marker\": {\"color\": \"#003366\", \"line\": {\"color\": \"rgb(40,40,40)\", \"width\": 0.5}, \"size\": [9.986405999999997, 9.793610000000001, 9.765006, 9.746509999999999, 9.741403999999998, 9.667144, 9.661392, 9.408186, 9.308426000000004, 9.24972400000001, 9.210484000000003, 9.162054, 8.930132, 8.786191999999998, 8.683038, 8.561522, 8.523232000000002, 8.375447999999999, 8.129102, 8.10204, 8.048564000000002, 8.040538000000002, 8.025136, 7.988091999999997, 7.874066000000002, 7.8725900000000015, 7.79762, 7.705176000000002, 7.627939999999998, 7.548975999999999, 7.513560000000001, 7.357, 7.323202000000001, 7.278476000000001, 7.265916000000001, 7.096894000000001, 7.072331999999999, 6.943288000000001, 6.918360000000001, 6.9011119999999995, 6.759468, 6.7325, 6.612032000000001, 6.487118000000001, 6.337432000000001, 6.1337220000000015, 6.116622, 6.106682000000001, 6.019676, 5.913836, 5.738464000000001, 5.686952000000001, 5.673070000000002, 5.659060000000001, 5.527826, 5.521624000000001, 5.495458, 5.495, 5.416666, 5.4165399999999995, 5.361710000000001, 5.132358000000001, 5.067684, 5.053268, 4.950300000000001, 4.929462, 4.903574000000001, 4.874592, 4.8693360000000006, 4.769126000000001, 4.7492600000000005, 4.713733999999999, 4.659416000000001, 4.619374, 4.541951999999999, 4.475454000000001, 4.457954, 4.440796000000001, 4.359820000000001, 4.357214, 4.346134, 4.260582, 4.216322, 4.210604000000001, 4.1697500000000005, 4.13123, 4.039086, 4.0339220000000005, 4.001576, 3.9206340000000006, 3.912410000000001, 3.7945040000000003, 3.7846960000000007, 3.7579540000000002, 3.7456380000000005, 3.739098, 3.699018, 3.6746019999999997, 3.6553540000000004, 3.642338, 3.595654, 3.58, 3.525878, 3.519990000000001, 3.504204, 3.4423520000000005, 3.4408620000000005, 3.3536360000000007, 3.2999140000000002, 3.23029, 3.109248, 3.0334380000000007, 2.98319, 2.9331359999999997, 2.919236, 2.8862020000000004, 2.841820000000001, 2.741664, 2.6903840000000008, 2.6744860000000004, 2.6448820000000004, 2.631418, 2.57392, 2.5388520000000003, 2.5306, 2.5085360000000003, 2.4459220000000004, 2.385362, 2.2682260000000003, 2.2670820000000003, 2.26274, 2.2612, 2.19524, 2.1668000000000003, 2.1589899999999997, 2.143728, 2.1293400000000005, 2.0900000000000003, 2.0835, 2.059132, 2.0485700000000007, 2.0317000000000003, 2.021204], \"sizemode\": \"area\"}, \"name\": \"10000-49999\", \"text\": [\"MILPITAS\", \"WOODLAND\", \"VICTORVILLE\", \"TRACY\", \"FONTANA\", \"BREA\", \"PACIFIC GROVE\", \"MONTEBELLO\", \"LAGUNA WOODS\", \"MILLBRAE\", \"LAKEWOOD\", \"LA VERNE\", \"INDIAN WELLS\", \"PLACERVILLE\", \"SAN DIMAS\", \"INGLEWOOD\", \"SOUTH SAN FRANCISCO\", \"MONTE SERENO\", \"UNION CITY\", \"CHINO\", \"CYPRESS\", \"LA PALMA\", \"SCOTTS VALLEY\", \"ANTIOCH\", \"WEST SACRAMENTO\", \"YUBA CITY\", \"NEWARK\", \"ATASCADERO\", \"SAN BERNARDINO\", \"WILLITS\", \"MERCED\", \"BRADBURY\", \"COVINA\", \"CITRUS HEIGHTS\", \"SOLVANG\", \"BRENTWOOD\", \"RANCHO SANTA MARGARITA\", \"WESTMINSTER\", \"HAWTHORNE\", \"TEHACHAPI\", \"LA HABRA HEIGHTS\", \"HIDDEN HILLS\", \"HOLLISTER\", \"CLAYTON\", \"SIGNAL HILL\", \"MORENO VALLEY\", \"FORT BRAGG\", \"HERCULES\", \"SONORA\", \"BUENA PARK\", \"MORRO BAY\", \"PLACENTIA\", \"LOMPOC\", \"DIXON\", \"CATHEDRAL CITY\", \"LA MIRADA\", \"TURLOCK\", \"SOUTH EL MONTE\", \"SANTEE\", \"RANCHO CORDOVA\", \"LOS ALAMITOS\", \"INDIO\", \"SOUTH LAKE TAHOE\", \"ROHNERT PARK\", \"CAPITOLA\", \"COTATI\", \"COMMERCE\", \"LA HABRA\", \"TULARE\", \"YUCAIPA\", \"HANFORD\", \"CRESCENT CITY\", \"CLOVERDALE\", \"RIPON\", \"CALISTOGA\", \"SANTA PAULA\", \"LAKE ELSINORE\", \"RIDGECREST\", \"PINOLE\", \"SANTA FE SPRINGS\", \"PORTERVILLE\", \"NORWALK\", \"MADERA\", \"PORT HUENEME\", \"BEAUMONT\", \"ATWATER\", \"SANGER\", \"OROVILLE\", \"LOS BANOS\", \"DUARTE\", \"EL CENTRO\", \"PERRIS\", \"MOUNT SHASTA\", \"HIGHLAND\", \"EAST PALO ALTO\", \"CARSON\", \"BALDWIN PARK\", \"MANTECA\", \"RED BLUFF\", \"PITTSBURG\", \"WINTERS\", \"STANTON\", \"TRINIDAD\", \"RIO VISTA\", \"SOUTH GATE\", \"BRISBANE\", \"AZUSA\", \"HESPERIA\", \"HUGHSON\", \"OAKDALE\", \"MENIFEE\", \"BRAWLEY\", \"ANDERSON\", \"BELLFLOWER\", \"LAWNDALE\", \"LAKEPORT\", \"NATIONAL CITY\", \"LOMA LINDA\", \"SEASIDE\", \"LA PUENTE\", \"MARINA\", \"GROVER BEACH\", \"MONTCLAIR\", \"SAN PABLO\", \"ESCALON\", \"OAKLEY\", \"HUNTINGTON PARK\", \"WILLOWS\", \"EXETER\", \"LOMITA\", \"CANYON LAKE\", \"ARTESIA\", \"PICO RIVERA\", \"IONE\", \"PISMO BEACH\", \"RIALTO\", \"SAN JUAN BAUTISTA\", \"VERNON\", \"BANNING\", \"COLFAX\", \"GALT\", \"DESERT HOT SPRINGS\", \"WILDOMAR\"], \"type\": \"scattergeo\"}, {\"lat\": [34.895796999999995, 40.416283, 32.742553, 32.583944, 34.399164, 34.073903, 34.281946999999995, 34.135558, 33.931125, 33.963056, 35.500514, 40.576242, 33.889461, 36.300783, 37.736039, 37.123000000000005, 39.145725, 37.594933000000005, 40.598186, 33.965292, 38.908797, 37.4716, 36.596339, 33.831403, 39.810458000000004, 34.106953000000004, 33.783908000000004, 41.42265, 38.958231, 34.613597, 33.89585, 39.927658, 36.139678, 41.735419, 38.481853, 34.003903], \"locationmode\": \"USA-states\", \"lon\": [-117.017283, -120.653006, -117.03141699999999, -117.11308600000001, -118.918153, -117.31365600000001, -118.43897199999999, -116.05416899999999, -117.54866100000001, -117.56388899999999, -119.271775, -124.263944, -118.159792, -119.78291100000001, -120.93548899999999, -120.260175, -121.591356, -120.957711, -124.157275, -118.151458, -123.693072, -121.12965600000001, -119.45040300000001, -118.072842, -120.469103, -117.93534199999999, -116.95863600000001, -122.386128, -122.626372, -120.19265, -118.220072, -122.179156, -120.36015, -122.634472, -120.84465800000001, -117.061975], \"marker\": {\"color\": \"#4682B4\", \"line\": {\"color\": \"rgb(40,40,40)\", \"width\": 0.5}, \"size\": [1.973888, 1.933836, 1.9178160000000002, 1.8566200000000002, 1.8282519999999998, 1.750228, 1.7478200000000002, 1.7408860000000002, 1.7361739999999999, 1.7143760000000003, 1.6836019999999998, 1.6526079999999999, 1.617442, 1.6026, 1.554388, 1.5404, 1.5158420000000001, 1.484924, 1.47754, 1.456758, 1.44433, 1.42035, 1.40045, 1.3932340000000003, 1.3880000000000001, 1.3800000000000001, 1.3136220000000003, 1.2807279999999999, 1.236948, 1.232366, 1.2055, 1.199794, 1.176244, 1.08549, 1.0266, 1.021568], \"sizemode\": \"area\"}, \"name\": \"5000-9999\", \"text\": [\"BARSTOW\", \"SUSANVILLE\", \"LEMON GROVE\", \"IMPERIAL BEACH\", \"FILLMORE\", \"COLTON\", \"SAN FERNANDO\", \"TWENTYNINE PALMS\", \"NORCO\", \"EASTVALE\", \"SHAFTER\", \"FERNDALE\", \"PARAMOUNT\", \"LEMOORE\", \"RIVERBANK\", \"CHOWCHILLA\", \"MARYSVILLE\", \"CERES\", \"FORTUNA\", \"BELL GARDENS\", \"POINT ARENA\", \"PATTERSON\", \"REEDLEY\", \"HAWAIIAN GARDENS\", \"PORTOLA\", \"IRWINDALE\", \"SAN JACINTO\", \"WEED\", \"CLEARLAKE\", \"BUELLTON\", \"COMPTON\", \"CORNING\", \"COALINGA\", \"YREKA\", \"PLYMOUTH\", \"CALIMESA\"], \"type\": \"scattergeo\"}, {\"lat\": [38.238246999999994, 37.977978, 36.723558000000004, 34.243897, 41.456806, 38.348803000000004, 38.174917, 39.412389000000005, 39.363778, 32.678946999999994, 39.214333, 36.513839000000004, 39.747381, 37.822706, 35.594125, 36.570783, 37.257717, 38.392967, 33.930292, 41.663864000000004, 35.678011, 32.811161, 35.1258, 36.986058, 37.641319, 36.3208, 41.487114, 40.882908, 33.977514, 35.768842, 38.505241999999996, 36.543283, 41.208208, 32.991156, 34.033903, 36.203006, 33.342819, 32.847553000000005, 39.009894, 35.058858, 37.313828, 33.617233, 35.142466999999996, 33.999522, 34.848061, 36.983561, 41.728196999999994, 40.680428000000006, 36.858839, 34.582769, 36.506628000000006, 36.212744, 38.419356, 39.676294, 41.967369, 33.6803, 36.413561, 33.986681, 39.154614, 37.386883000000005, 41.955989, 36.753561, 33.960569, 36.624394, 36.606617, 40.4993, 34.971644, 36.593292, 40.027103000000004, 36.630506, 33.125597, 36.004121999999995, 35.2018], \"locationmode\": \"USA-states\", \"lon\": [-122.040244, -122.031072, -120.059878, -116.911422, -122.894756, -120.774103, -122.26080300000001, -121.71275, -121.693583, -115.498883, -122.009417, -119.55401699999999, -122.196375, -121.27661100000002, -119.340947, -119.612075, -120.998814, -120.80243600000001, -118.21146100000001, -124.25289199999999, -119.229275, -115.380264, -117.98590300000001, -120.626572, -120.76048300000001, -121.24381399999999, -120.542456, -123.98395, -118.187017, -119.24705300000001, -122.470386, -119.38706699999999, -122.271953, -117.271147, -117.313653, -119.08816100000001, -118.328228, -115.56943899999999, -121.423014, -119.40095, -121.02076100000001, -114.589175, -119.45650800000001, -117.475397, -114.61413300000001, -121.98051699999999, -122.5278, -122.370842, -120.45600800000001, -117.40921399999999, -121.444381, -121.126028, -120.82410300000001, -120.24103899999999, -121.91806100000001, -116.17389399999999, -119.098717, -118.18535, -122.149419, -120.723533, -121.477492, -120.38155800000001, -118.18535, -119.313731, -120.189044, -124.10643600000002, -120.571836, -121.834953, -122.123322, -119.67846899999999, -115.51415300000001, -120.129028, -118.833106], \"marker\": {\"color\": \"#002E63\", \"line\": {\"color\": \"rgb(40,40,40)\", \"width\": 0.5}, \"size\": [0.9918120000000001, 0.967464, 0.93418, 0.9209560000000002, 0.8847820000000001, 0.881, 0.8700680000000001, 0.865694, 0.8488, 0.785914, 0.77359, 0.756948, 0.7568, 0.723746, 0.7212000000000001, 0.6993720000000001, 0.6988440000000001, 0.6921120000000001, 0.679166, 0.670806, 0.67, 0.6575000000000001, 0.635, 0.6274000000000001, 0.6124, 0.587088, 0.5842, 0.5749759999999999, 0.55482, 0.5354, 0.5225000000000001, 0.519344, 0.5120100000000001, 0.5087200000000001, 0.4894, 0.424862, 0.421006, 0.41600000000000004, 0.4058, 0.4, 0.39479600000000004, 0.3724, 0.36045600000000005, 0.332716, 0.2888, 0.28471, 0.278442, 0.27759, 0.272, 0.2504, 0.2253, 0.215, 0.20999799999999996, 0.1824, 0.1792, 0.1726, 0.172598, 0.169, 0.1394, 0.1063, 0.094, 0.09000000000000001, 0.07489000000000001, 0.060000000000000005, 0.058, 0.04549, 0.0376, 0.0358, 0.024024000000000004, 0.02204, 0.01, 0.005, 0.0], \"sizemode\": \"area\"}, \"name\": \"1-4999\", \"text\": [\"SUISUN CITY\", \"CORCORAN\", \"KERMAN\", \"BIG BEAR LAKE\", \"ETNA\", \"JACKSON\", \"AMERICAN CANYON\", \"BIGGS\", \"GRIDLEY\", \"CALEXICO\", \"COLUSA\", \"KINGSBURG\", \"ORLAND\", \"LATHROP\", \"WASCO\", \"SELMA\", \"GUSTINE\", \"SUTTER CREEK\", \"LYNWOOD\", \"FORT JONES\", \"MCFARLAND\", \"HOLTVILLE\", \"CALIFORNIA CITY\", \"DOS PALOS\", \"WATERFORD\", \"GREENFIELD\", \"ALTURAS\", \"BLUE LAKE\", \"BELL\", \"DELANO\", \"ST. HELENA\", \"DINUBA\", \"DUNSMUIR\", \"SOLEDAD\", \"GRAND TERRACE\", \"LINDSAY\", \"AVALON\", \"IMPERIAL\", \"WHEATLAND\", \"MARICOPA\", \"NEWMAN\", \"BLYTHE\", \"TAFT\", \"JURUPA VALLEY\", \"NEEDLES\", \"LIVE OAK\", \"MONTAGUE\", \"SHASTA LAKE\", \"FIREBAUGH\", \"ADELANTO\", \"GONZALES\", \"KING CITY\", \"AMADOR CITY\", \"LOYALTON\", \"DORRIS\", \"COACHELLA\", \"WOODLAKE\", \"MAYWOOD\", \"WILLIAMS\", \"LIVINGSTON\", \"TULELAKE\", \"MENDOTA\", \"CUDAHY\", \"ORANGE COVE\", \"SAN JOAQUIN\", \"RIO DELL\", \"GUADALUPE\", \"DEL REY OAKS\", \"TEHAMA\", \"FOWLER\", \"CALIPATRIA\", \"AVENAL\", \"ARVIN\"], \"type\": \"scattergeo\"}],                        {\"geo\": {\"landcolor\": \"rgb(217, 217, 217)\", \"projection\": {\"type\": \"albers usa\"}, \"scope\": \"usa\"}, \"legend\": {\"title\": {\"text\": \"Contributions in Dollars\"}}, \"showlegend\": true, \"template\": {\"data\": {\"bar\": [{\"error_x\": {\"color\": \"#2a3f5f\"}, \"error_y\": {\"color\": \"#2a3f5f\"}, \"marker\": {\"line\": {\"color\": \"#E5ECF6\", \"width\": 0.5}}, \"type\": \"bar\"}], \"barpolar\": [{\"marker\": {\"line\": {\"color\": \"#E5ECF6\", \"width\": 0.5}}, \"type\": \"barpolar\"}], \"carpet\": [{\"aaxis\": {\"endlinecolor\": \"#2a3f5f\", \"gridcolor\": \"white\", \"linecolor\": \"white\", \"minorgridcolor\": \"white\", \"startlinecolor\": \"#2a3f5f\"}, \"baxis\": {\"endlinecolor\": \"#2a3f5f\", \"gridcolor\": \"white\", \"linecolor\": \"white\", \"minorgridcolor\": \"white\", \"startlinecolor\": \"#2a3f5f\"}, \"type\": \"carpet\"}], \"choropleth\": [{\"colorbar\": {\"outlinewidth\": 0, \"ticks\": \"\"}, \"type\": \"choropleth\"}], \"contour\": [{\"colorbar\": {\"outlinewidth\": 0, \"ticks\": \"\"}, \"colorscale\": [[0.0, \"#0d0887\"], [0.1111111111111111, \"#46039f\"], [0.2222222222222222, \"#7201a8\"], [0.3333333333333333, \"#9c179e\"], [0.4444444444444444, \"#bd3786\"], [0.5555555555555556, \"#d8576b\"], [0.6666666666666666, \"#ed7953\"], [0.7777777777777778, \"#fb9f3a\"], [0.8888888888888888, \"#fdca26\"], [1.0, \"#f0f921\"]], \"type\": \"contour\"}], \"contourcarpet\": [{\"colorbar\": {\"outlinewidth\": 0, \"ticks\": \"\"}, \"type\": \"contourcarpet\"}], \"heatmap\": [{\"colorbar\": {\"outlinewidth\": 0, \"ticks\": \"\"}, \"colorscale\": [[0.0, \"#0d0887\"], [0.1111111111111111, \"#46039f\"], [0.2222222222222222, \"#7201a8\"], [0.3333333333333333, \"#9c179e\"], [0.4444444444444444, \"#bd3786\"], [0.5555555555555556, \"#d8576b\"], [0.6666666666666666, \"#ed7953\"], [0.7777777777777778, \"#fb9f3a\"], [0.8888888888888888, \"#fdca26\"], [1.0, \"#f0f921\"]], \"type\": \"heatmap\"}], \"heatmapgl\": [{\"colorbar\": {\"outlinewidth\": 0, \"ticks\": \"\"}, \"colorscale\": [[0.0, \"#0d0887\"], [0.1111111111111111, \"#46039f\"], [0.2222222222222222, \"#7201a8\"], [0.3333333333333333, \"#9c179e\"], [0.4444444444444444, \"#bd3786\"], [0.5555555555555556, \"#d8576b\"], [0.6666666666666666, \"#ed7953\"], [0.7777777777777778, \"#fb9f3a\"], [0.8888888888888888, \"#fdca26\"], [1.0, \"#f0f921\"]], \"type\": \"heatmapgl\"}], \"histogram\": [{\"marker\": {\"colorbar\": {\"outlinewidth\": 0, \"ticks\": \"\"}}, \"type\": \"histogram\"}], \"histogram2d\": [{\"colorbar\": {\"outlinewidth\": 0, \"ticks\": \"\"}, \"colorscale\": [[0.0, \"#0d0887\"], [0.1111111111111111, \"#46039f\"], [0.2222222222222222, \"#7201a8\"], [0.3333333333333333, \"#9c179e\"], [0.4444444444444444, \"#bd3786\"], [0.5555555555555556, \"#d8576b\"], [0.6666666666666666, \"#ed7953\"], [0.7777777777777778, \"#fb9f3a\"], [0.8888888888888888, \"#fdca26\"], [1.0, \"#f0f921\"]], \"type\": \"histogram2d\"}], \"histogram2dcontour\": [{\"colorbar\": {\"outlinewidth\": 0, \"ticks\": \"\"}, \"colorscale\": [[0.0, \"#0d0887\"], [0.1111111111111111, \"#46039f\"], [0.2222222222222222, \"#7201a8\"], [0.3333333333333333, \"#9c179e\"], [0.4444444444444444, \"#bd3786\"], [0.5555555555555556, \"#d8576b\"], [0.6666666666666666, \"#ed7953\"], [0.7777777777777778, \"#fb9f3a\"], [0.8888888888888888, \"#fdca26\"], [1.0, \"#f0f921\"]], \"type\": \"histogram2dcontour\"}], \"mesh3d\": [{\"colorbar\": {\"outlinewidth\": 0, \"ticks\": \"\"}, \"type\": \"mesh3d\"}], \"parcoords\": [{\"line\": {\"colorbar\": {\"outlinewidth\": 0, \"ticks\": \"\"}}, \"type\": \"parcoords\"}], \"pie\": [{\"automargin\": true, \"type\": \"pie\"}], \"scatter\": [{\"marker\": {\"colorbar\": {\"outlinewidth\": 0, \"ticks\": \"\"}}, \"type\": \"scatter\"}], \"scatter3d\": [{\"line\": {\"colorbar\": {\"outlinewidth\": 0, \"ticks\": \"\"}}, \"marker\": {\"colorbar\": {\"outlinewidth\": 0, \"ticks\": \"\"}}, \"type\": \"scatter3d\"}], \"scattercarpet\": [{\"marker\": {\"colorbar\": {\"outlinewidth\": 0, \"ticks\": \"\"}}, \"type\": \"scattercarpet\"}], \"scattergeo\": [{\"marker\": {\"colorbar\": {\"outlinewidth\": 0, \"ticks\": \"\"}}, \"type\": \"scattergeo\"}], \"scattergl\": [{\"marker\": {\"colorbar\": {\"outlinewidth\": 0, \"ticks\": \"\"}}, \"type\": \"scattergl\"}], \"scattermapbox\": [{\"marker\": {\"colorbar\": {\"outlinewidth\": 0, \"ticks\": \"\"}}, \"type\": \"scattermapbox\"}], \"scatterpolar\": [{\"marker\": {\"colorbar\": {\"outlinewidth\": 0, \"ticks\": \"\"}}, \"type\": \"scatterpolar\"}], \"scatterpolargl\": [{\"marker\": {\"colorbar\": {\"outlinewidth\": 0, \"ticks\": \"\"}}, \"type\": \"scatterpolargl\"}], \"scatterternary\": [{\"marker\": {\"colorbar\": {\"outlinewidth\": 0, \"ticks\": \"\"}}, \"type\": \"scatterternary\"}], \"surface\": [{\"colorbar\": {\"outlinewidth\": 0, \"ticks\": \"\"}, \"colorscale\": [[0.0, \"#0d0887\"], [0.1111111111111111, \"#46039f\"], [0.2222222222222222, \"#7201a8\"], [0.3333333333333333, \"#9c179e\"], [0.4444444444444444, \"#bd3786\"], [0.5555555555555556, \"#d8576b\"], [0.6666666666666666, \"#ed7953\"], [0.7777777777777778, \"#fb9f3a\"], [0.8888888888888888, \"#fdca26\"], [1.0, \"#f0f921\"]], \"type\": \"surface\"}], \"table\": [{\"cells\": {\"fill\": {\"color\": \"#EBF0F8\"}, \"line\": {\"color\": \"white\"}}, \"header\": {\"fill\": {\"color\": \"#C8D4E3\"}, \"line\": {\"color\": \"white\"}}, \"type\": \"table\"}]}, \"layout\": {\"annotationdefaults\": {\"arrowcolor\": \"#2a3f5f\", \"arrowhead\": 0, \"arrowwidth\": 1}, \"autotypenumbers\": \"strict\", \"coloraxis\": {\"colorbar\": {\"outlinewidth\": 0, \"ticks\": \"\"}}, \"colorscale\": {\"diverging\": [[0, \"#8e0152\"], [0.1, \"#c51b7d\"], [0.2, \"#de77ae\"], [0.3, \"#f1b6da\"], [0.4, \"#fde0ef\"], [0.5, \"#f7f7f7\"], [0.6, \"#e6f5d0\"], [0.7, \"#b8e186\"], [0.8, \"#7fbc41\"], [0.9, \"#4d9221\"], [1, \"#276419\"]], \"sequential\": [[0.0, \"#0d0887\"], [0.1111111111111111, \"#46039f\"], [0.2222222222222222, \"#7201a8\"], [0.3333333333333333, \"#9c179e\"], [0.4444444444444444, \"#bd3786\"], [0.5555555555555556, \"#d8576b\"], [0.6666666666666666, \"#ed7953\"], [0.7777777777777778, \"#fb9f3a\"], [0.8888888888888888, \"#fdca26\"], [1.0, \"#f0f921\"]], \"sequentialminus\": [[0.0, \"#0d0887\"], [0.1111111111111111, \"#46039f\"], [0.2222222222222222, \"#7201a8\"], [0.3333333333333333, \"#9c179e\"], [0.4444444444444444, \"#bd3786\"], [0.5555555555555556, \"#d8576b\"], [0.6666666666666666, \"#ed7953\"], [0.7777777777777778, \"#fb9f3a\"], [0.8888888888888888, \"#fdca26\"], [1.0, \"#f0f921\"]]}, \"colorway\": [\"#636efa\", \"#EF553B\", \"#00cc96\", \"#ab63fa\", \"#FFA15A\", \"#19d3f3\", \"#FF6692\", \"#B6E880\", \"#FF97FF\", \"#FECB52\"], \"font\": {\"color\": \"#2a3f5f\"}, \"geo\": {\"bgcolor\": \"white\", \"lakecolor\": \"white\", \"landcolor\": \"#E5ECF6\", \"showlakes\": true, \"showland\": true, \"subunitcolor\": \"white\"}, \"hoverlabel\": {\"align\": \"left\"}, \"hovermode\": \"closest\", \"mapbox\": {\"style\": \"light\"}, \"paper_bgcolor\": \"white\", \"plot_bgcolor\": \"#E5ECF6\", \"polar\": {\"angularaxis\": {\"gridcolor\": \"white\", \"linecolor\": \"white\", \"ticks\": \"\"}, \"bgcolor\": \"#E5ECF6\", \"radialaxis\": {\"gridcolor\": \"white\", \"linecolor\": \"white\", \"ticks\": \"\"}}, \"scene\": {\"xaxis\": {\"backgroundcolor\": \"#E5ECF6\", \"gridcolor\": \"white\", \"gridwidth\": 2, \"linecolor\": \"white\", \"showbackground\": true, \"ticks\": \"\", \"zerolinecolor\": \"white\"}, \"yaxis\": {\"backgroundcolor\": \"#E5ECF6\", \"gridcolor\": \"white\", \"gridwidth\": 2, \"linecolor\": \"white\", \"showbackground\": true, \"ticks\": \"\", \"zerolinecolor\": \"white\"}, \"zaxis\": {\"backgroundcolor\": \"#E5ECF6\", \"gridcolor\": \"white\", \"gridwidth\": 2, \"linecolor\": \"white\", \"showbackground\": true, \"ticks\": \"\", \"zerolinecolor\": \"white\"}}, \"shapedefaults\": {\"line\": {\"color\": \"#2a3f5f\"}}, \"ternary\": {\"aaxis\": {\"gridcolor\": \"white\", \"linecolor\": \"white\", \"ticks\": \"\"}, \"baxis\": {\"gridcolor\": \"white\", \"linecolor\": \"white\", \"ticks\": \"\"}, \"bgcolor\": \"#E5ECF6\", \"caxis\": {\"gridcolor\": \"white\", \"linecolor\": \"white\", \"ticks\": \"\"}}, \"title\": {\"x\": 0.05}, \"xaxis\": {\"automargin\": true, \"gridcolor\": \"white\", \"linecolor\": \"white\", \"ticks\": \"\", \"title\": {\"standoff\": 15}, \"zerolinecolor\": \"white\", \"zerolinewidth\": 2}, \"yaxis\": {\"automargin\": true, \"gridcolor\": \"white\", \"linecolor\": \"white\", \"ticks\": \"\", \"title\": {\"standoff\": 15}, \"zerolinecolor\": \"white\", \"zerolinewidth\": 2}}}, \"title\": {\"text\": \"Contribution Amount by City\", \"x\": 0.5}},                        {\"responsive\": true}                    ).then(function(){\n",
       "                            \n",
       "var gd = document.getElementById('e7f53311-8201-4240-9581-f2d63eca26b4');\n",
       "var x = new MutationObserver(function (mutations, observer) {{\n",
       "        var display = window.getComputedStyle(gd).display;\n",
       "        if (!display || display === 'none') {{\n",
       "            console.log([gd, 'removed!']);\n",
       "            Plotly.purge(gd);\n",
       "            observer.disconnect();\n",
       "        }}\n",
       "}});\n",
       "\n",
       "// Listen for the removal of the full notebook cells\n",
       "var notebookContainer = gd.closest('#notebook-container');\n",
       "if (notebookContainer) {{\n",
       "    x.observe(notebookContainer, {childList: true});\n",
       "}}\n",
       "\n",
       "// Listen for the clearing of the current output cell\n",
       "var outputEl = gd.closest('.output');\n",
       "if (outputEl) {{\n",
       "    x.observe(outputEl, {childList: true});\n",
       "}}\n",
       "\n",
       "                        })                };                });            </script>        </div>"
      ]
     },
     "metadata": {},
     "output_type": "display_data"
    }
   ],
   "source": [
    "fig = go.Figure()\n",
    "stage_counter = 0\n",
    "for i in range(len(limits)):\n",
    "    lim = limits[i]\n",
    "    df_sub = map_df[lim[0]:lim[1]]\n",
    "    fig.add_trace(go.Scattergeo(\n",
    "        locationmode = 'USA-states',\n",
    "        lon = df_sub['Longitude'],\n",
    "        lat = df_sub['Latitude'],\n",
    "        text = df_sub['contbr_city'],\n",
    "        marker = dict(\n",
    "            size = df_sub['contb_receipt_amt']*0.0002,\n",
    "            color = colors[i],\n",
    "            line_color='rgb(40,40,40)',\n",
    "            line_width=0.5,\n",
    "            sizemode = 'area'\n",
    "        ),\n",
    "        name = '{}'.format(stages[stage_counter])))\n",
    "    stage_counter = stage_counter+1\n",
    "    \n",
    "fig.update_layout(\n",
    "        title_text = 'Contribution Amount by City',\n",
    "        title_x=0.5,\n",
    "        showlegend = True,\n",
    "        legend_title = 'Contributions in Dollars',\n",
    "        geo = dict(\n",
    "            scope = 'usa',\n",
    "            landcolor = 'rgb(217, 217, 217)',\n",
    "            projection=go.layout.geo.Projection(type = 'albers usa'),\n",
    "        )\n",
    "    )\n",
    "\n",
    "fig.show()"
   ]
  },
  {
   "cell_type": "code",
   "execution_count": null,
   "metadata": {},
   "outputs": [],
   "source": []
  }
 ],
 "metadata": {
  "kernelspec": {
   "display_name": "Python 3",
   "language": "python",
   "name": "python3"
  },
  "language_info": {
   "codemirror_mode": {
    "name": "ipython",
    "version": 3
   },
   "file_extension": ".py",
   "mimetype": "text/x-python",
   "name": "python",
   "nbconvert_exporter": "python",
   "pygments_lexer": "ipython3",
   "version": "3.8.5"
  }
 },
 "nbformat": 4,
 "nbformat_minor": 2
}
