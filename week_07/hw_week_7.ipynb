{
 "cells": [
  {
   "cell_type": "markdown",
   "metadata": {},
   "source": [
    "## 1.0 Class Exercises:"
   ]
  },
  {
   "cell_type": "markdown",
   "metadata": {},
   "source": [
    "### Question 1 (10 pts)"
   ]
  },
  {
   "cell_type": "markdown",
   "metadata": {},
   "source": [
    "Define a class called Ninja that stores three instance attributes: name, height, weight, and health (integer out of 100)"
   ]
  },
  {
   "cell_type": "code",
   "execution_count": null,
   "metadata": {},
   "outputs": [],
   "source": [
    "# Your Code Here:\n",
    "\n",
    "class Ninja:\n",
    "    '''This is a class that describes\n",
    "    a ninja'''\n",
    "    \n",
    "    def __init__(self, name, height, weight, health):\n",
    "        self.name = name\n",
    "        self.height = height\n",
    "        self.weight = weight\n",
    "        self.health = health"
   ]
  },
  {
   "cell_type": "markdown",
   "metadata": {},
   "source": [
    "Define a class called Ninja that stores the above instance attributes and a method: Throw Dart (print \"threw dart at xxx\" where \"xxx\" is a name as a string and subtract 10 from health)"
   ]
  },
  {
   "cell_type": "code",
   "execution_count": null,
   "metadata": {},
   "outputs": [],
   "source": [
    "# Your Code Here:\n",
    "\n",
    "class Ninja:\n",
    "    '''This is a class that describes\n",
    "    a ninja'''\n",
    "    \n",
    "    def __init__(self, name, height, weight, health):\n",
    "        self.name = name\n",
    "        self.height = height\n",
    "        self.weight = weight\n",
    "        self.health = health\n",
    "        \n",
    "    def throw_dart(self, other_ninja): #second attribute allows you to return target's name and reduce health\n",
    "        '''A function to throw a dart and cause damage'''\n",
    "        dart_damage = 10 #define how much damage dart does\n",
    "        other_ninja.health -= dart_damage #reduce other's health by dart amount\n",
    "        return f'Threw dart at {other_ninja.name}.' #print target's name"
   ]
  },
  {
   "cell_type": "markdown",
   "metadata": {},
   "source": [
    "Instantiate two Ninja objects, and make them throw darts at each other (get the class attributes and call another object's method)"
   ]
  },
  {
   "cell_type": "code",
   "execution_count": null,
   "metadata": {},
   "outputs": [],
   "source": [
    "# Your Code Here:\n",
    "\n",
    "ninja_1 = Ninja('Bob', '5 feet', '165 pounds', 100)\n",
    "ninja_2 = Ninja('Jeff', '9 feet', '280 pounds', 80) \n",
    "\n",
    "ninja_1.throw_dart(ninja_2)"
   ]
  },
  {
   "cell_type": "code",
   "execution_count": null,
   "metadata": {},
   "outputs": [],
   "source": [
    "ninja_2.throw_dart(ninja_1)"
   ]
  },
  {
   "cell_type": "markdown",
   "metadata": {},
   "source": [
    "### Question 2 (10 pts)"
   ]
  },
  {
   "cell_type": "markdown",
   "metadata": {},
   "source": [
    "Create a class called Octagon, and store the two Ninja objects above as attributes. "
   ]
  },
  {
   "cell_type": "code",
   "execution_count": null,
   "metadata": {},
   "outputs": [],
   "source": [
    "# Your Code Here:\n",
    "\n",
    "class Octagon:\n",
    "    '''A class to create fighting ninjas'''\n",
    "    \n",
    "    def __init__(self, player_1, player_2):\n",
    "        self.player_1 = Ninja('Bob', '5 feet', '165 pounds', 100) #stores them as attributes\n",
    "        self.player_2 = Ninja('Jeff', '9 feet', '280 pounds', 80)"
   ]
  },
  {
   "cell_type": "markdown",
   "metadata": {},
   "source": [
    "Create a class called Octagon, and create a method that, once called, makes both Ninjas throw darts at each other."
   ]
  },
  {
   "cell_type": "code",
   "execution_count": null,
   "metadata": {},
   "outputs": [],
   "source": [
    "# Your Code Here:\n",
    "\n",
    "class Octagon:\n",
    "    '''A class to create fighting ninjas'''\n",
    "    \n",
    "    def __init__(self, player_1, player_2):\n",
    "        self.player_1 = Ninja('Bob', '5 feet', '165 pounds', 100) #save first ninja as attribute\n",
    "        self.player_2 = Ninja('Jeff', '9 feet', '280 pounds', 80) #save second ninja as attribute\n",
    "    \n",
    "    def dart_fight(self, player_1, player_2):\n",
    "        '''A function to make the ninjas fight each other'''\n",
    "        dart_damage = 10 #define damage amount\n",
    "        player_1.health -= dart_damage #subtract from ninja1\n",
    "        player_2.health -= dart_damage #subtract from ninja2\n",
    "        return 'The ninjas threw darts at each other!' #shows the function ran\n",
    "        \n",
    "fight = Octagon(ninja_1, ninja_2) #make a new variable w/ the octagon class\n",
    "\n",
    "fight.dart_fight(ninja_1, ninja_2) #call dart_fight method on 2 previous variables"
   ]
  },
  {
   "cell_type": "markdown",
   "metadata": {},
   "source": [
    "Create a method within Octagon that makes two Ninjas fight until one dies (health less or equal to zero), and print the name of the Ninja who won."
   ]
  },
  {
   "cell_type": "code",
   "execution_count": null,
   "metadata": {},
   "outputs": [],
   "source": [
    "# Your Code Here\n",
    "\n",
    "class Octagon:\n",
    "    '''A class to create fighting ninjas'''\n",
    "    \n",
    "    def __init__(self, player_1, player_2):\n",
    "        self.player_1 = Ninja('Bob', '5 feet', '165 pounds', 100) #save first ninja as attribute\n",
    "        self.player_2 = Ninja('Jeff', '9 feet', '280 pounds', 80) #save second ninja as attribute\n",
    "    \n",
    "    def dart_fight(self, player_1, player_2):\n",
    "        '''A function to make the ninjas fight each other'''\n",
    "        dart_damage = 10 #define damaage amount\n",
    "        player_1.health -= dart_damage #subtract from ninja1\n",
    "        player_2.health -= dart_damage #subtract from ninja2\n",
    "        return 'The ninjas threw darts at each other!' #shows the function ran\n",
    "    \n",
    "    def mortal_kombat(self, player_1, player_2):\n",
    "        '''A function to make the ninjas fight to the death'''\n",
    "        dart_damage = 10 #define damage amount\n",
    "        while player_1.health > 0 and player_2.health > 0: #while both still have health left\n",
    "            player_1.health -= dart_damage #subtract from ninja1\n",
    "            player_2.health -= dart_damage #subtract from ninja2\n",
    "            if player_1.health == 0:\n",
    "                return f'{player_2.name} is the winner!' #depending on who reaches 0 first, announce other as winner\n",
    "                break #end fight loop\n",
    "            elif player_2.health == 0:\n",
    "                return f'{player_1.name} is the winner!'\n",
    "                break\n",
    "\n",
    "fight = Octagon(ninja_1, ninja_2)\n",
    "\n",
    "fight.mortal_kombat(ninja_1, ninja_2)"
   ]
  },
  {
   "cell_type": "markdown",
   "metadata": {},
   "source": [
    "### Question 3 (20 pts)"
   ]
  },
  {
   "cell_type": "markdown",
   "metadata": {},
   "source": [
    "Create a Python class called BankAccount which represents a bank account, having as attributes: accountNumber (numeric type), name (name of the account owner as string type), balance."
   ]
  },
  {
   "cell_type": "code",
   "execution_count": null,
   "metadata": {},
   "outputs": [],
   "source": [
    "# Your Code Here:\n",
    "\n",
    "class BankAccount:\n",
    "    '''This is a class that contains\n",
    "    bank account information'''\n",
    "    \n",
    "    def __init__(self, accountNumber, name, balance):\n",
    "        self.accountNumber = accountNumber\n",
    "        self.name = name\n",
    "        self.balance = balance\n",
    "        "
   ]
  },
  {
   "cell_type": "markdown",
   "metadata": {},
   "source": [
    "Create a constructor with parameters: accountNumber, name, balance."
   ]
  },
  {
   "cell_type": "code",
   "execution_count": null,
   "metadata": {},
   "outputs": [],
   "source": [
    "# Your Code Here:\n",
    "\n",
    "class BankAccount:\n",
    "    '''This is a class that contains\n",
    "    bank account information'''\n",
    "    \n",
    "    def __init__(self, accountNumber, name, balance):\n",
    "        self.accountNumber = accountNumber\n",
    "        self.name = name\n",
    "        self.balance = balance\n",
    "        \n"
   ]
  },
  {
   "cell_type": "code",
   "execution_count": null,
   "metadata": {},
   "outputs": [],
   "source": [
    "my_bank = BankAccount(203160, 'Libby Lange', 10000)"
   ]
  },
  {
   "cell_type": "markdown",
   "metadata": {},
   "source": [
    "Create a Deposit() method which manages the deposit actions."
   ]
  },
  {
   "cell_type": "code",
   "execution_count": null,
   "metadata": {},
   "outputs": [],
   "source": [
    "# Your Code Here:\n",
    "\n",
    "class BankAccount:\n",
    "    '''This is a class that contains\n",
    "    bank account information'''\n",
    "    \n",
    "    def __init__(self, accountNumber, name, balance):\n",
    "        self.accountNumber = accountNumber\n",
    "        self.name = name\n",
    "        self.balance = balance\n",
    "        \n",
    "    def deposit(self, money):\n",
    "        '''A function to add money to a bank account'''\n",
    "        self.balance += money #add money to existing num\n",
    "        return f'Thank you for depositing {money} dollars into account {self.accountNumber}.'\n",
    "    "
   ]
  },
  {
   "cell_type": "code",
   "execution_count": null,
   "metadata": {},
   "outputs": [],
   "source": [
    "my_bank.deposit(500)\n",
    "#added these to show it works\n",
    "#note: if you run the earlier class cells first (with only init method) the later methods will not work\n",
    "#I had to clear my kernel and then run just the above cell, the my_bank cell, then this cell\n",
    "#same goes for below methods"
   ]
  },
  {
   "cell_type": "markdown",
   "metadata": {},
   "source": [
    "Create a Withdrawal() method  which manages withdrawals actions.\n"
   ]
  },
  {
   "cell_type": "code",
   "execution_count": null,
   "metadata": {},
   "outputs": [],
   "source": [
    "# Your Code Here:\n",
    "\n",
    "class BankAccount:\n",
    "    '''This is a class that contains\n",
    "    bank account information'''\n",
    "    \n",
    "    def __init__(self, accountNumber, name, balance):\n",
    "        self.accountNumber = accountNumber\n",
    "        self.name = name\n",
    "        self.balance = balance\n",
    "        \n",
    "    def deposit(self, money):\n",
    "        '''A function to add money to a bank account'''\n",
    "        self.balance += money\n",
    "        return f'Thank you for depositing {money} dollars into account {self.accountNumber}. Your current balance is {self.balance}.'\n",
    "    \n",
    "    def withdrawal(self, money):\n",
    "        '''A function to withdraw money from a bank account'''\n",
    "        self.balance -= money #subtract money from existing num\n",
    "        return f'You just withdrew {money} dollars from account {self.accountNumber}. Your current balance is {self.balance}.'\n",
    "    \n"
   ]
  },
  {
   "cell_type": "code",
   "execution_count": null,
   "metadata": {},
   "outputs": [],
   "source": [
    "my_bank = BankAccount(203160, 'Libby Lange', 10000)\n",
    "my_bank.withdrawal(1000)"
   ]
  },
  {
   "cell_type": "markdown",
   "metadata": {},
   "source": [
    "Create an bankFees() method to apply the bank fees with a percentage of 5% of the balance account."
   ]
  },
  {
   "cell_type": "code",
   "execution_count": null,
   "metadata": {},
   "outputs": [],
   "source": [
    "# Your Code Here:\n",
    "\n",
    "class BankAccount:\n",
    "    '''This is a class that contains\n",
    "    bank account information'''\n",
    "    \n",
    "    def __init__(self, accountNumber, name, balance):\n",
    "        self.accountNumber = accountNumber\n",
    "        self.name = name\n",
    "        self.balance = balance\n",
    "        \n",
    "    def deposit(self, money):\n",
    "        '''A function to add money to a bank account'''\n",
    "        self.balance += money\n",
    "        return f'Thank you for depositing {money} dollars into account {self.accountNumber}. Your current balance is {self.balance}.'\n",
    "    \n",
    "    def withdrawal(self, money):\n",
    "        '''A function to withdraw money from a bank account'''\n",
    "        self.balance -= money\n",
    "        return f'You just withdrew {money} dollars from account {self.accountNumber}. Your current balance is {self.balance}.'\n",
    "    \n",
    "    def bankFees(self):\n",
    "        '''A function to add a 5% fee to bank account'''\n",
    "        fee = self.balance * .05 #calculate fee from balance\n",
    "        self.balance -= fee #then subtract fee from balance\n",
    "        return f'You incurred a {fee} dollar fee on account {self.accountNumber}.'\n",
    "    \n"
   ]
  },
  {
   "cell_type": "code",
   "execution_count": null,
   "metadata": {},
   "outputs": [],
   "source": [
    "my_bank = BankAccount(203160, 'Libby Lange', 10000)\n",
    "my_bank.bankFees()"
   ]
  },
  {
   "cell_type": "markdown",
   "metadata": {},
   "source": [
    "Create a display() method to display account details."
   ]
  },
  {
   "cell_type": "code",
   "execution_count": null,
   "metadata": {},
   "outputs": [],
   "source": [
    "# Your Code Here:\n",
    "\n",
    "class BankAccount:\n",
    "    '''This is a class that contains\n",
    "    bank account information'''\n",
    "    \n",
    "    def __init__(self, accountNumber, name, balance):\n",
    "        self.accountNumber = accountNumber\n",
    "        self.name = name\n",
    "        self.balance = balance\n",
    "        \n",
    "    def deposit(self, money):\n",
    "        '''A function to add money to a bank account'''\n",
    "        self.balance += money\n",
    "        return f'Thank you for depositing {money} dollars into account {self.accountNumber}. Your current balance is {self.balance}.'\n",
    "    \n",
    "    def withdrawal(self, money):\n",
    "        '''A function to withdraw money from a bank account'''\n",
    "        self.balance -= money\n",
    "        return f'You just withdrew {money} dollars from account {self.accountNumber}. Your current balance is {self.balance}.'\n",
    "    \n",
    "    def bankFees(self, fee):\n",
    "        '''A function to add a 5% fee to bank account'''\n",
    "        fee = self.balance * .05\n",
    "        self.balance -= fee\n",
    "        return f'You incurred a {fee} dollar fee for you transaction on account {self.accountNumber}.'\n",
    "    \n",
    "    def display(self):\n",
    "        '''A function to show bank account details'''\n",
    "        return f'The account {self.accountNumber} is registered to {self.name}. Your current balance is {self.balance}.'"
   ]
  },
  {
   "cell_type": "code",
   "execution_count": null,
   "metadata": {},
   "outputs": [],
   "source": [
    "my_bank = BankAccount(203160, 'Libby Lange', 10000)\n",
    "my_bank.display()"
   ]
  },
  {
   "cell_type": "markdown",
   "metadata": {},
   "source": [
    "### Question 4 (10 pts)"
   ]
  },
  {
   "cell_type": "markdown",
   "metadata": {},
   "source": [
    "Install package BeautifulSoup (by running the code block below)"
   ]
  },
  {
   "cell_type": "code",
   "execution_count": null,
   "metadata": {},
   "outputs": [],
   "source": [
    "!pip install beautifulsoup4"
   ]
  },
  {
   "cell_type": "markdown",
   "metadata": {},
   "source": [
    "Observe the code chunk below. It uses BeautifulSoup to \"scrape\" information from NYTimes. Make sure you have internet connection (and have installed the package as mentioned above), run the code chunk."
   ]
  },
  {
   "cell_type": "code",
   "execution_count": null,
   "metadata": {},
   "outputs": [],
   "source": [
    "import requests\n",
    "from bs4 import BeautifulSoup\n",
    " \n",
    "base_url = 'http://www.nytimes.com'\n",
    "r = requests.get(base_url)\n",
    "soup = BeautifulSoup(r.text)\n",
    "paragraphs = soup.find_all('p')\n",
    "\n",
    "for p in paragraphs:\n",
    "    print(p.get_text())"
   ]
  },
  {
   "cell_type": "markdown",
   "metadata": {},
   "source": [
    "Discuss what aspect of the code above used classes (particularly instance attributes and methods). How many classes were involved?"
   ]
  },
  {
   "cell_type": "markdown",
   "metadata": {},
   "source": [
    "# Your answer here:\n",
    "\n",
    "BeautifulSoup is a class, as evidenced by the variable soup, which is an instance of the class BeautifulSoup that stores the value of r.text. The objects in 'paragraphs' are also objects instantiated by a class, as evidenced by the fact that BeautifulSoup methods are called on them. The variable 'r' stores an instance of Response, created by using the requets.get(url) method.\n",
    "\n",
    "BeautifulSoup contains a number of methods, including those used in the code: find_all and get_text. Using find_all('p') and then get_text() from the result returned all the subheadings from today's headlines.\n",
    "\n"
   ]
  },
  {
   "cell_type": "markdown",
   "metadata": {},
   "source": [
    "Play around with the \"soup\" object (print it out helps), and print out the NYTimes headlines for today. Here some helpful information on how to do that: https://www.dataquest.io/blog/web-scraping-tutorial-python/; https://proxiesapi-com.medium.com/scraping-the-new-york-times-with-python-and-beautiful-soup-6e5f3bc58e39"
   ]
  },
  {
   "cell_type": "code",
   "execution_count": null,
   "metadata": {},
   "outputs": [],
   "source": [
    "# Your code here:\n",
    "\n",
    "nyt = 'https://www.nytimes.com/' #tell program what url to scrape\n",
    "response = requests.get(nyt) #store the accessed url in a variable\n",
    "soup2 = BeautifulSoup(response.text) #stores text from url data as BeautifulSoup object\n",
    "titles = soup2.find_all('h2') #searches for all text coded as h2 (html code for title) in soup2\n",
    "\n",
    "for t in titles:\n",
    "    print(t.get_text()) #gets text and prints each\n",
    "    "
   ]
  },
  {
   "cell_type": "code",
   "execution_count": null,
   "metadata": {},
   "outputs": [],
   "source": []
  }
 ],
 "metadata": {
  "kernelspec": {
   "display_name": "Python 3",
   "language": "python",
   "name": "python3"
  },
  "language_info": {
   "codemirror_mode": {
    "name": "ipython",
    "version": 3
   },
   "file_extension": ".py",
   "mimetype": "text/x-python",
   "name": "python",
   "nbconvert_exporter": "python",
   "pygments_lexer": "ipython3",
   "version": "3.8.5"
  }
 },
 "nbformat": 4,
 "nbformat_minor": 4
}
