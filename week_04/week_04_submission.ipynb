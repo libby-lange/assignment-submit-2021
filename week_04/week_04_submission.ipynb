{
 "cells": [
  {
   "cell_type": "markdown",
   "metadata": {},
   "source": [
    " # Homework Week 4"
   ]
  },
  {
   "cell_type": "markdown",
   "metadata": {},
   "source": [
    "## Cybersecurity: Problem One (20pts)\n",
    "\n",
    "The technique of trying every possible password to gain access to a password restricted website is called a brute-force attack. Loops, both for and while, make this very easy. This is part of the reason why a fairly unsophisticated hacker can still be successful. \n",
    "\n",
    "Naughty people buy lists of passwords on the dark web and then use brute-force attacks to try to gain access to places they shouldn't be wandering. They often pay for their illicit purchases in bitcoin.\n",
    "\n",
    "In order to fight wrongdoing, we must imagine the world from their perspective. Some never come back. Others are guided by strong core principles and understand right and wrong.\n",
    "\n",
    "\n",
    "\n",
    " \n"
   ]
  },
  {
   "cell_type": "markdown",
   "metadata": {},
   "source": [
    "You are a hacker and have a budget of 3,200 Cape Verde Escudo to buy user passwords. On the AlphaBay Market on the dark web each password sells for .0008 BTC . Write a script that converts Escudo (based on current exchange rate) to dollars, and then dollars to bitcoin. Then output the number of passwords that you are able to buy.  "
   ]
  },
  {
   "cell_type": "code",
   "execution_count": 1,
   "metadata": {
    "scrolled": false
   },
   "outputs": [
    {
     "name": "stdout",
     "output_type": "stream",
     "text": [
      "I can buy 0.92 passwords with 3200 Escudo.\n"
     ]
    }
   ],
   "source": [
    "# Your code here (5 pts):\n",
    "escudo = 3200 #how much I have\n",
    "dollar = .011 * escudo #current exchange rate\n",
    "bitcoin = dollar / 47628 #wow that's expensive\n",
    "password = bitcoin / .0008 #the cost of each password\n",
    "\n",
    "print(f'I can buy {password:.2f} passwords with 3200 Escudo.') #show 2 decimal places since it's not even one password"
   ]
  },
  {
   "cell_type": "markdown",
   "metadata": {},
   "source": [
    "Okay, you are off to a very naughty start.\n",
    "\n",
    "The vendor was generous and gave you more passwords than you could afford. Write a script that calculates how many passwords you got for free in Cape Verde Escudo.\n",
    "\n",
    "Passwords received:\n",
    "(please ignore italics as markdown interprets characters as commands. double click on markdown cell to access unaltered passwords)\n",
    "\n",
    "3asdad, letmein@!, qwerty, abc123, trustno1, Ilovesandy, !!@@###123, pl,mjytce!,\n",
    "p@s$word,\n",
    "joker@1!, \n",
    "gofkur$lf, \n",
    "1q2w3e4r,\n",
    "letmein, \n",
    "iloveyou,\n",
    "password1,\n",
    "1qaz2wsx, \n",
    "qazwsx, \n",
    "12345, \n",
    "johnsp@ssw0rd, \n",
    "meandmymonkey, \n",
    "xboksrools, \n",
    "qwertyuiop, \n",
    "77777, \n",
    "888888, \n",
    "zaq1zaq1,\n",
    "123qwe, excaliburr!,  girlsrule!, @cce$$granted, iRulE!, pewdepieftw1, wtFstfUP, admin, master, sunshinesuzy, bobbyluvsdaBears!,qwertyuiop, w_uts_up, n0$hit!, 00000, loveme, 1qaz2wsx3ed,\n",
    "plm0okn,\n",
    "logmein, \n",
    "iloveyou,\n",
    "football,\n",
    "giMMe$uger,\n",
    "aiden123,\n",
    "william123,\n",
    "sally123,\n",
    "pirsquareD, \n",
    "d0nutTreadonme, \n",
    "weedmn, \n",
    "MakeUSgr8,\n",
    "USA#1,\n",
    "FokiSiS, \n",
    "Footbahl, \n",
    "2#22#1985, \n",
    "11111,\n",
    "Dodgethis   \n",
    "\n"
   ]
  },
  {
   "cell_type": "code",
   "execution_count": 2,
   "metadata": {
    "scrolled": true
   },
   "outputs": [
    {
     "name": "stdout",
     "output_type": "stream",
     "text": [
      "I got 61 free passwords.\n"
     ]
    }
   ],
   "source": [
    "#Your code here (5pts):\n",
    "\n",
    "#first create as string to save time\n",
    "passwords = '3asdad,letmein@!,qwerty,abc123,trustno1,Ilovesandy,!!@@###123,pl,mjytce!,p@s$word,joker@1!,gofkur$lf,1q2w3e4r,letmein,iloveyou,password1,1qaz2wsx,qazwsx,12345,johnsp@ssw0rd,meandmymonkey,xboksrools,qwertyuiop,77777,888888,zaq1zaq1,123qwe,excaliburr!,girlsrule!,@cce$$granted,iRulE!,pewdepieftw1,wtFstfUP,admin,master,sunshinesuzy,bobbyluvsdaBears!,qwertyuiop,w_uts_up,n0$hit!,00000,loveme,1qaz2wsx3ed,plm0okn,logmein,iloveyou,football,giMMe$uger,aiden123,william123,sally123,pirsquareD,d0nutTreadonme,weedmn,MakeUSgr8,USA#1,FokiSiS,Footbahl,2#22#1985,11111,Dodgethis'\n",
    "password_list = list(passwords.split(',')) #convert to list split by commas\n",
    "print(f'I got {len(password_list)} free passwords.') #assuming pl,mjytce was two passwords separated by comma\n"
   ]
  },
  {
   "cell_type": "markdown",
   "metadata": {},
   "source": [
    "Now you have some passwords that you can use to attempt a brute-force attack on a password protected account. Write a script that demonstrates how a brute force attack might work. \n"
   ]
  },
  {
   "cell_type": "markdown",
   "metadata": {},
   "source": [
    "For the sake of this exercise, assume the user's password is: 1qaz2wsx"
   ]
  },
  {
   "cell_type": "markdown",
   "metadata": {},
   "source": [
    "Your script should evaluate each one of the possible passwords. Output- \"No, try again\" when you hit a wrong password, and \"You're in!\" when you get it right. When you get it right, the script should stop running. This script should be automated so that it tries each password without you needing to enter it manually."
   ]
  },
  {
   "cell_type": "code",
   "execution_count": 3,
   "metadata": {
    "scrolled": true
   },
   "outputs": [
    {
     "name": "stdout",
     "output_type": "stream",
     "text": [
      "No, try again.\n",
      "No, try again.\n",
      "No, try again.\n",
      "No, try again.\n",
      "No, try again.\n",
      "No, try again.\n",
      "No, try again.\n",
      "No, try again.\n",
      "No, try again.\n",
      "No, try again.\n",
      "No, try again.\n",
      "No, try again.\n",
      "No, try again.\n",
      "No, try again.\n",
      "No, try again.\n",
      "No, try again.\n",
      "You're in!\n"
     ]
    }
   ],
   "source": [
    "for each in password_list: #checks each value in the list\n",
    "    if each == '1qaz2wsx': #once we find the one we're looking for\n",
    "        print('You\\'re in!')\n",
    "        break #end the loop since you've solved it\n",
    "    else: #otherwise keep the loop going\n",
    "        print('No, try again.')"
   ]
  },
  {
   "cell_type": "markdown",
   "metadata": {},
   "source": [
    "## Problem Two: (10pts)\n",
    "A distributed denial-of-service (DDoS) attack is a malicious attempt to disrupt normal traffic of a targeted server, service or network by overwhelming the target or its surrounding infrastructure with a flood of data or inputs."
   ]
  },
  {
   "cell_type": "markdown",
   "metadata": {},
   "source": [
    "Write a simple example of a DoS attack on a user input statement using a for loop that executes for 100 iterations.\n"
   ]
  },
  {
   "cell_type": "code",
   "execution_count": 4,
   "metadata": {
    "scrolled": true
   },
   "outputs": [
    {
     "name": "stdout",
     "output_type": "stream",
     "text": [
      "What's up? Hi\n",
      "1\n",
      "2\n",
      "3\n",
      "4\n",
      "5\n",
      "6\n",
      "7\n",
      "8\n",
      "9\n",
      "10\n",
      "11\n",
      "12\n",
      "13\n",
      "14\n",
      "15\n",
      "16\n",
      "17\n",
      "18\n",
      "19\n",
      "20\n",
      "21\n",
      "22\n",
      "23\n",
      "24\n",
      "25\n",
      "26\n",
      "27\n",
      "28\n",
      "29\n",
      "30\n",
      "31\n",
      "32\n",
      "33\n",
      "34\n",
      "35\n",
      "36\n",
      "37\n",
      "38\n",
      "39\n",
      "40\n",
      "41\n",
      "42\n",
      "43\n",
      "44\n",
      "45\n",
      "46\n",
      "47\n",
      "48\n",
      "49\n",
      "50\n",
      "51\n",
      "52\n",
      "53\n",
      "54\n",
      "55\n",
      "56\n",
      "57\n",
      "58\n",
      "59\n",
      "60\n",
      "61\n",
      "62\n",
      "63\n",
      "64\n",
      "65\n",
      "66\n",
      "67\n",
      "68\n",
      "69\n",
      "70\n",
      "71\n",
      "72\n",
      "73\n",
      "74\n",
      "75\n",
      "76\n",
      "77\n",
      "78\n",
      "79\n",
      "80\n",
      "81\n",
      "82\n",
      "83\n",
      "84\n",
      "85\n",
      "86\n",
      "87\n",
      "88\n",
      "89\n",
      "90\n",
      "91\n",
      "92\n",
      "93\n",
      "94\n",
      "95\n",
      "96\n",
      "97\n",
      "98\n",
      "99\n",
      "100\n"
     ]
    }
   ],
   "source": [
    "#Your code here:\n",
    "\n",
    "words = input('What\\'s up? ') #gets user input\n",
    "\n",
    "attack = range(1, 101) #since it stops before the last number\n",
    "\n",
    "for number in attack:\n",
    "    print(number)"
   ]
  },
  {
   "cell_type": "markdown",
   "metadata": {},
   "source": [
    "## Problem Three: (20pts): \n",
    "\n",
    "**There are two options for this problem, you can choose to do either one, or both for extra credit**"
   ]
  },
  {
   "cell_type": "markdown",
   "metadata": {},
   "source": [
    "1. (This one is easier)\n",
    "\n",
    "You can instantiate multiple processes on your computer to perform many tasks simultaneously in parallel (for example, if you have a quad-core CPU, then there could be at most 4 processes running simultanouesly). In python, it is as simple as using the multiprocessing package: https://zetcode.com/python/multiprocessing/. Use this package (you can directly use the code for multiprocessing online) to perform a real DDoS attack by instantiating at least 4 processes (bots), each executing a for loop for 100 iterations (a total of 400 iterations) to overwhelm the target. \n"
   ]
  },
  {
   "cell_type": "code",
   "execution_count": null,
   "metadata": {
    "scrolled": true
   },
   "outputs": [],
   "source": [
    "from multiprocessing import Process\n",
    "\n",
    "def attack_bots(): #create a function\n",
    "    attack = range(1, 101) #same variable as previous question\n",
    "    for number in attack: #looks at every number in variable\n",
    "        print(number) #prints it\n",
    "        \n",
    "\n",
    "        \n",
    "if __name__ == \"__main__\":\n",
    "    processes = [Process(target=attack_bots, args=()) for x in range(4)] #tell python to start 4 processes of function\n",
    "    \n",
    "    for p in processes:\n",
    "        p.start() #start each process\n",
    "        \n",
    "    for p in processes:\n",
    "        p.join() #end each process\n",
    "        \n",
    "#I made this into a .py file and it works in python's shell\n",
    "\n"
   ]
  },
  {
   "cell_type": "markdown",
   "metadata": {},
   "source": [
    "2. (This one is hard. If you don't get it, try your best and get partial credit. You don't have to consider recursive cases and only need to provide a successful order example to get full credit. Save the example in this notebook.)\n",
    "\n",
    "Your are super motivated to serve your eventual computer overlords and prove your fealty to them, so you offer, free of charge, to help Elm City Pizza, a local Pizza company, write a script to take online pizza orders.\n",
    "\n",
    "Write a script that when a user enters the correct phone number (203-555-5555), prints \"Elm City Pizza, where we have never had a case of food poisoning that can be proved. My name is Hal, what's your name?\" \n",
    "The user then enters their name.\n",
    "The response should print \"Wow (users name) what an awesome name. What would you like to order?\" and then offers an input statement. \n",
    "\n",
    "The menu is limited. There is pizza and there are salads. If the user asks for anything else print \"Sorry,(users name) we don't have that.\" And then prompts them again with a different input statement, \"How about a super awesome pizza? Take a look at our menu, you'll find its delicious.\" \n",
    "\n",
    "By the way, Elm City Pizza is a vegan pizza restaraunt. Here is the Menu. \n",
    "\n",
    "MENU:\n",
    "Pizza: The Basic: Tomato and Cashew Cream Cheese\n",
    "Small: 6.95\n",
    "Medium: 8.95\n",
    "Large 10.90\n",
    "\n",
    "Pizza Toppings (each additional topping, .50): Shitake, Jackfruit, Sweet Potato, Hummus, Chickpeas, Lentils, Tofu,  Edamame, Black Bean, Red Cabbage, Cucumber, Tomato, Jicama, Fried Green Tomatoes, Sun Dried Tomatoes, \n",
    "\n",
    "Salads: Vegan Caesar, Vegan Greek, Cucumber_Tumeric_Tomato\n",
    "Small: 4.95\n",
    "Large: 6.95\n",
    "\n",
    "\n",
    "If the user asks for any meat or if their are any \"normal\" cheese (mozerella, parmesian) on their pizza, the response should be \"Sorry, (user name) but you need to do some more work.\" and severs the contact (breaks the loop), forcing them to \"call back\" (enter the number again). But if they use the same name the output should read \"Sorry (user name) but that's too quick to evolve. Call us back when you have.\" For the evolved, take their order. Prompt the user with \"Anything else?\" They can add what they want until they input, \"No that's it.\" At that point summarize their order, and tell them how much it will cost. \n",
    "\n",
    "Test your code with different conditions. Make sure it cannot be broken by flawed or deliberately malicious user inputs. \n"
   ]
  },
  {
   "cell_type": "code",
   "execution_count": 5,
   "metadata": {
    "scrolled": true
   },
   "outputs": [
    {
     "name": "stdout",
     "output_type": "stream",
     "text": [
      "Please dial a phone number: 2035555555\n",
      "Elm City Pizza, where we have never had a case of food poisoning that can be proved. My name is Hal, what's your name?\n",
      "Please enter your name: Libby\n",
      "Wow Libby what an awesome name. Would you like to order pizza or salad? pizza\n",
      "Would you like small, medium, or large? large\n",
      "What would you like on that? hummus\n",
      "What would you like on that? shiitake\n",
      "What would you like on that? edamame\n",
      "What would you like on that? that's all\n",
      "Great, anything else? salad\n",
      "What kind of salad would you like? vegan greek\n",
      "Would you like a small or large? large\n",
      "Great, anything else? No that's it\n",
      "Your order includes a large pizza with ['hummus', 'shiitake', 'edamame'] and a large vegan greek salad.\n",
      "Your total will be 19.35.\n"
     ]
    }
   ],
   "source": [
    "# Your code here:\n",
    "\n",
    "user_dial = str(input('Please dial a phone number: '))\n",
    "user_name2 = ()\n",
    "phone = ['203-555-5555', '2035555555'] #in case formatted different\n",
    "menu_items = ['pizza', 'salad']\n",
    "pizza_price = {\"small\": 6.95, \"medium\": 8.95, \"large\": 10.90}\n",
    "toppings = ['shiitake', 'jackfruit', 'sweet potato', 'hummus', 'chickpeas', 'lentils', 'tofu', 'edamame', 'black bean', 'red cabbage', 'cucumber', 'tomato', 'jicama', 'fried green tomatoes', 'sun dried tomatoes']\n",
    "topping_choice = []\n",
    "no_no = ['sausage', 'pepperoni', 'chicken', 'bacon', 'mozzarella', 'parmesan'] #toppings not allowed\n",
    "salad_type = ['vegan caesar', 'vegan greek', 'cucumber turmeric tomato']\n",
    "salad_price = {\"small\": 4.95, \"large\": 6.95}\n",
    "final_order = []\n",
    "\n",
    "\n",
    "if user_dial in phone: #if they dial the pizza place, start code\n",
    "    print('Elm City Pizza, where we have never had a case of food poisoning that can be proved. My name is Hal, what\\'s your name?')\n",
    "    user_name = str(input('Please enter your name: ')) #keeps track of name\n",
    "    order = str(input(f'Wow {user_name} what an awesome name. Would you like to order pizza or salad? '))\n",
    "    while True: #keeps loop going indefinitely until broken\n",
    "        if order in menu_items: #makes sure they entered either pizza or salad\n",
    "            if order == 'pizza': #if they ordered pizza\n",
    "                pizza_size = (input(\"Would you like small, medium, or large? \")) #ask what size they want and save\n",
    "                while True: #keep loop going until it breaks\n",
    "                    pizza_toppings = str(input(\"What would you like on that? \")) #ask what toppings they want\n",
    "                    if pizza_toppings in toppings: #if it is a topping on the existing list\n",
    "                        topping_choice.append(pizza_toppings) #add it to a new list\n",
    "                    elif pizza_toppings == 'that\\'s all': #once they're done ordering pizza toppings\n",
    "                        order = str(input('Great, anything else? ')) #ask if they want to order anything else\n",
    "                        break\n",
    "                    elif pizza_toppings in no_no: #if it's not a vegan topping\n",
    "                        print(f'Sorry, {user_name} but you need to do some more work.') \n",
    "                        user_dial = str(input('Please dial a phone number: ')) #make them redial\n",
    "                        if user_dial in phone: #if the number is correct\n",
    "                            print('Elm City Pizza, where we have never had a case of food poisoning that can be proved. My name is Hal, what\\'s your name?')\n",
    "                            user_name2 = str(input('Please enter your name: ')) #make a second variable for their name\n",
    "                            if user_name2 == user_name:\n",
    "                                print(f'Sorry {user_name2} but that\\'s too quick to evolve. Call us back when you have.') #refuse to take order\n",
    "                                break #this part doesn't quite work, can't figure out where to put it\n",
    "                    else:\n",
    "                        print('Sorry, we don\\'t have that.') #if they order a topping not on the list\n",
    "            if order == 'salad': #if they order salad\n",
    "                salad_order = (str(input(\"What kind of salad would you like? \"))) #ask which one they want and save answer\n",
    "                if salad_order in salad_type: #if it's a salad we have\n",
    "                    salad_size = str(input(\"Would you like a small or large? \")) #ask what size they want\n",
    "                    order = str(input('Great, anything else? ')) #ask if they want to order anything else\n",
    "        if order == 'No that\\'s it': #once they're done ordering\n",
    "            print(f'Your order includes a {pizza_size} pizza with {topping_choice} and a {salad_size} {salad_order} salad.') #print their order summary\n",
    "            price = ((len(topping_choice) * .5) + pizza_price[pizza_size] + salad_price[salad_size]) #calculates cost using length of topping list and dictionary with size keys linked to prices\n",
    "            print(f'Your total will be {price:.2f}.') #prints price of total order\n",
    "            break #ends code\n",
    "                \n",
    "        else:\n",
    "            print(f'Sorry, {user_name} we don\\'t have that.') #if they don't enter pizza or salad\n",
    "            order = str(input('How about a super awesome pizza? Take a look at our menu, you\\'ll find it\\'s delicious.')) #give them a new order input statement\n",
    "            \n",
    "else:\n",
    "    user_dial = input('Wrong number, try again: ')            \n",
    "        "
   ]
  },
  {
   "cell_type": "markdown",
   "metadata": {},
   "source": [
    "## Problem 4: (10pts)\n",
    "There is a module in python called \"random\". It allows you to generate random integers and letters. You import modules in Python using the \"import statement.\" (Note: The Anaconda distribution of Python you used to load Python comes with a number of built in packages, so if you use import, Python may respond that you have already installed that).\n",
    "The syntax for importing numbers is as follows:"
   ]
  },
  {
   "cell_type": "code",
   "execution_count": null,
   "metadata": {
    "scrolled": true
   },
   "outputs": [],
   "source": [
    "import random\n",
    "# I am asking random to generate a random number between 1 and 100 and\n",
    "#assigning it to the variable some_number\n",
    "some_number = random.randint(1,100)\n",
    "print(some_number)"
   ]
  },
  {
   "cell_type": "markdown",
   "metadata": {},
   "source": [
    "Write a script that generates a random number between one and ten and gives a user five tries to get the right number. Count the number of guesses. When the user does not guess it right, print an encouraging statement that they should keep trying, how many guesses they have left, and whether if their guess was too high or too low. Make sure you are tracking the number of guesses. When the user gets the number right, print \"You got it!\" and end the program"
   ]
  },
  {
   "cell_type": "code",
   "execution_count": 6,
   "metadata": {
    "scrolled": true
   },
   "outputs": [
    {
     "name": "stdout",
     "output_type": "stream",
     "text": [
      "Choose a number between 1 and 10: 6\n",
      "Guess again, you got this!\n",
      "You have 5 guesses left.\n",
      "Your guess was too low.\n",
      "\n",
      "Choose a number between 1 and 10: 7\n",
      "Guess again, you got this!\n",
      "You have 4 guesses left.\n",
      "Your guess was too low.\n",
      "\n",
      "Choose a number between 1 and 10: 8\n",
      "Guess again, you got this!\n",
      "You have 3 guesses left.\n",
      "Your guess was too low.\n",
      "\n",
      "Choose a number between 1 and 10: 9\n",
      "Guess again, you got this!\n",
      "You have 2 guesses left.\n",
      "Your guess was too low.\n",
      "\n",
      "Choose a number between 1 and 10: 10\n",
      "You got it!\n"
     ]
    }
   ],
   "source": [
    "# Your code here:\n",
    "import random\n",
    "number = random.randint(1,10) #picks random number\n",
    "user_guess = int(input('Choose a number between 1 and 10: ')) #ask user to guess\n",
    "countdown = 5 #sets number of guesses\n",
    "\n",
    "while countdown > -1: #gives you five guesses from 5 to 0\n",
    "    if user_guess == number:\n",
    "        print('You got it!')\n",
    "        break #if they get it end the loop\n",
    "    else:\n",
    "        print('Guess again, you got this!')\n",
    "        print(f'You have {countdown} guesses left.')\n",
    "        if user_guess > number:\n",
    "            print('Your guess was too high.')\n",
    "        elif user_guess < number:\n",
    "            print('Your guess was too low.')\n",
    "        print('') #makes it easier to read between guesses\n",
    "        user_guess = int(input('Choose a number between 1 and 10: ')) #ask them to input again, redefine user guess\n",
    "    countdown -= 1 #counts down number of turns"
   ]
  },
  {
   "cell_type": "markdown",
   "metadata": {},
   "source": [
    "Short answer: What's the most efficient way to guess a correct number given these clues?"
   ]
  },
  {
   "cell_type": "markdown",
   "metadata": {},
   "source": [
    "The most efficient way to guess would be to start with a guess of 5. Since you have 5 guesses and the range is only from 1-10, once you know whether it's greater than or less than 5, you can just increase or decrease your guess by 1 each time until you get it. You're guaranteed to guess the right number by the time you run out of guesses."
   ]
  },
  {
   "cell_type": "markdown",
   "metadata": {},
   "source": [
    "## Problem 5: Strings and Lists (20pts)\n",
    "\n"
   ]
  },
  {
   "cell_type": "markdown",
   "metadata": {},
   "source": [
    "Here is a partial list of treaties unsigned or unratified by the US:\n",
    "US_unratified_treaties=\n",
    "'Optional Protocol to the Convention against Torture', 'International Convention for the Protection of All Persons from Enforced Disappearance','Convention on the Rights of Persons with Disabilities','Convention on Cluster Munitions', 'Anti-Counterfeiting Trade Agreement','Arms Trade Treaty', 'Trans-Pacific Partnership', 'Paris Agreement'"
   ]
  },
  {
   "cell_type": "markdown",
   "metadata": {},
   "source": [
    "(1pt) Slice the string above to print the 'Convention on the Rights of Persons with Disabilities' "
   ]
  },
  {
   "cell_type": "code",
   "execution_count": 8,
   "metadata": {
    "scrolled": true
   },
   "outputs": [
    {
     "name": "stdout",
     "output_type": "stream",
     "text": [
      "Convention on the Rights of Persons with Disabilities\n"
     ]
    }
   ],
   "source": [
    "# Your code here:\n",
    "US_unratified_treaties= 'Optional Protocol to the Convention against Torture', 'International Convention for the Protection of All Persons from Enforced Disappearance','Convention on the Rights of Persons with Disabilities','Convention on Cluster Munitions', 'Anti-Counterfeiting Trade Agreement','Arms Trade Treaty', 'Trans-Pacific Partnership', 'Paris Agreement'\n",
    "treaty_list = list(US_unratified_treaties) #converts from a tuple to a list\n",
    "\n",
    "print(treaty_list[2])"
   ]
  },
  {
   "cell_type": "markdown",
   "metadata": {},
   "source": [
    "(1pt) Slice the string above to print the last three treaties the US has not ratified."
   ]
  },
  {
   "cell_type": "code",
   "execution_count": 9,
   "metadata": {
    "scrolled": true
   },
   "outputs": [
    {
     "name": "stdout",
     "output_type": "stream",
     "text": [
      "['Arms Trade Treaty', 'Trans-Pacific Partnership', 'Paris Agreement']\n"
     ]
    }
   ],
   "source": [
    "# Your code here:\n",
    "\n",
    "print(treaty_list[5:8])"
   ]
  },
  {
   "cell_type": "markdown",
   "metadata": {},
   "source": [
    "(1pt) Slice the string above to print every other treaty that the US has not ratified."
   ]
  },
  {
   "cell_type": "code",
   "execution_count": 10,
   "metadata": {
    "scrolled": true
   },
   "outputs": [
    {
     "name": "stdout",
     "output_type": "stream",
     "text": [
      "['Optional Protocol to the Convention against Torture', 'Convention on the Rights of Persons with Disabilities', 'Anti-Counterfeiting Trade Agreement', 'Trans-Pacific Partnership']\n"
     ]
    }
   ],
   "source": [
    "# Your code here:\n",
    "\n",
    "print(treaty_list[::2])"
   ]
  },
  {
   "cell_type": "markdown",
   "metadata": {},
   "source": [
    "(2pts) Slice the string above to print the last two and the first two strings that the US has not ratified."
   ]
  },
  {
   "cell_type": "code",
   "execution_count": 11,
   "metadata": {
    "scrolled": true
   },
   "outputs": [
    {
     "name": "stdout",
     "output_type": "stream",
     "text": [
      "['Optional Protocol to the Convention against Torture', 'International Convention for the Protection of All Persons from Enforced Disappearance', 'Trans-Pacific Partnership', 'Paris Agreement']\n"
     ]
    }
   ],
   "source": [
    "# Your code here:\n",
    "\n",
    "sliced = []\n",
    "sliced += treaty_list[0:2]\n",
    "sliced += treaty_list[6:8]\n",
    "print(sliced)\n"
   ]
  },
  {
   "cell_type": "markdown",
   "metadata": {},
   "source": [
    "(2pts) Tell me why the following code won't work and change it so it will. Interpret the output.\n",
    "US_unratified_treaties.find ('Torture')"
   ]
  },
  {
   "cell_type": "code",
   "execution_count": 12,
   "metadata": {
    "scrolled": true
   },
   "outputs": [
    {
     "name": "stdout",
     "output_type": "stream",
     "text": [
      "0\n"
     ]
    }
   ],
   "source": [
    "#the .find() command is used on strings\n",
    "#US_unratified_treaties is a tuple\n",
    "#tuples don't have any .function() functions\n",
    "#it's also not informative to use .find() if all the treaties are a single string\n",
    "#because it will only tell you the offset of the first letter of the word Torture\n",
    "#we can use the .index() list function on treaty_list to find the whole name of the treaty\n",
    "#since you can't search by individual words in a list\n",
    "#the full name of the treaty is Optional Protocol to the Convention against Torture\n",
    "\n",
    "# Your code here:\n",
    "\n",
    "print(treaty_list.index('Optional Protocol to the Convention against Torture'))\n",
    "\n",
    "#Interpretation: The treaty is the first on the list, thus it has an index of 0."
   ]
  },
  {
   "cell_type": "markdown",
   "metadata": {},
   "source": [
    "(1pt) Convert the US_unratified_treaties to a list"
   ]
  },
  {
   "cell_type": "code",
   "execution_count": 13,
   "metadata": {
    "scrolled": true
   },
   "outputs": [
    {
     "name": "stdout",
     "output_type": "stream",
     "text": [
      "['Optional Protocol to the Convention against Torture', 'International Convention for the Protection of All Persons from Enforced Disappearance', 'Convention on the Rights of Persons with Disabilities', 'Convention on Cluster Munitions', 'Anti-Counterfeiting Trade Agreement', 'Arms Trade Treaty', 'Trans-Pacific Partnership', 'Paris Agreement']\n"
     ]
    }
   ],
   "source": [
    "# Your code here:\n",
    "treaties_list = list(US_unratified_treaties) #I already did this above so I made a new list\n",
    "print(treaties_list)"
   ]
  },
  {
   "cell_type": "markdown",
   "metadata": {},
   "source": [
    "(4pts) Write a for loop to append the treatise with the word \"Trade\" in the title to create a new list called \"Trade Treaties\" "
   ]
  },
  {
   "cell_type": "code",
   "execution_count": 14,
   "metadata": {
    "scrolled": true
   },
   "outputs": [
    {
     "name": "stdout",
     "output_type": "stream",
     "text": [
      "['Anti-Counterfeiting Trade Agreement', 'Arms Trade Treaty']\n"
     ]
    }
   ],
   "source": [
    "# Your code here:\n",
    "\n",
    "trade_treaties = []\n",
    "trade = 'Trade'\n",
    "\n",
    "for treaty in treaty_list: #looks at each item in list\n",
    "    if trade in treaty: #if it contains my variable\n",
    "        trade_treaties.append(treaty) #add it to my empty list\n",
    "        \n",
    "print(trade_treaties)"
   ]
  },
  {
   "cell_type": "markdown",
   "metadata": {},
   "source": [
    "(2pts) From your original list, add the following treatise one at a time with a script that automates their addition. Print the list.\n",
    "\n",
    "Convention on Biological Diversity, \n",
    "Convention on the Safety of United Nations and Associated Personnel, \n",
    "Comprehensive Test Ban Treaty, Kyoto Protocol,Ottawa Treaty,Rome Statute of the International Criminal Court"
   ]
  },
  {
   "cell_type": "code",
   "execution_count": 15,
   "metadata": {
    "scrolled": true
   },
   "outputs": [
    {
     "name": "stdout",
     "output_type": "stream",
     "text": [
      "['Optional Protocol to the Convention against Torture', 'International Convention for the Protection of All Persons from Enforced Disappearance', 'Convention on the Rights of Persons with Disabilities', 'Convention on Cluster Munitions', 'Anti-Counterfeiting Trade Agreement', 'Arms Trade Treaty', 'Trans-Pacific Partnership', 'Paris Agreement', 'Convention on Biological Diversity', 'Convention on the Safety of United Nations and Associated Personnel', 'Comprehensive Test Ban Treaty', 'Kyoto Protocol', 'Ottawa Treaty', 'Rome Statute of the International Criminal Court']\n"
     ]
    }
   ],
   "source": [
    "# Your code here:\n",
    "new_treaties = ['Convention on Biological Diversity', 'Convention on the Safety of United Nations and Associated Personnel', 'Comprehensive Test Ban Treaty', 'Kyoto Protocol', 'Ottawa Treaty', 'Rome Statute of the International Criminal Court']\n",
    "\n",
    "for treaty in new_treaties: #looks at each entry\n",
    "    treaties_list.append(treaty) #adds to original list\n",
    "    \n",
    "print(treaties_list)"
   ]
  },
  {
   "cell_type": "markdown",
   "metadata": {},
   "source": [
    "(2pts) Now remove the treatise you added and print the list"
   ]
  },
  {
   "cell_type": "code",
   "execution_count": 18,
   "metadata": {
    "scrolled": true
   },
   "outputs": [
    {
     "name": "stdout",
     "output_type": "stream",
     "text": [
      "['Optional Protocol to the Convention against Torture', 'International Convention for the Protection of All Persons from Enforced Disappearance', 'Convention on the Rights of Persons with Disabilities', 'Convention on Cluster Munitions', 'Anti-Counterfeiting Trade Agreement', 'Arms Trade Treaty', 'Trans-Pacific Partnership', 'Paris Agreement', 'Kyoto Protocol']\n"
     ]
    }
   ],
   "source": [
    "# Your code here:\n",
    "\n",
    "for each in treaties_list: #looks at each entry\n",
    "    if each in new_treaties: #checks if it came from the 2nd list\n",
    "        treaties_list.remove(each) #removes the overlapping ones\n",
    "print(treaties_list)"
   ]
  },
  {
   "cell_type": "markdown",
   "metadata": {},
   "source": [
    "(2pts) Now add the treatise all at once and print the list."
   ]
  },
  {
   "cell_type": "code",
   "execution_count": 20,
   "metadata": {
    "scrolled": true
   },
   "outputs": [
    {
     "name": "stdout",
     "output_type": "stream",
     "text": [
      "['Optional Protocol to the Convention against Torture', 'International Convention for the Protection of All Persons from Enforced Disappearance', 'Convention on the Rights of Persons with Disabilities', 'Convention on Cluster Munitions', 'Anti-Counterfeiting Trade Agreement', 'Arms Trade Treaty', 'Trans-Pacific Partnership', 'Paris Agreement', 'Kyoto Protocol', 'Convention on Biological Diversity', 'Convention on the Safety of United Nations and Associated Personnel', 'Comprehensive Test Ban Treaty', 'Kyoto Protocol', 'Ottawa Treaty', 'Rome Statute of the International Criminal Court']\n"
     ]
    }
   ],
   "source": [
    "# Your code here:\n",
    "\n",
    "treaties_list += new_treaties\n",
    "print(treaties_list)\n",
    "\n"
   ]
  },
  {
   "cell_type": "markdown",
   "metadata": {},
   "source": [
    "(2pts) Now replace the Rome Statute of the International Criminal Court with the Moon Treaty"
   ]
  },
  {
   "cell_type": "code",
   "execution_count": 21,
   "metadata": {
    "scrolled": true
   },
   "outputs": [
    {
     "name": "stdout",
     "output_type": "stream",
     "text": [
      "['Optional Protocol to the Convention against Torture', 'International Convention for the Protection of All Persons from Enforced Disappearance', 'Convention on the Rights of Persons with Disabilities', 'Convention on Cluster Munitions', 'Anti-Counterfeiting Trade Agreement', 'Arms Trade Treaty', 'Trans-Pacific Partnership', 'Paris Agreement', 'Kyoto Protocol', 'Convention on Biological Diversity', 'Convention on the Safety of United Nations and Associated Personnel', 'Comprehensive Test Ban Treaty', 'Kyoto Protocol', 'Ottawa Treaty', 'Moon Treaty']\n"
     ]
    }
   ],
   "source": [
    "# Your code here:\n",
    "\n",
    "treaties_list[-1] = 'Moon Treaty' #replaces using reverse index\n",
    "\n",
    "print(treaties_list)"
   ]
  },
  {
   "cell_type": "markdown",
   "metadata": {},
   "source": [
    "## Problem 6: Clean Up (10pts)"
   ]
  },
  {
   "cell_type": "markdown",
   "metadata": {},
   "source": [
    "Write a for loop that returns a list of surnames of Nobel Peace Prize Winners."
   ]
  },
  {
   "cell_type": "code",
   "execution_count": null,
   "metadata": {
    "scrolled": true
   },
   "outputs": [],
   "source": [
    "nobel_messy = [['Xiabobo', '!', ',', ':', ',', '@@', '%','^','&', 'King','Sato', '1945'],['Nuclear', 'Chemical'], ['Obama', 'Sirleaf', 'Walesa', 'Robles']]"
   ]
  },
  {
   "cell_type": "code",
   "execution_count": 22,
   "metadata": {
    "scrolled": true
   },
   "outputs": [
    {
     "name": "stdout",
     "output_type": "stream",
     "text": [
      "['King', 'Sato', 'Obama', 'Sirleaf', 'Walesa', 'Robles']\n"
     ]
    }
   ],
   "source": [
    "# your code: \n",
    "#Liu Xiaobo's name is misspelled, so I didn't include it (also Xiaobo is his first name)\n",
    "nobel_messy = [['Xiabobo', '!', ',', ':', ',', '@@', '%','^','&', 'King','Sato', '1945'],['Nuclear', 'Chemical'], ['Obama', 'Sirleaf', 'Walesa', 'Robles']]\n",
    "nobel_messy_list = []\n",
    "\n",
    "for sublist in nobel_messy: #current format has lists within lists\n",
    "    for value in sublist: #looks at each individual value within each list\n",
    "        nobel_messy_list.append(value) #adds to empty list as separate value\n",
    "\n",
    "nobel_winners = [] #start with empty list\n",
    "surnames = ['King', 'Sato', 'Obama', 'Sirleaf', 'Walesa', 'Robles'] #tell python which values to look for\n",
    "\n",
    "for name in nobel_messy_list: #checks each value in new list\n",
    "    if name in surnames: #if it matches value in surnames variable\n",
    "        nobel_winners.append(name) #add to empty variable\n",
    "print(nobel_winners) #voila\n"
   ]
  },
  {
   "cell_type": "markdown",
   "metadata": {},
   "source": [
    "## Problem 7: Pig Latin Translator (10 points)¶\n",
    "\n",
    "Write code that translates a name into (simplified) Pig Latin. (Please do not make this a 'real' Pig Latin translator.) Have your script ask the user for his or her name, which can comprise first, middle, and/or last parts. For each name part, move the first letter to the end of the part and append the letters \"ay\".\n",
    "\n",
    "Make sure that only the first letter of each word in your output is capitalized. You can use the split() method on the string to create a list of the name parts. Be sure that your script can handle one, two or three name parts separated by spaces. This will likely involve a loop.\n",
    "\n",
    "Your script should re-create the following example exactly:\n",
    "\n",
    "Enter your name: Casey King\n",
    "\n",
    "Aseycay Ingkay"
   ]
  },
  {
   "cell_type": "code",
   "execution_count": 23,
   "metadata": {
    "scrolled": true
   },
   "outputs": [
    {
     "name": "stdout",
     "output_type": "stream",
     "text": [
      "Enter your name: Casey King\n",
      "Aseycay Ingkay\n"
     ]
    }
   ],
   "source": [
    "# Your code here:\n",
    "name = input('Enter your name: ')\n",
    "name_split = name.split(' ') #makes first middle and last name into separate list values\n",
    "pig_latin = 'ay' #will be added to each so make it a variable\n",
    "name1 = name_split[0] #defines first name as first in list\n",
    "first_letter = name1[0] #makes first letter into new variable\n",
    "name1_cut = name1[1:] #removes first letter\n",
    "name1_pig = name1_cut + first_letter + pig_latin #adds it all together\n",
    "\n",
    "if len(name_split) == 1:\n",
    "    print(name1_pig.title())\n",
    "elif len(name_split) == 2:\n",
    "    name2 = name_split[1] #had to move this down here or shorter/longer names would return an error\n",
    "    first_letter2 = name2[0]\n",
    "    name2_cut = name2[1:]\n",
    "    name2_pig = name2_cut + first_letter2 + pig_latin\n",
    "    print(name1_pig.title(), name2_pig.title())\n",
    "elif len(name_split) ==3:\n",
    "    name3 = name_split[2]\n",
    "    first_letter3 = name3[0]\n",
    "    name3_cut = name3[1:]\n",
    "    name3_pig = name3_cut + first_letter3 + pig_latin\n",
    "    print(name1_pig.title(), name2_pig.title(), name3_pig.title())"
   ]
  },
  {
   "cell_type": "code",
   "execution_count": null,
   "metadata": {
    "scrolled": true
   },
   "outputs": [],
   "source": []
  }
 ],
 "metadata": {
  "kernelspec": {
   "display_name": "Python 3",
   "language": "python",
   "name": "python3"
  },
  "language_info": {
   "codemirror_mode": {
    "name": "ipython",
    "version": 3
   },
   "file_extension": ".py",
   "mimetype": "text/x-python",
   "name": "python",
   "nbconvert_exporter": "python",
   "pygments_lexer": "ipython3",
   "version": "3.8.5"
  }
 },
 "nbformat": 4,
 "nbformat_minor": 2
}
