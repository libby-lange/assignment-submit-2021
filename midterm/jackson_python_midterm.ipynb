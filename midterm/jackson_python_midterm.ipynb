{
 "cells": [
  {
   "cell_type": "markdown",
   "metadata": {},
   "source": [
    "# MIDTERM"
   ]
  },
  {
   "cell_type": "markdown",
   "metadata": {},
   "source": [
    "### Python"
   ]
  },
  {
   "cell_type": "markdown",
   "metadata": {},
   "source": [
    "1. (1pt) What is Python?"
   ]
  },
  {
   "cell_type": "markdown",
   "metadata": {},
   "source": [
    "# Your answer here: \n",
    "Python is a coding language, like R or C++, that is much more intuitive and \"easy to read.\""
   ]
  },
  {
   "cell_type": "markdown",
   "metadata": {},
   "source": [
    "2. (1pt) How do you convert a string to all lowercase? Give an example."
   ]
  },
  {
   "cell_type": "code",
   "execution_count": 2,
   "metadata": {},
   "outputs": [
    {
     "name": "stdout",
     "output_type": "stream",
     "text": [
      "peter piper picked a peck of pickled peppers.\n"
     ]
    }
   ],
   "source": [
    "# Your answer here: \n",
    "\n",
    "#use the .lower() method and if you want to keep the original variable, store it in a new variable\n",
    "\n",
    "my_sentence = 'Peter Piper picked a peck of pickled peppers.'\n",
    "\n",
    "my_lower_sentence = my_sentence.lower()\n",
    "\n",
    "print(my_lower_sentence)"
   ]
  },
  {
   "cell_type": "markdown",
   "metadata": {},
   "source": [
    "3. (1pt)How do you convert a string to a list in python? Give an example."
   ]
  },
  {
   "cell_type": "code",
   "execution_count": 5,
   "metadata": {},
   "outputs": [
    {
     "name": "stdout",
     "output_type": "stream",
     "text": [
      "['bananas', 'tomatoes', 'bread', 'mushrooms', 'hummus', 'eggs']\n"
     ]
    }
   ],
   "source": [
    "# Your answer here: \n",
    "\n",
    "#use the .split() method with the item that you want to split by in parentheses\n",
    "\n",
    "groceries = 'bananas, tomatoes, bread, mushrooms, hummus, eggs'\n",
    "\n",
    "grocery_list = groceries.split(', ') #splits string at each instance of ', '\n",
    "\n",
    "print(grocery_list)"
   ]
  },
  {
   "cell_type": "markdown",
   "metadata": {},
   "source": [
    "4. (1pt) How do you convert a string to a tuple in python? Give an example."
   ]
  },
  {
   "cell_type": "code",
   "execution_count": 9,
   "metadata": {},
   "outputs": [
    {
     "name": "stdout",
     "output_type": "stream",
     "text": [
      "('I', 'can', 'show', 'you', 'the', 'world.')\n"
     ]
    }
   ],
   "source": [
    "# Your answer here: \n",
    "\n",
    "#use the tuple() command with the variable in parentheses\n",
    "\n",
    "my_string = 'I can show you the world.'\n",
    "\n",
    "string_tuple = tuple(my_string.split(' ')) #converts to tuple divided by spaces\n",
    "\n",
    "print(string_tuple)"
   ]
  },
  {
   "cell_type": "markdown",
   "metadata": {},
   "source": [
    "5. (1pt) How will you convert a string to an int in python? Give an example."
   ]
  },
  {
   "cell_type": "code",
   "execution_count": 13,
   "metadata": {},
   "outputs": [
    {
     "name": "stdout",
     "output_type": "stream",
     "text": [
      "5\n"
     ]
    }
   ],
   "source": [
    "# Your answer here: \n",
    "\n",
    "#this only works for strings that are already integers\n",
    "#if the string has a decimal or any other contents it will throw an error\n",
    "\n",
    "int_string = '5'\n",
    "\n",
    "my_int = int(int_string)\n",
    "\n",
    "print(my_int)"
   ]
  },
  {
   "cell_type": "markdown",
   "metadata": {},
   "source": [
    "6. (1pt) How do you convert a string to a float in python? Give an example."
   ]
  },
  {
   "cell_type": "code",
   "execution_count": 15,
   "metadata": {},
   "outputs": [
    {
     "name": "stdout",
     "output_type": "stream",
     "text": [
      "5.0\n"
     ]
    }
   ],
   "source": [
    "# Your answer here: \n",
    "\n",
    "#the number must already be a float or int\n",
    "\n",
    "float_string = '5.5' #example using a string containing a float\n",
    "\n",
    "my_float = float(float_string)\n",
    "\n",
    "print(my_float)\n"
   ]
  },
  {
   "cell_type": "markdown",
   "metadata": {},
   "source": [
    "7. (1pt) What are Python's dictionaries? Give an example of a great use for dictionaries.Give an example."
   ]
  },
  {
   "cell_type": "code",
   "execution_count": 16,
   "metadata": {},
   "outputs": [
    {
     "name": "stdout",
     "output_type": "stream",
     "text": [
      "['Roast beef', 'Caesar salad', 'Banana']\n"
     ]
    }
   ],
   "source": [
    "# Your answer here: \n",
    "\n",
    "#dictionaries are data structures that pair a 'key' with a corresponding 'value'\n",
    "#the value can be a single value such as a string or int\n",
    "#or it can be another data structure such as a list or tuple\n",
    "#calling on a dictionary key brings up its associated value\n",
    "\n",
    "#an example of a use for dictionaries might be in storing a school's lunch menu\n",
    "\n",
    "school_lunch = {'Monday':['Ham sandwich', 'Green beans', 'Apple juice'], \n",
    "                'Tuesday':['Pizza', 'Pears', 'Pudding'],\n",
    "                'Wednesday':['Roast beef', 'Caesar salad', 'Banana'],\n",
    "               'Thursday':['Fried rice', 'Celery sticks', 'Chocolate chip cookie'],\n",
    "               'Friday':['Tuna salad', 'Carrots', 'Chocolate milk']}\n",
    "\n",
    "#want to know what's for lunch on Wednesday?\n",
    "\n",
    "print(school_lunch['Wednesday'])"
   ]
  },
  {
   "cell_type": "markdown",
   "metadata": {},
   "source": [
    "8. (1pt) Create a dictionary with keys and values. Give an example."
   ]
  },
  {
   "cell_type": "code",
   "execution_count": 17,
   "metadata": {},
   "outputs": [
    {
     "name": "stdout",
     "output_type": "stream",
     "text": [
      "Running\n"
     ]
    }
   ],
   "source": [
    "# Your answer here: \n",
    "\n",
    "#a dictionary of my favorite things by category\n",
    "\n",
    "favorites = {'Color':'Green',\n",
    "            'Season':'Spring',\n",
    "            'Animal':'Hedgehog',\n",
    "            'Hobby':'Running',\n",
    "            'Book':'The Overstory'}\n",
    "\n",
    "print(favorites['Hobby'])"
   ]
  },
  {
   "cell_type": "markdown",
   "metadata": {},
   "source": [
    "9. (1pt) How do you get all the values from the dictionary? Give an example."
   ]
  },
  {
   "cell_type": "code",
   "execution_count": 19,
   "metadata": {},
   "outputs": [
    {
     "name": "stdout",
     "output_type": "stream",
     "text": [
      "['Green', 'Spring', 'Hedgehog', 'Running', 'The Overstory']\n"
     ]
    }
   ],
   "source": [
    "# Your answer here: \n",
    "\n",
    "#you can get values from a dictionary using the .values() method\n",
    "#adding list in front of it makes it more readable\n",
    "\n",
    "print(list(favorites.values()))"
   ]
  },
  {
   "cell_type": "markdown",
   "metadata": {},
   "source": [
    "10. (1pt) How do you get all the keys from the dictionary? Give an example."
   ]
  },
  {
   "cell_type": "code",
   "execution_count": 20,
   "metadata": {},
   "outputs": [
    {
     "name": "stdout",
     "output_type": "stream",
     "text": [
      "['Color', 'Season', 'Animal', 'Hobby', 'Book']\n"
     ]
    }
   ],
   "source": [
    "# Your answer here: \n",
    "\n",
    "#you can get keys from a dictionary using the .keys() method\n",
    "#adding list in front of it makes it more readable\n",
    "\n",
    "print(list(favorites.keys()))"
   ]
  },
  {
   "cell_type": "markdown",
   "metadata": {},
   "source": [
    "11. (1pt) How do you capitalizes first letter of string? Give an example."
   ]
  },
  {
   "cell_type": "code",
   "execution_count": 22,
   "metadata": {},
   "outputs": [
    {
     "name": "stdout",
     "output_type": "stream",
     "text": [
      "I can't wait to get vaccinated!\n"
     ]
    }
   ],
   "source": [
    "# Your answer here: \n",
    "\n",
    "#you capitalize the first letter of a string using .capitalize()\n",
    "\n",
    "lower_sentence = 'i can\\'t wait to get vaccinated!'\n",
    "\n",
    "upper_sentence = lower_sentence.capitalize()\n",
    "\n",
    "print(upper_sentence)"
   ]
  },
  {
   "cell_type": "markdown",
   "metadata": {},
   "source": [
    "12. (1pt) How do you check in a string that all characters are digits? Give an example.\n"
   ]
  },
  {
   "cell_type": "code",
   "execution_count": 27,
   "metadata": {},
   "outputs": [
    {
     "data": {
      "text/plain": [
       "False"
      ]
     },
     "execution_count": 27,
     "metadata": {},
     "output_type": "execute_result"
    }
   ],
   "source": [
    "# Your answer here: \n",
    "\n",
    "#you can use the method .isdigit() to check if all characters are digits\n",
    "\n",
    "maybe_digits = 'I have 4 siblings.'\n",
    "\n",
    "maybe_digits.isdigit()"
   ]
  },
  {
   "cell_type": "markdown",
   "metadata": {},
   "source": [
    "13. (1pt) How do you check in a string that all characters are alphanumeric? Give an example."
   ]
  },
  {
   "cell_type": "code",
   "execution_count": 29,
   "metadata": {},
   "outputs": [
    {
     "data": {
      "text/plain": [
       "True"
      ]
     },
     "execution_count": 29,
     "metadata": {},
     "output_type": "execute_result"
    }
   ],
   "source": [
    "# Your answer here: \n",
    "\n",
    "#you can use the method .isalnum() to check if all characters are alphanumeric\n",
    "\n",
    "maybe_alnum = '2021Spring'\n",
    "\n",
    "maybe_alnum.isalnum()\n"
   ]
  },
  {
   "cell_type": "markdown",
   "metadata": {},
   "source": [
    "14. (1pt) How do you check in a string that all characters are in lowercase? Give an example."
   ]
  },
  {
   "cell_type": "code",
   "execution_count": 30,
   "metadata": {},
   "outputs": [
    {
     "data": {
      "text/plain": [
       "True"
      ]
     },
     "execution_count": 30,
     "metadata": {},
     "output_type": "execute_result"
    }
   ],
   "source": [
    "# Your answer here: \n",
    "\n",
    "#you can use the method .islower() to check if all characters are lowercase\n",
    "\n",
    "lower_string = 'python midterm: so far, so good'\n",
    "\n",
    "lower_string.islower()\n"
   ]
  },
  {
   "cell_type": "markdown",
   "metadata": {},
   "source": [
    "15. (1pt) How do you check in a string that all characters are not numbers. Give an example."
   ]
  },
  {
   "cell_type": "code",
   "execution_count": 32,
   "metadata": {},
   "outputs": [
    {
     "data": {
      "text/plain": [
       "False"
      ]
     },
     "execution_count": 32,
     "metadata": {},
     "output_type": "execute_result"
    }
   ],
   "source": [
    "# Your answer here: \n",
    "\n",
    "#to check this you could use the method .isnumeric()\n",
    "#if it returns false, all characters are not numbers\n",
    "\n",
    "not_numeric = 'I\\'ve only had 5 cups of coffee today'\n",
    "\n",
    "not_numeric.isnumeric()"
   ]
  },
  {
   "cell_type": "markdown",
   "metadata": {},
   "source": [
    "16. (1pt) How do you get the length of the string? Give an example."
   ]
  },
  {
   "cell_type": "code",
   "execution_count": 33,
   "metadata": {},
   "outputs": [
    {
     "name": "stdout",
     "output_type": "stream",
     "text": [
      "38\n"
     ]
    }
   ],
   "source": [
    "# Your answer here: \n",
    "\n",
    "#use len()\n",
    "\n",
    "long_string = 'Keep sentences short and to the point.'\n",
    "\n",
    "print(len(long_string))"
   ]
  },
  {
   "cell_type": "markdown",
   "metadata": {},
   "source": [
    "17. (1pt) How do you convert a string to all lowercase? Give an example."
   ]
  },
  {
   "cell_type": "code",
   "execution_count": 34,
   "metadata": {},
   "outputs": [
    {
     "name": "stdout",
     "output_type": "stream",
     "text": [
      "all caps makes me look like i'm shouting\n"
     ]
    }
   ],
   "source": [
    "# Your answer here: \n",
    "\n",
    "#use the .lower() method\n",
    "\n",
    "too_loud = 'ALL CAPS MAKES ME LOOK LIKE I\\'M SHOUTING'\n",
    "\n",
    "print(too_loud.lower())"
   ]
  },
  {
   "cell_type": "markdown",
   "metadata": {},
   "source": [
    "18. (1pt) How do you remove all leading whitespace in string? Give an example."
   ]
  },
  {
   "cell_type": "code",
   "execution_count": 36,
   "metadata": {},
   "outputs": [
    {
     "name": "stdout",
     "output_type": "stream",
     "text": [
      "hi there\n"
     ]
    }
   ],
   "source": [
    "# Your answer here: \n",
    "\n",
    "#use .strip() method\n",
    "\n",
    "whitespace = '           hi there'\n",
    "\n",
    "print(whitespace.strip(' ')) #tells it to remove spaces"
   ]
  },
  {
   "cell_type": "markdown",
   "metadata": {},
   "source": [
    "19. (1pt) What is the difference between del() and remove() methods of list? Give an example."
   ]
  },
  {
   "cell_type": "code",
   "execution_count": 37,
   "metadata": {},
   "outputs": [
    {
     "name": "stdout",
     "output_type": "stream",
     "text": [
      "['Mercury', 'Venus', 'Earth', 'Mars', 'Jupiter', 'Saturn', 'Uranus', 'Neptune']\n"
     ]
    }
   ],
   "source": [
    "# Your answer here: \n",
    "\n",
    "#del is a Python statement while .remove() is a method\n",
    "#you use del when you want to get rid of an item at a certain index of the list\n",
    "#you use remove when you don't care where it is in the list but you know its value\n",
    "\n",
    "planets = ['Sun', 'Mercury', 'Venus', 'Earth', 'Mars', 'Jupiter', 'Saturn', 'Uranus', 'Neptune', 'Pluto?']\n",
    "\n",
    "del planets[0]\n",
    "planets.remove('Pluto?')\n",
    "\n",
    "print(planets)"
   ]
  },
  {
   "cell_type": "markdown",
   "metadata": {},
   "source": [
    "20. (1pt) How do you get the index of an object in a list? Give an example."
   ]
  },
  {
   "cell_type": "code",
   "execution_count": 39,
   "metadata": {},
   "outputs": [
    {
     "name": "stdout",
     "output_type": "stream",
     "text": [
      "2\n"
     ]
    }
   ],
   "source": [
    "# Your answer here: \n",
    "\n",
    "#you use the .index() method\n",
    "\n",
    "print(planets.index('Earth'))"
   ]
  },
  {
   "cell_type": "markdown",
   "metadata": {},
   "source": [
    "21. (1pt) How do you insert an object at given index in a list? Give an example."
   ]
  },
  {
   "cell_type": "code",
   "execution_count": 42,
   "metadata": {},
   "outputs": [
    {
     "name": "stdout",
     "output_type": "stream",
     "text": [
      "['Mercury', 'Venus', 'Earth', 'Mars', 'Jupiter', 'Saturn', 'Uranus', 'Neptune', 'Pluto!']\n"
     ]
    }
   ],
   "source": [
    "# Your answer here: \n",
    "\n",
    "#you use .insert() and give it two arguments, the index and the value\n",
    "\n",
    "planets.insert(8, 'Pluto!')\n",
    "\n",
    "print(planets)"
   ]
  },
  {
   "cell_type": "markdown",
   "metadata": {},
   "source": [
    "22. (1pt) How do you get the length of a list? Give an example."
   ]
  },
  {
   "cell_type": "code",
   "execution_count": 43,
   "metadata": {},
   "outputs": [
    {
     "name": "stdout",
     "output_type": "stream",
     "text": [
      "9\n"
     ]
    }
   ],
   "source": [
    "# Your answer here: \n",
    "\n",
    "#as with strings, you use len(), although here it returns the number of items, not characters\n",
    "\n",
    "print(len(planets))"
   ]
  },
  {
   "cell_type": "markdown",
   "metadata": {},
   "source": [
    "23. (1pt) How do you remove last object from a list?"
   ]
  },
  {
   "cell_type": "code",
   "execution_count": 44,
   "metadata": {},
   "outputs": [
    {
     "name": "stdout",
     "output_type": "stream",
     "text": [
      "['Mercury', 'Venus', 'Earth', 'Mars', 'Jupiter', 'Saturn', 'Uranus', 'Neptune']\n"
     ]
    }
   ],
   "source": [
    "# Your answer here: \n",
    "\n",
    "#you use .pop() which has a default index argument of -1\n",
    "\n",
    "#goodbye again pluto sorry\n",
    "\n",
    "planets.pop()\n",
    "\n",
    "print(planets)"
   ]
  },
  {
   "cell_type": "markdown",
   "metadata": {},
   "source": [
    "24. (1pt) How do you reverse a list? Give an example."
   ]
  },
  {
   "cell_type": "code",
   "execution_count": 45,
   "metadata": {},
   "outputs": [
    {
     "name": "stdout",
     "output_type": "stream",
     "text": [
      "['Neptune', 'Uranus', 'Saturn', 'Jupiter', 'Mars', 'Earth', 'Venus', 'Mercury']\n"
     ]
    }
   ],
   "source": [
    "# Your answer here: \n",
    "\n",
    "#you use a slicing method [::-1]\n",
    "\n",
    "print(planets[::-1])"
   ]
  },
  {
   "cell_type": "markdown",
   "metadata": {},
   "source": [
    "25. (1pt) How would you slice a list? Give an example."
   ]
  },
  {
   "cell_type": "code",
   "execution_count": 47,
   "metadata": {},
   "outputs": [
    {
     "name": "stdout",
     "output_type": "stream",
     "text": [
      "['raccoon', 'brown bear', 'mountain lion']\n"
     ]
    }
   ],
   "source": [
    "# Your answer here: \n",
    "\n",
    "us_species = ['raccoon', 'kudzu', 'brown bear', 'zebra mussel', 'mountain lion', 'emerald ash borer']\n",
    "#the list contains native and invasive species\n",
    "#if I just want to show native species I can print a slice of the list\n",
    "\n",
    "print(us_species[0::2])"
   ]
  },
  {
   "cell_type": "markdown",
   "metadata": {},
   "source": [
    "26. (1pt) Once I've made a github repo, how would I connect it to my computer?"
   ]
  },
  {
   "cell_type": "markdown",
   "metadata": {},
   "source": [
    "# Your answer here: \n",
    "\n",
    "First, create directories on your computer that you wish to push and pull assignments from and to.\n",
    "For the directory that you want to submit code from, enter this code:\n",
    "\n",
    "echo \"# (name of the directory)\" >> README.md\n",
    "git init\n",
    "git add README.md\n",
    "git commit -m \"first commit\"\n",
    "git branch -M main\n",
    "git remote add origin (url of your repo)\n",
    "git push -u origin main\n",
    "\n"
   ]
  },
  {
   "cell_type": "markdown",
   "metadata": {},
   "source": [
    "27. (1pt) Once I've made a github repo and connected it to my computer, I want to pull from a different repo (not mine), and push to my own repo. How do I do that? Explain the sequence. "
   ]
  },
  {
   "cell_type": "markdown",
   "metadata": {},
   "source": [
    "# Your answer here: \n",
    "\n",
    "First, you would navigate to the directory you want to pull to, then you would clone the repo:\n",
    "\n",
    "git clone (repo url)\n",
    "\n",
    "Once you've cloned it, you can pull from it:\n",
    "\n",
    "git pull origin main\n",
    "\n",
    "To push to your own repo, you should copy the contents from the directory you're in to your push directory.\n",
    "\n",
    "Once you're in your push directory, execute the following commands:\n",
    "\n",
    "git add ./\n",
    "\n",
    "git commit -m \"comments\"\n",
    "\n",
    "git push origin main\n",
    "\n",
    "\n",
    "\n"
   ]
  },
  {
   "cell_type": "markdown",
   "metadata": {},
   "source": [
    "28. (1pt) Explain what \"origin master\" means."
   ]
  },
  {
   "cell_type": "markdown",
   "metadata": {},
   "source": [
    "# Your answer here: \n",
    "\n",
    "The origin master branch is the branch set up on your computer when you use the git clone command. It is the branch that remains synced with the Github repository. In our case, we refer to the master branch as 'main' (git pull origin main/git push origin main)"
   ]
  },
  {
   "cell_type": "markdown",
   "metadata": {},
   "source": [
    "29. (1pt) What if I've called the repo I'm pulling from \"origin.\" Write code to change that name."
   ]
  },
  {
   "cell_type": "markdown",
   "metadata": {},
   "source": [
    "# Your code here:\n",
    "\n",
    "cd DirectoryName\n",
    "git remote -v\n",
    "git remote set-url origin (new url)\n",
    "git remote -v\n",
    "\n",
    "The first line takes you to your directory on your computer.\n",
    "The second line shows you the current name.\n",
    "The third line renames the repo (thereby changing the url)\n",
    "The fourth line makes sure the change has taken effect."
   ]
  },
  {
   "cell_type": "markdown",
   "metadata": {},
   "source": [
    "30. (10 pts) Iterate through a list and create a new list with only happy words. A happy is anything above the threshold. Print your happy word list without values (just words)."
   ]
  },
  {
   "cell_type": "code",
   "execution_count": 52,
   "metadata": {},
   "outputs": [
    {
     "name": "stdout",
     "output_type": "stream",
     "text": [
      "['overjoyed', 'blissful', 'chocolately']\n"
     ]
    }
   ],
   "source": [
    "threshold = 0.5\n",
    "feelings = [('blue', 0.1), ('melancholy',0.4), ('fine', 0.5 ), ('okay',0.5), ('overjoyed',1.0), ('blissful',0.9), ('chocolately',0.8)]\n",
    "# your code here:\n",
    "\n",
    "happy_word = [word for word, value in feelings if value > 0.5]\n",
    "#uses list comprehension to iterate through feelings by pair and add terms paired with values greater than .5\n",
    "\n",
    "print(happy_word)"
   ]
  },
  {
   "cell_type": "markdown",
   "metadata": {},
   "source": [
    "31. (5 pts) Take a user input that takes in a user's name, age.\n",
    "Create an f string that prints \"Hello <name>, how does it feel to be <age>?\"\n",
    "Then create an answer that takes a random choice from your happy_word list, and print \"Gee, it feels <answer> to be <age>. Thanks for asking!\"\n",
    "\n"
   ]
  },
  {
   "cell_type": "code",
   "execution_count": 55,
   "metadata": {},
   "outputs": [
    {
     "name": "stdout",
     "output_type": "stream",
     "text": [
      "What's your name? Libby\n",
      "How old are you? 24\n",
      "Hello Libby, how does it feel to be 24?\n",
      "Gee, it feels overjoyed to be 24. Thanks for asking!\n"
     ]
    }
   ],
   "source": [
    "# Your code here:\n",
    "\n",
    "import random #import random package\n",
    "\n",
    "your_name = input('What\\'s your name? ') #get name\n",
    "your_age = int(input('How old are you? ')) #get age (as int to be safe)\n",
    "\n",
    "print(f'Hello {your_name}, how does it feel to be {your_age}?')\n",
    "print(f'Gee, it feels {random.choice(happy_word)} to be {your_age}. Thanks for asking!') #picks random value from my list\n"
   ]
  },
  {
   "cell_type": "markdown",
   "metadata": {},
   "source": [
    "31. (15 pts)Do not use a function! Super Tuesday, 2020!  Create a list of dictionaries with two keys each: the super Tuesday state as one and the delegates as the other. Fill in all the states and delegates as values.\n",
    "\n",
    "Then take an input statement from a user that asks them to enter a state. If the state is not a \"Super Tuesday\" state, tell the user that, and ask them to try again. If the state is a Super Tuesday state, print, using an f string, the <state> has <#> delegates.\n",
    "    \n",
    "Make sure your user input can have any number of lower and uppercase letters and it will still work. In other words, case insensitive. \n",
    "\n",
    "Here is an example of the data structure I'd like you to create:\n",
    "\n",
    "```\n",
    "primaries = [\n",
    "    {'state': 'Connecticut', 'delegates': 64},\n",
    "    ]\n",
    "    \n",
    "```\n",
    "\n",
    "* Hint: Don't forget to integrate a \"while loop\" into this so it keeps running! "
   ]
  },
  {
   "cell_type": "code",
   "execution_count": 1,
   "metadata": {
    "scrolled": true
   },
   "outputs": [
    {
     "name": "stdout",
     "output_type": "stream",
     "text": [
      "Please enter a state: Oklahoma\n",
      "Oklahoma has 37 delegates.\n",
      "Please enter a state: Texas\n",
      "Texas has 228 delegates.\n",
      "Please enter a state: Iowa\n",
      "Iowa is not a Super Tuesday state. Try again!\n",
      "Please enter a state: done\n"
     ]
    }
   ],
   "source": [
    "# Your code here:\n",
    "\n",
    "primaries = [\n",
    "    {'state': 'California', 'delegates': 415},\n",
    "    {'state': 'Texas', 'delegates': 228},\n",
    "    {'state': 'North Carolina', 'delegates': 110},\n",
    "    {'state': 'Virginia', 'delegates': 99},\n",
    "    {'state': 'Massechusetts', 'delegates': 91},\n",
    "    {'state': 'Minnesota', 'delegates': 75},\n",
    "    {'state': 'Colorado', 'delegates': 67},\n",
    "    {'state': 'Tennessee', 'delegates': 64},\n",
    "    {'state': 'Alabama', 'delegates': 52},\n",
    "    {'state': 'Oklahoma', 'delegates': 37},\n",
    "    {'state': 'Arkansas', 'delegates': 31},\n",
    "    {'state': 'Utah', 'delegates': 29},\n",
    "    {'state': 'Maine', 'delegates': 24},\n",
    "    {'state': 'Vermont', 'delegates': 16}\n",
    "]\n",
    "\n",
    "\n",
    "user_list = [] #create empty list\n",
    "\n",
    "while True: #keeps looping indefinitely\n",
    "    user_state = input('Please enter a state: ')\n",
    "    if user_state == 'done':\n",
    "        break\n",
    "    for dictionary in primaries: #iterate through list aka each dictionary\n",
    "        if dictionary['state'] == user_state.title(): #if the input matches one of the values for 'state'\n",
    "            user_list.append(user_state.title()) #add it to empty list\n",
    "            user_list.append(dictionary['delegates']) #add its corresponding delegate number\n",
    "            print(f'{user_list[0]} has {user_list[1]} delegates.')\n",
    "            user_list.clear() #clear the list before starting over\n",
    "            break\n",
    "    else:\n",
    "        print(f'{user_state} is not a Super Tuesday state. Try again!') #keeps from printing during iteration\n",
    "       \n"
   ]
  },
  {
   "cell_type": "markdown",
   "metadata": {},
   "source": [
    "32. (5 pts) Rewrite the previous solution as a function. Don't forget doc string!!"
   ]
  },
  {
   "cell_type": "code",
   "execution_count": 2,
   "metadata": {},
   "outputs": [
    {
     "name": "stdout",
     "output_type": "stream",
     "text": [
      "Please enter a state: Oklahoma\n",
      "Oklahoma has 37 delegates.\n",
      "Please enter a state: Texas\n",
      "Texas has 228 delegates.\n",
      "Please enter a state: Iowa\n",
      "Iowa is not a Super Tuesday state. Try again!\n",
      "Please enter a state: done\n",
      "done is not a Super Tuesday state. Try again!\n"
     ]
    }
   ],
   "source": [
    "def PrimaryState(value, dict_list):\n",
    "    '''A function to return the number of delegates\n",
    "    a Super Tuesday state has'''\n",
    "    for dictionary in dict_list:\n",
    "        if dictionary['state'] == value.title():\n",
    "            print(f'{value} has {dictionary[\"delegates\"]} delegates.')\n",
    "            break\n",
    "            \n",
    "    else:\n",
    "        print(f'{value} is not a Super Tuesday state. Try again!')\n",
    "\n",
    "        \n",
    "\n",
    "        \n",
    "while True:    \n",
    "    user_state = input('Please enter a state: ')\n",
    "    PrimaryState(user_state, primaries)\n",
    "    if user_state == 'done':\n",
    "        break\n",
    "    \n",
    "\n"
   ]
  },
  {
   "cell_type": "markdown",
   "metadata": {},
   "source": [
    "31. (10 pts) Convert the following quote to a single string assigned to the variable Brzezinski, without numbers or special characters. Print the output. Make sure you add quotation marks to the beginning and end of the quote.\n"
   ]
  },
  {
   "cell_type": "code",
   "execution_count": 275,
   "metadata": {},
   "outputs": [
    {
     "name": "stdout",
     "output_type": "stream",
     "text": [
      "\"'Most Americans  are close to total ignorance about the world. They are ignorant. That is an unhealthy condition in a country in which foreign policy has to be endorsed by the people  if it is to be pursued. And  it makes it much more difficult for any president to pursue an intelligent  policy that does justice to the complexity of the world.'\"\n"
     ]
    }
   ],
   "source": [
    "quote = [[('Most Americans ^331 are close to total ignorance about the world. They are ignorant. That is an unhealthy condition in a country in which foreign policy has to be endorsed by the people 402 if it is to be pursued. And 404 it makes it much more difficult for any president to pursue an intelligent %%&* policy that does justice to the complexity of the world.')]]\n",
    "\n",
    "# Your code here:\n",
    "\n",
    "quote_string = str(quote) #convert from list to string\n",
    "\n",
    "def split(quote):\n",
    "    '''Splits string into list of individual characters'''\n",
    "    return [char for char in quote_string] \n",
    "\n",
    "quote_list = split(quote_string) #reconvert to list by character\n",
    "num_special = '1234567890^%&*[]' #define nums and special characters\n",
    "clean_quote = [] #empty clean list\n",
    "\n",
    "for char in quote_list: #iterate through list\n",
    "    if not char in num_special:\n",
    "        clean_quote.append(char) #add to clean list if not num/special character\n",
    "        \n",
    "Brzezinski = ''.join(clean_quote) #remake it into a string\n",
    "\n",
    "\n",
    "print(f'\\\"{Brzezinski}\\\"')"
   ]
  },
  {
   "cell_type": "markdown",
   "metadata": {},
   "source": [
    "32. (3pts) There is a wikipedia package for Python! It makes it super easy to collect and parse entries. Install it and print a summary of the Marquis de Lafayette in French."
   ]
  },
  {
   "cell_type": "code",
   "execution_count": 114,
   "metadata": {},
   "outputs": [
    {
     "name": "stdout",
     "output_type": "stream",
     "text": [
      "Collecting wikipedia\n",
      "  Downloading wikipedia-1.4.0.tar.gz (27 kB)\n",
      "Requirement already satisfied: beautifulsoup4 in c:\\users\\libby\\anaconda3\\lib\\site-packages (from wikipedia) (4.9.3)\n",
      "Requirement already satisfied: requests<3.0.0,>=2.0.0 in c:\\users\\libby\\anaconda3\\lib\\site-packages (from wikipedia) (2.24.0)\n",
      "Requirement already satisfied: soupsieve>1.2; python_version >= \"3.0\" in c:\\users\\libby\\anaconda3\\lib\\site-packages (from beautifulsoup4->wikipedia) (2.0.1)\n",
      "Requirement already satisfied: chardet<4,>=3.0.2 in c:\\users\\libby\\anaconda3\\lib\\site-packages (from requests<3.0.0,>=2.0.0->wikipedia) (3.0.4)\n",
      "Requirement already satisfied: urllib3!=1.25.0,!=1.25.1,<1.26,>=1.21.1 in c:\\users\\libby\\anaconda3\\lib\\site-packages (from requests<3.0.0,>=2.0.0->wikipedia) (1.25.11)\n",
      "Requirement already satisfied: certifi>=2017.4.17 in c:\\users\\libby\\anaconda3\\lib\\site-packages (from requests<3.0.0,>=2.0.0->wikipedia) (2020.6.20)\n",
      "Requirement already satisfied: idna<3,>=2.5 in c:\\users\\libby\\anaconda3\\lib\\site-packages (from requests<3.0.0,>=2.0.0->wikipedia) (2.10)\n",
      "Building wheels for collected packages: wikipedia\n",
      "  Building wheel for wikipedia (setup.py): started\n",
      "  Building wheel for wikipedia (setup.py): finished with status 'done'\n",
      "  Created wheel for wikipedia: filename=wikipedia-1.4.0-py3-none-any.whl size=11689 sha256=a3b692d238f896ca05d7b85bfc32f28cc31a939171911c54502bc1c7d84bb48c\n",
      "  Stored in directory: c:\\users\\libby\\appdata\\local\\pip\\cache\\wheels\\07\\93\\05\\72c05349177dca2e0ba31a33ba4f7907606f7ddef303517c6a\n",
      "Successfully built wikipedia\n",
      "Installing collected packages: wikipedia\n",
      "Successfully installed wikipedia-1.4.0\n"
     ]
    }
   ],
   "source": [
    "# Your code here:\n",
    "\n",
    "!pip install wikipedia\n"
   ]
  },
  {
   "cell_type": "code",
   "execution_count": 117,
   "metadata": {},
   "outputs": [],
   "source": [
    "import wikipedia\n"
   ]
  },
  {
   "cell_type": "code",
   "execution_count": 118,
   "metadata": {},
   "outputs": [
    {
     "data": {
      "text/plain": [
       "\"Gilbert du Motier, marquis de La Fayette, né le 6 septembre 1757 au château de Chavaniac, paroisse de Saint-Georges-d'Aurac (province d'Auvergne) et mort le 20 mai 1834 à Paris (ancien 1er arrondissement), est un noble d'orientation libérale, officier et homme politique français et américain. \\nConvaincu que la cause des insurgés américains est noble, il s'engage dans leur guerre révolutionnaire en 1777, à la recherche de la gloire. Nommé général par George Washington à l'âge de 19 ans, La Fayette joue un rôle décisif aux côtés des Américains dans leur guerre d'indépendance contre le pouvoir colonial britannique et en particulier lors de la victoire de Yorktown le 19 octobre 1781.\""
      ]
     },
     "execution_count": 118,
     "metadata": {},
     "output_type": "execute_result"
    }
   ],
   "source": [
    "wikipedia.set_lang(\"fr\")\n",
    "wikipedia.summary(\"Marquis de Lafayette\", sentences=3)"
   ]
  },
  {
   "cell_type": "markdown",
   "metadata": {},
   "source": [
    "33. (3pts) There is an emoji package in Python! Install it and print a \"thumbs up\" emoji."
   ]
  },
  {
   "cell_type": "code",
   "execution_count": 119,
   "metadata": {},
   "outputs": [
    {
     "name": "stdout",
     "output_type": "stream",
     "text": [
      "Collecting emoji\n",
      "  Downloading emoji-1.2.0-py3-none-any.whl (131 kB)\n",
      "Installing collected packages: emoji\n",
      "Successfully installed emoji-1.2.0\n"
     ]
    }
   ],
   "source": [
    "#Your code here:\n",
    "\n",
    "!pip install emoji --upgrade"
   ]
  },
  {
   "cell_type": "code",
   "execution_count": 120,
   "metadata": {},
   "outputs": [],
   "source": [
    "import emoji"
   ]
  },
  {
   "cell_type": "code",
   "execution_count": 123,
   "metadata": {},
   "outputs": [
    {
     "name": "stdout",
     "output_type": "stream",
     "text": [
      "👍\n"
     ]
    }
   ],
   "source": [
    "print(emoji.emojize(':thumbs_up:'))"
   ]
  },
  {
   "cell_type": "markdown",
   "metadata": {},
   "source": [
    "34. (20pts) Use beautiful soup to pull Yale's home page (https://www.yale.edu/), grab all the \"p\" tags, remove the stopwords and visualize the top five words for the day. You can use any packages or methods you wish including beautiful soup, requests, etc.\n",
    "\n",
    "\n"
   ]
  },
  {
   "cell_type": "code",
   "execution_count": 176,
   "metadata": {},
   "outputs": [],
   "source": [
    "#Your code here:\n",
    "\n",
    "import requests\n",
    "from bs4 import BeautifulSoup\n",
    "import nltk\n",
    "from nltk import FreqDist\n",
    "from nltk.tokenize import word_tokenize\n",
    "from nltk.corpus import stopwords\n",
    "import matplotlib.pyplot as plt\n",
    "\n",
    "    "
   ]
  },
  {
   "cell_type": "code",
   "execution_count": 191,
   "metadata": {},
   "outputs": [],
   "source": [
    "yale_content = []\n",
    "\n",
    "yale = 'https://www.yale.edu/' \n",
    "response = requests.get(yale) \n",
    "soup = BeautifulSoup(response.text)\n",
    "content = soup.find_all('p')\n",
    "\n",
    "for p in content:\n",
    "    yale_content.append(p.get_text()) "
   ]
  },
  {
   "cell_type": "code",
   "execution_count": 192,
   "metadata": {
    "scrolled": true
   },
   "outputs": [
    {
     "name": "stdout",
     "output_type": "stream",
     "text": [
      "['Visit our COVID-19 website for campus updates.', 'This year, unable to host the public due to the pandemic, the School of Art is offering virtual 3D tours of student’s capstone projects, using photogrammetry.', 'The Yale Art Gallery’s Keely Orgeman discusses new works gifted to Yale.', 'Explore the library', 'Learn more', 'Known for its academic excellence and extraordinary faculty, the school offers programs leading to the M.A., M.S., M.Phil., and Ph.D. degrees in 73 departments and programs.', 'Explore the school', 'Learn more', 'Explore the college', 'Explore the college', 'View photos', 'Learn more', 'Completed circa 1500, the volume includes 95 drawings of flowers and trees and 49 drawings of animals and birds, demonstrating English knowledge of natural history in the Tudor period.']\n"
     ]
    }
   ],
   "source": [
    "yale_content2 = yale_content[2::] #slices off first 2 meaningless entries"
   ]
  },
  {
   "cell_type": "code",
   "execution_count": 196,
   "metadata": {},
   "outputs": [],
   "source": [
    "content_string = ' '.join(yale_content2) #first make it a string\n",
    "content_words = word_tokenize(content_string) #then you can tokenize by word"
   ]
  },
  {
   "cell_type": "code",
   "execution_count": 200,
   "metadata": {},
   "outputs": [],
   "source": [
    "stopwords = nltk.corpus.stopwords.words('english')\n",
    "new_stopwords = new_stopwords = [',', ';', '.', ':', '-', \"’\"]\n",
    "stopwords.extend(new_stopwords)"
   ]
  },
  {
   "cell_type": "code",
   "execution_count": 201,
   "metadata": {},
   "outputs": [],
   "source": [
    "clean_content = []\n",
    "\n",
    "for word in content_words:\n",
    "    if not word.lower() in stopwords:\n",
    "        clean_content.append(word)\n",
    "    else:\n",
    "        pass"
   ]
  },
  {
   "cell_type": "code",
   "execution_count": 202,
   "metadata": {},
   "outputs": [
    {
     "data": {
      "image/png": "[encoded data removed]",
      "text/plain": [
       "<Figure size 432x288 with 1 Axes>"
      ]
     },
     "metadata": {
      "needs_background": "light"
     },
     "output_type": "display_data"
    },
    {
     "data": {
      "text/plain": [
       "<AxesSubplot:xlabel='Samples', ylabel='Counts'>"
      ]
     },
     "execution_count": 202,
     "metadata": {},
     "output_type": "execute_result"
    }
   ],
   "source": [
    "content_freq = FreqDist(clean_content)\n",
    "content_freq.plot(5)"
   ]
  },
  {
   "cell_type": "markdown",
   "metadata": {},
   "source": [
    "### Answer the following questions using the Housing Dataset we downloaded in class"
   ]
  },
  {
   "cell_type": "markdown",
   "metadata": {},
   "source": [
    "35. (3pts) Using the df.loc() method in pandas to return all of the rows for a single seller based on their name."
   ]
  },
  {
   "cell_type": "code",
   "execution_count": 203,
   "metadata": {},
   "outputs": [],
   "source": [
    "# Your answer here:\n",
    "\n",
    "import pandas as pd"
   ]
  },
  {
   "cell_type": "code",
   "execution_count": 204,
   "metadata": {},
   "outputs": [],
   "source": [
    "df = pd.read_csv('melb_data.csv')"
   ]
  },
  {
   "cell_type": "code",
   "execution_count": 223,
   "metadata": {},
   "outputs": [
    {
     "name": "stdout",
     "output_type": "stream",
     "text": [
      "               Suburb             Address  Rooms Type     Price Method  \\\n",
      "103         Brunswick     301/34 Union St      2    u  625000.0      S   \n",
      "35518  West Melbourne  304/162 Rosslyn St      2    u       NaN     PN   \n",
      "49391     South Yarra       3/29 Hardy St      2    u  537000.0     SP   \n",
      "54579    Malvern East   2/1810 Malvern Rd      3    t       NaN      W   \n",
      "\n",
      "        SellerG        Date  Postcode             Regionname  Propertycount  \\\n",
      "103    Rombotis   1/04/2017      3056  Northern Metropolitan          11918   \n",
      "35518  Rombotis  18/03/2017      3003  Northern Metropolitan           2230   \n",
      "49391  Rombotis  24/06/2017      3141  Southern Metropolitan          14887   \n",
      "54579  Rombotis  27/05/2017      3145  Southern Metropolitan           8801   \n",
      "\n",
      "       Distance               CouncilArea  \n",
      "103         5.2     Moreland City Council  \n",
      "35518       3.1    Melbourne City Council  \n",
      "49391       2.7    Melbourne City Council  \n",
      "54579       8.4  Stonnington City Council  \n"
     ]
    }
   ],
   "source": [
    "seller_name = df.loc[df['SellerG'] == 'Rombotis'] #finds all rows with value 'Rombotis' in column 'SellerG'\n",
    "print(seller_name)"
   ]
  },
  {
   "cell_type": "markdown",
   "metadata": {},
   "source": [
    "36. (3pts) Return all of the rows where the price is greater than $2,000,000"
   ]
  },
  {
   "cell_type": "code",
   "execution_count": 224,
   "metadata": {},
   "outputs": [
    {
     "name": "stdout",
     "output_type": "stream",
     "text": [
      "               Suburb          Address  Rooms Type      Price Method  \\\n",
      "13         Alphington   41 Toolangi Rd      4    h  2008000.0      S   \n",
      "18           Armadale     6A Auburn Gr      2    h  2110000.0      S   \n",
      "33             Balwyn  9 Kenilworth St      5    h  2700000.0     PI   \n",
      "34             Balwyn       4 Lynch Ct      3    h  2035000.0     PI   \n",
      "39       Balwyn North   203 Belmore Rd      4    h  2600000.0     VB   \n",
      "...               ...              ...    ...  ...        ...    ...   \n",
      "62748  Mount Waverley   31 The Highway      5    h  2700000.0     VB   \n",
      "62776       Northcote     18 Thames St      5    h  2525000.0     SP   \n",
      "62811         Prahran     7 Trinian St      3    h  2400000.0     VB   \n",
      "62951          Toorak       2 Cross St      5    h  4515000.0     PI   \n",
      "62991    Williamstown    151 Nelson Pl      3    h  2400000.0     VB   \n",
      "\n",
      "             SellerG        Date  Postcode             Regionname  \\\n",
      "13            Jellis   1/04/2017      3078  Northern Metropolitan   \n",
      "18            Jellis   1/04/2017      3143  Southern Metropolitan   \n",
      "33     hockingstuart   1/04/2017      3103  Southern Metropolitan   \n",
      "34          Marshall   1/04/2017      3103  Southern Metropolitan   \n",
      "39            Jellis   1/04/2017      3104  Southern Metropolitan   \n",
      "...              ...         ...       ...                    ...   \n",
      "62748         Jellis  30/12/2017      3149   Eastern Metropolitan   \n",
      "62776         Jellis  30/12/2017      3070  Northern Metropolitan   \n",
      "62811       Marshall  30/12/2017      3181  Southern Metropolitan   \n",
      "62951            Kay  30/12/2017      3142  Southern Metropolitan   \n",
      "62991            S&L  30/12/2017      3016   Western Metropolitan   \n",
      "\n",
      "       Propertycount  Distance               CouncilArea  \n",
      "13              2211       5.7      Darebin City Council  \n",
      "18              4836       6.3  Stonnington City Council  \n",
      "33              5682       7.9   Boroondara City Council  \n",
      "34              5682       7.9   Boroondara City Council  \n",
      "39              7809       9.7   Boroondara City Council  \n",
      "...              ...       ...                       ...  \n",
      "62748          13366      14.2       Monash City Council  \n",
      "62776          11364       5.3      Darebin City Council  \n",
      "62811           7717       4.6  Stonnington City Council  \n",
      "62951           7217       4.1  Stonnington City Council  \n",
      "62991           6380       6.8  Hobsons Bay City Council  \n",
      "\n",
      "[2681 rows x 13 columns]\n"
     ]
    }
   ],
   "source": [
    "# Your answer here:\n",
    "\n",
    "expensive_house = df.loc[df['Price'] > 2000000] \n",
    "print(expensive_house)"
   ]
  },
  {
   "cell_type": "markdown",
   "metadata": {},
   "source": [
    "37. (3pts) Using the df.iloc() method in pandas to return all columns in row index 3."
   ]
  },
  {
   "cell_type": "code",
   "execution_count": 226,
   "metadata": {},
   "outputs": [
    {
     "data": {
      "text/plain": [
       "Suburb                           Aberfeldie\n",
       "Address                          68 Vida St\n",
       "Rooms                                     3\n",
       "Type                                      h\n",
       "Price                             1.515e+06\n",
       "Method                                    S\n",
       "SellerG                               Barry\n",
       "Date                              1/04/2017\n",
       "Postcode                               3040\n",
       "Regionname             Western Metropolitan\n",
       "Propertycount                          1543\n",
       "Distance                                7.5\n",
       "CouncilArea      Moonee Valley City Council\n",
       "Name: 3, dtype: object"
      ]
     },
     "execution_count": 226,
     "metadata": {},
     "output_type": "execute_result"
    }
   ],
   "source": [
    "# Your answer here:\n",
    "\n",
    "df.iloc[3]"
   ]
  },
  {
   "cell_type": "markdown",
   "metadata": {},
   "source": [
    "38. (3pts) Using the df.iloc() method to return first 5 rows and 5th,6th,and 7th columns"
   ]
  },
  {
   "cell_type": "code",
   "execution_count": 232,
   "metadata": {},
   "outputs": [
    {
     "data": {
      "text/html": [
       "<div>\n",
       "<style scoped>\n",
       "    .dataframe tbody tr th:only-of-type {\n",
       "        vertical-align: middle;\n",
       "    }\n",
       "\n",
       "    .dataframe tbody tr th {\n",
       "        vertical-align: top;\n",
       "    }\n",
       "\n",
       "    .dataframe thead th {\n",
       "        text-align: right;\n",
       "    }\n",
       "</style>\n",
       "<table border=\"1\" class=\"dataframe\">\n",
       "  <thead>\n",
       "    <tr style=\"text-align: right;\">\n",
       "      <th></th>\n",
       "      <th>Price</th>\n",
       "      <th>Method</th>\n",
       "      <th>SellerG</th>\n",
       "    </tr>\n",
       "  </thead>\n",
       "  <tbody>\n",
       "    <tr>\n",
       "      <th>0</th>\n",
       "      <td>1490000.0</td>\n",
       "      <td>S</td>\n",
       "      <td>Jellis</td>\n",
       "    </tr>\n",
       "    <tr>\n",
       "      <th>1</th>\n",
       "      <td>1220000.0</td>\n",
       "      <td>S</td>\n",
       "      <td>Marshall</td>\n",
       "    </tr>\n",
       "    <tr>\n",
       "      <th>2</th>\n",
       "      <td>1420000.0</td>\n",
       "      <td>S</td>\n",
       "      <td>Nelson</td>\n",
       "    </tr>\n",
       "    <tr>\n",
       "      <th>3</th>\n",
       "      <td>1515000.0</td>\n",
       "      <td>S</td>\n",
       "      <td>Barry</td>\n",
       "    </tr>\n",
       "    <tr>\n",
       "      <th>4</th>\n",
       "      <td>670000.0</td>\n",
       "      <td>S</td>\n",
       "      <td>Nelson</td>\n",
       "    </tr>\n",
       "  </tbody>\n",
       "</table>\n",
       "</div>"
      ],
      "text/plain": [
       "       Price Method   SellerG\n",
       "0  1490000.0      S    Jellis\n",
       "1  1220000.0      S  Marshall\n",
       "2  1420000.0      S    Nelson\n",
       "3  1515000.0      S     Barry\n",
       "4   670000.0      S    Nelson"
      ]
     },
     "execution_count": 232,
     "metadata": {},
     "output_type": "execute_result"
    }
   ],
   "source": [
    "# Your answer here:\n",
    "\n",
    "df.iloc[0:5, 4:7]\n",
    "#assuming the question wants us to start indexes at 0 and count from there"
   ]
  },
  {
   "cell_type": "markdown",
   "metadata": {},
   "source": [
    "### Final Project"
   ]
  },
  {
   "cell_type": "markdown",
   "metadata": {},
   "source": [
    "39. (3pts) Find partners, and write a 1 paragraph description for your final project."
   ]
  },
  {
   "cell_type": "markdown",
   "metadata": {},
   "source": [
    "Josh and I plan to work together on a project examining China's wolf warrior messaging online, particularly in determining how increased aggressiveness may be driving engagement. We plan to use NLP methods and sentiment analysis to scrape tweets from Chinese state-sponsored accounts (such as diplomats or state-owned media). If possible, we hope to delve into the details of engagement with their tweets, particularly in terms of how much engagement content gets relative to \"aggressiveness\" or \"assertiveness\" and explore where the majority of their engagement is coming from (China, the U.S., suspicious IPs, etc.) to determine who the real target of this diplomatic strategy is. Ideally, we would be able to get data from Chinese social media platforms, but if this is not possible, we will confine our analysis to Twitter."
   ]
  }
 ],
 "metadata": {
  "kernelspec": {
   "display_name": "Python 3",
   "language": "python",
   "name": "python3"
  },
  "language_info": {
   "codemirror_mode": {
    "name": "ipython",
    "version": 3
   },
   "file_extension": ".py",
   "mimetype": "text/x-python",
   "name": "python",
   "nbconvert_exporter": "python",
   "pygments_lexer": "ipython3",
   "version": "3.8.5"
  }
 },
 "nbformat": 4,
 "nbformat_minor": 2
}
