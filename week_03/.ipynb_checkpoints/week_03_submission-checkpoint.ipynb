{
 "cells": [
  {
   "cell_type": "code",
   "execution_count": 15,
   "metadata": {},
   "outputs": [
    {
     "name": "stdout",
     "output_type": "stream",
     "text": [
      "Please choose a number between 1 and 1000000: 33\n",
      "This number is divisible by 3.\n"
     ]
    }
   ],
   "source": [
    "# 3.1\n",
    "number = int(input('Please choose a number between 1 and 1000000: '))\n",
    "if number % 3 == 0: #determines if number is divisible by 3\n",
    "    print('This number is divisible by 3.')\n",
    "else:\n",
    "    print('This number is not divisible by 3. What a bummer.')"
   ]
  },
  {
   "cell_type": "code",
   "execution_count": 325,
   "metadata": {},
   "outputs": [
    {
     "name": "stdout",
     "output_type": "stream",
     "text": [
      "The circle's circumference is 17.08.\n",
      "The circle's area is 23.21.\n"
     ]
    }
   ],
   "source": [
    "#3.2\n",
    "radius = 2.718\n",
    "\n",
    "pi = 3.14159\n",
    "\n",
    "circumference = 2 * pi * radius\n",
    "\n",
    "area = pi * radius ** 2 #squares the radius before multiplying by pi\n",
    "\n",
    "print(f'The circle\\'s circumference is {circumference:.2f}.') #formatting prevents long decimals\n",
    "print(f'The circle\\'s area is {area:.2f}.')"
   ]
  },
  {
   "cell_type": "code",
   "execution_count": 295,
   "metadata": {},
   "outputs": [
    {
     "name": "stdout",
     "output_type": "stream",
     "text": [
      "The ratio of area to perimeter of a rectangle with width 16.18 and height 10 is 3.09 to 1.\n"
     ]
    }
   ],
   "source": [
    "#3.3\n",
    "width = 16.18\n",
    "\n",
    "height = 10\n",
    "\n",
    "area = width * height\n",
    "\n",
    "perimeter = width * 2 + height * 2\n",
    "\n",
    "ratio = area / perimeter\n",
    "\n",
    "print(f'The ratio of area to perimeter of a rectangle with width 16.18 and height 10 is {ratio:.2f} to 1.')"
   ]
  },
  {
   "cell_type": "code",
   "execution_count": 296,
   "metadata": {},
   "outputs": [
    {
     "name": "stdout",
     "output_type": "stream",
     "text": [
      "Her average speed is 8.8 km/hr.\n"
     ]
    }
   ],
   "source": [
    "#3.4\n",
    "yard = 10000\n",
    "km = yard / 1093.61\n",
    "time = 3740 #converts her total time to seconds\n",
    "rate = km / 3740 * 3600 #divides her converted km distance by total seconds,  multiplies by seconds in an hour to get km/hr\n",
    "print(f'Her average speed is {rate:.1f} km/hr.')"
   ]
  },
  {
   "cell_type": "code",
   "execution_count": 45,
   "metadata": {},
   "outputs": [
    {
     "name": "stdout",
     "output_type": "stream",
     "text": [
      "The population 1 year from now is 7842840000\n",
      "The population 2 years from now is 7921680000\n",
      "The population 3 years from now is 8000520000\n"
     ]
    }
   ],
   "source": [
    "#3.5\n",
    "population = 7764000000\n",
    "\n",
    "secs_year = 525600 * 60 #total number of seconds in a year\n",
    "\n",
    "birth = 4.3 * secs_year #total number of births per year\n",
    "\n",
    "death = 1.8 * secs_year #total number of deaths per year\n",
    "\n",
    "print('The population 1 year from now is', \"{:.0f}\".format( population + birth - death ))\n",
    "print('The population 2 years from now is', \"{:.0f}\".format( population + (2 * birth) - (2 * death) ))\n",
    "print('The population 3 years from now is', \"{:.0f}\".format( population + (3 * birth) - (3 * death) ))"
   ]
  },
  {
   "cell_type": "code",
   "execution_count": 297,
   "metadata": {},
   "outputs": [
    {
     "name": "stdout",
     "output_type": "stream",
     "text": [
      "Please enter a certain number of miles: 24\n",
      "24 = 38.62 kilometers\n"
     ]
    }
   ],
   "source": [
    "#3.6\n",
    "miles = int(input('Please enter a certain number of miles: '))\n",
    "\n",
    "km = miles * 1.60934\n",
    "\n",
    "print(f'{miles} = {km:.2f} kilometers')"
   ]
  },
  {
   "cell_type": "code",
   "execution_count": 298,
   "metadata": {},
   "outputs": [
    {
     "name": "stdout",
     "output_type": "stream",
     "text": [
      "Please enter how many kilometers you plan to travel: 500\n",
      "How many miles does your car get per gallon? 24\n",
      "How much does one gallon of fuel cost? 3.65\n",
      "Your trip will cost 47.25 dollars.\n"
     ]
    }
   ],
   "source": [
    "#3.7\n",
    "km = int(input('Please enter how many kilometers you plan to travel: '))\n",
    "\n",
    "miles = km / 1.60934 #convert to miles to match units with mpg below\n",
    "\n",
    "mpg = int(input('How many miles does your car get per gallon? '))\n",
    "\n",
    "fuel = float(input('How much does one gallon of fuel cost? ')) #float to allow decimals\n",
    "\n",
    "cost = miles * fuel / mpg #multiply miles traveled by fuel costs and divide by mpg\n",
    "\n",
    "print(f'Your trip will cost {cost:.2f} dollars.')"
   ]
  },
  {
   "cell_type": "code",
   "execution_count": 87,
   "metadata": {},
   "outputs": [
    {
     "name": "stdout",
     "output_type": "stream",
     "text": [
      "he\n",
      "ello, world\n",
      "7\n"
     ]
    }
   ],
   "source": [
    "#3.8\n",
    "target_string = 'hello, world'\n",
    "\n",
    "print(target_string.strip('llo, world'))\n",
    "\n",
    "print(target_string.replace('h','')) #makes it sound British\n",
    "\n",
    "double_u = 'w' #create variable so Python knows what to look for\n",
    "print(target_string.find(double_u))"
   ]
  },
  {
   "cell_type": "code",
   "execution_count": 299,
   "metadata": {},
   "outputs": [
    {
     "name": "stdout",
     "output_type": "stream",
     "text": [
      "There are 4 o's in the word onomatopoeia.\n"
     ]
    }
   ],
   "source": [
    "#3.9\n",
    "word = 'onomatopoeia'\n",
    "\n",
    "letter = 'o'\n",
    "\n",
    "print('There are',word.count(letter),'o\\'s in the word onomatopoeia.')"
   ]
  },
  {
   "cell_type": "code",
   "execution_count": 73,
   "metadata": {},
   "outputs": [
    {
     "name": "stdout",
     "output_type": "stream",
     "text": [
      "Please enter a phrase: My name is Libby.\n",
      "MY NAME IS LIBBY.\n",
      "my name is libby.\n",
      "my nAmE Is lIbby.\n"
     ]
    }
   ],
   "source": [
    "#3.10a\n",
    "string = input('Please enter a phrase: ')\n",
    "\n",
    "cap_string = '' #make an empty placeholder variable, like Casey did in first class\n",
    "\n",
    "print(string.upper())\n",
    "print(string.lower())\n",
    "\n",
    "vowel = 'aeiou' #tell python what vowels are\n",
    "\n",
    "for letter in string: #python will look at each letter of input individually\n",
    "    if letter in vowel: #if it matches any letter in vowel, python adds to 2nd variable and capitalizes\n",
    "        cap_string = cap_string + letter.upper()\n",
    "    else:\n",
    "        cap_string = cap_string + letter.lower() #if it doesn't match any letter in vowel, it becomes lower case\n",
    "print(cap_string) #prints the newly created second variable"
   ]
  },
  {
   "cell_type": "code",
   "execution_count": 82,
   "metadata": {},
   "outputs": [
    {
     "name": "stdout",
     "output_type": "stream",
     "text": [
      "Please enter a phrase: hello, world\n",
      "The phrase isn't all letters.\n",
      "The phrase isn't numeric.\n",
      "The phrase isn't all upper case.\n",
      "The phrase is all lower case.\n"
     ]
    }
   ],
   "source": [
    "#3.10b\n",
    "string = input('Please enter a phrase: ')\n",
    "\n",
    "string.isalpha()\n",
    "if string.isalpha() == False:\n",
    "    print('The phrase isn\\'t all letters.')\n",
    "else:\n",
    "    print('The phrase is all letters.')\n",
    "\n",
    "string.isnumeric()\n",
    "if string.isnumeric() == False:\n",
    "    print('The phrase isn\\'t numeric.')\n",
    "else:\n",
    "    print('The phrase is numeric.')\n",
    "    \n",
    "string.isupper()\n",
    "if string.isupper() == False:\n",
    "    print('The phrase isn\\'t all upper case.')\n",
    "else:\n",
    "    print('The phrase is all upper case.')\n",
    "    \n",
    "string.islower()\n",
    "if string.islower() == False:\n",
    "    print('The phrase isn\\'t all lower case.')\n",
    "else:\n",
    "    print('The phrase is all lower case.')\n"
   ]
  },
  {
   "cell_type": "markdown",
   "metadata": {},
   "source": [
    "3.11a\n",
    "A single = sign assigns a value to a variable, with the variable on the left side and the value on the right. A == sign means 'is equal to' as in '4 == 4.0'. This will return a True or False statement."
   ]
  },
  {
   "cell_type": "code",
   "execution_count": 304,
   "metadata": {},
   "outputs": [
    {
     "data": {
      "text/plain": [
       "'Another option is to surround the comment with 3 quotation marks on either side, but this will show up when the code is printed.'"
      ]
     },
     "execution_count": 304,
     "metadata": {},
     "output_type": "execute_result"
    }
   ],
   "source": [
    "#3.11b \n",
    "#One way is to start with a pound sign.\n",
    "\"\"\"Another option is to surround the comment with 3 quotation marks on either side, but this will show up when the code is printed.\"\"\" "
   ]
  },
  {
   "cell_type": "code",
   "execution_count": 89,
   "metadata": {},
   "outputs": [
    {
     "name": "stdout",
     "output_type": "stream",
     "text": [
      "Everyone gets an A in this class.\n"
     ]
    }
   ],
   "source": [
    "#3.11c\n",
    "print('Everyone gets an A in this class.')"
   ]
  },
  {
   "cell_type": "markdown",
   "metadata": {},
   "source": [
    "3.11d The first data type is an integer, which is any round number with no decimals, such as 5 or 10000. The second data type is a float, which is a number with a decimal, or an exponent that uses decimal notation, such as 2.46 or 3.2e5. The third data type is a string, which is a series of text characters that can include letters, numbers, punctuation, and symbols. The fourth data type is a boolean, which is either True or False."
   ]
  },
  {
   "cell_type": "code",
   "execution_count": 92,
   "metadata": {},
   "outputs": [
    {
     "name": "stdout",
     "output_type": "stream",
     "text": [
      "Hello, my name is Libby Lange. I am in Yale's Jackson Institute for Global Affairs MA program and I hope to graduate in 2022.\n"
     ]
    }
   ],
   "source": [
    "#3.11e\n",
    "name = 'Libby Lange'\n",
    "\n",
    "program = 'Jackson Institute for Global Affairs MA program'\n",
    "\n",
    "year = '2022'\n",
    "\n",
    "#add f before string to embed defined variables\n",
    "print(f'Hello, my name is {name}. I am in Yale\\'s {program} and I hope to graduate in {year}.')"
   ]
  },
  {
   "cell_type": "markdown",
   "metadata": {},
   "source": [
    "3.11f \n",
    "minus: -, 100 - 6\n",
    "\n",
    "multiply: *, 5 * 4\n",
    "\n",
    "divide: /, 6 / 2\n",
    "\n",
    "find the remainder of two numbers divided: %, 12 % 5\n",
    "\n",
    "square: **, 7 **\n",
    "\n",
    "cube: ** 3, 4 ** 3\n",
    "\n",
    "greater than: >, x > 10\n",
    "\n",
    "greater than or equal to: >=, a >= 44\n",
    "\n",
    "less than: <, score < 60\n",
    "\n",
    "less than or equal to: <=, number <= 33"
   ]
  },
  {
   "cell_type": "code",
   "execution_count": 307,
   "metadata": {},
   "outputs": [
    {
     "name": "stdout",
     "output_type": "stream",
     "text": [
      "<class 'str'>\n",
      "<class 'int'>\n",
      "<class 'float'>\n",
      "<class 'bool'>\n"
     ]
    }
   ],
   "source": [
    "#3.11g\n",
    "#The built-in function to determine type is type() with a variable or input in parentheses.\n",
    "#Examples:\n",
    "\n",
    "print(type('toast')) #string\n",
    "\n",
    "print(type(15)) #int\n",
    "\n",
    "print(type(14.99)) #float\n",
    "\n",
    "print(type(True)) #boolean"
   ]
  },
  {
   "cell_type": "code",
   "execution_count": 308,
   "metadata": {},
   "outputs": [
    {
     "name": "stdout",
     "output_type": "stream",
     "text": [
      "   |   |\n",
      "-----------\n",
      "   |   |\n",
      "-----------\n",
      "   |.  |\n"
     ]
    }
   ],
   "source": [
    "#3.11h\n",
    "print('   |   |')\n",
    "print('-----------')\n",
    "print('   |   |')\n",
    "print('-----------')\n",
    "print('   |.  |')"
   ]
  },
  {
   "cell_type": "code",
   "execution_count": 317,
   "metadata": {},
   "outputs": [
    {
     "name": "stdout",
     "output_type": "stream",
     "text": [
      "Enter the price of a meal: 12\n",
      "A 16% tip would be: 1.92\n",
      "The total including tip would be: 13.92\n"
     ]
    }
   ],
   "source": [
    "#3.12\n",
    "price = float(input(\"Enter the price of a meal: \")) #define input as float so user can input whole number or decimal\n",
    "\n",
    "tip = price * 0.16 \n",
    "\n",
    "total = price + tip #separate variables onto individual lines\n",
    "\n",
    "print(\"A 16% tip would be:\", \"{:.2f}\".format( tip )) #format output so that it gives 2 decimal places\n",
    "\n",
    "print(\"The total including tip would be:\", \"{:.2f}\".format( total )) #separate print commands onto individual lines\n",
    "\n",
    "#used magic key %w%ritefile to save .py file, not sure if there is a better way?\n"
   ]
  },
  {
   "cell_type": "code",
   "execution_count": 318,
   "metadata": {},
   "outputs": [
    {
     "name": "stdout",
     "output_type": "stream",
     "text": [
      "Enter a number of gallons of gasoline: 40\n",
      "The equivalent in liters would be 151.4160 liters.\n",
      "2.051 barrels of oil would be required to produce this much gas.\n",
      "This much gas would cost 40.00 dollars.\n"
     ]
    }
   ],
   "source": [
    "#3.13\n",
    "gas = float(input(\"Enter a number of gallons of gasoline: \")) #in case they don't enter a round number\n",
    "\n",
    "liter = gas * 3.7854 #convert gallons to liters\n",
    "\n",
    "barrel = gas / 19.500 #calculates barrels needed\n",
    "\n",
    "price = gas * 3.65\n",
    "\n",
    "print(f\"The equivalent in liters would be {liter:.4f} liters.\") #formats decimal to 4 places and embeds in output\n",
    "print(f'{barrel:.3f} barrels of oil would be required to produce this much gas.') #formats to 3 places\n",
    "print(f'This much gas would cost {gas:.2f} dollars.') #formats to 2 places"
   ]
  },
  {
   "cell_type": "code",
   "execution_count": 128,
   "metadata": {},
   "outputs": [
    {
     "name": "stdout",
     "output_type": "stream",
     "text": [
      "Please enter your income: 10000\n",
      "The tax owed is 1350.00.\n"
     ]
    }
   ],
   "source": [
    "#3.14\n",
    "income = int(input('Please enter your income: '))\n",
    "\n",
    "if income <= 1000:\n",
    "    tax = income * .05\n",
    "    print(f'The tax owed is: {tax:.2f}.')\n",
    "    \n",
    "elif income > 1000 and income < 2000:\n",
    "    tax = ((income - 1000) * .1) + 50 #subtracts first 1000, multiplies remaining income by 10%, adds 50 for 5% tax on first 1000\n",
    "    print(f'The tax owed is: {tax:.2f}.')\n",
    "    \n",
    "else:\n",
    "    income > 2000\n",
    "    tax = ((income - 2000) * .15) + 50 + 100 #subtracts first 2000, taxes remaining 15%, adds 5% and 10% taxes    \n",
    "    print(f'The tax owed is: {tax:.2f}.')"
   ]
  },
  {
   "cell_type": "code",
   "execution_count": 136,
   "metadata": {},
   "outputs": [
    {
     "name": "stdout",
     "output_type": "stream",
     "text": [
      "Please input a string here: Hello world\n",
      "dello worlH\n"
     ]
    }
   ],
   "source": [
    "#3.15\n",
    "\n",
    "string = list(input('Please input a string here: ')) #seperates input into list\n",
    "\n",
    "string[0], string[-1] = string[-1], string[0] #flips first and last value in list\n",
    "\n",
    "string_flip = ''.join(string) #makes input into string output\n",
    "\n",
    "print(string_flip)\n"
   ]
  },
  {
   "cell_type": "code",
   "execution_count": 321,
   "metadata": {},
   "outputs": [
    {
     "name": "stdout",
     "output_type": "stream",
     "text": [
      "Please enter your name: fred\n",
      "Derf\n"
     ]
    }
   ],
   "source": [
    "#3.16\n",
    "\n",
    "name = input('Please enter your name: ')\n",
    "name_flip = '' #create empty variable\n",
    "countdown = len(name) - 1 #python index starts at 0 so you subtract 1\n",
    "\n",
    "while countdown >= 0: #0 is index location of first letter\n",
    "    name_flip = name_flip + name[countdown] #value of countdown equal to index location of final letter, adds to empty variable in reverse order\n",
    "    countdown -= 1 #reduce countdown by one every time, aka moving backward a letter\n",
    "    if name_flip.lower() == name.lower(): #use lowercase to compare more easily\n",
    "        print(name_flip.title()) #prints result once they're the same if a palindrome\n",
    "        print('Palindrome!')\n",
    "    elif countdown == -1: #otherwise prints result once countdown is over\n",
    "        print(name_flip.title())\n",
    "\n",
    "    \n"
   ]
  },
  {
   "cell_type": "code",
   "execution_count": null,
   "metadata": {},
   "outputs": [],
   "source": []
  }
 ],
 "metadata": {
  "kernelspec": {
   "display_name": "Python 3",
   "language": "python",
   "name": "python3"
  },
  "language_info": {
   "codemirror_mode": {
    "name": "ipython",
    "version": 3
   },
   "file_extension": ".py",
   "mimetype": "text/x-python",
   "name": "python",
   "nbconvert_exporter": "python",
   "pygments_lexer": "ipython3",
   "version": "3.8.5"
  }
 },
 "nbformat": 4,
 "nbformat_minor": 4
}
