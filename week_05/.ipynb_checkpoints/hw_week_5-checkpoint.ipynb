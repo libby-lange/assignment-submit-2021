{
 "cells": [
  {
   "cell_type": "markdown",
   "metadata": {},
   "source": [
    "## Homework Week 5"
   ]
  },
  {
   "cell_type": "markdown",
   "metadata": {},
   "source": [
    "### Conditionals and Loops(10pts)\n",
    "\n",
    "<b> +1 Bonus if you can do the for-loops in one line (using list comprehension) </b> "
   ]
  },
  {
   "cell_type": "markdown",
   "metadata": {},
   "source": [
    "Use a \"for-loop\", print out all the odd numbers from 1-100."
   ]
  },
  {
   "cell_type": "code",
   "execution_count": null,
   "metadata": {},
   "outputs": [],
   "source": [
    "#Your code here:\n",
    "\n",
    "odds = [number for number in range(1, 100) if number % 2 == 1]\n",
    "\n",
    "print(odds)"
   ]
  },
  {
   "cell_type": "markdown",
   "metadata": {},
   "source": [
    "Print every prime number between 1 and 100. (You can use two for-loops, one to iterate from 1-100, another to check for any denominators)"
   ]
  },
  {
   "cell_type": "code",
   "execution_count": null,
   "metadata": {},
   "outputs": [],
   "source": [
    "# Your code here:\n",
    "\n",
    "for number in range(1, 100):     #iterates over each number between 1 and 100\n",
    "    if number > 1:     #skip 1 because 1 isn't a prime number\n",
    "        for each in range(2, number):     #iterates over every value from 2 to the iterated number above\n",
    "            if (number % each) == 0:     #if it's divisible by any\n",
    "                break     #end this loop and restart the previous one\n",
    "        else:      #if not divisible by any print it out\n",
    "            print(number)\n",
    "\n",
    "    "
   ]
  },
  {
   "cell_type": "markdown",
   "metadata": {},
   "source": [
    "Take two numbers from the user, an upper bound and a lower bound. Using a loop, calculate the sum of numbers from the lower bound to the upper bound. Also, calculate the average of numbers. Print the result."
   ]
  },
  {
   "cell_type": "code",
   "execution_count": null,
   "metadata": {},
   "outputs": [],
   "source": [
    "# Your code here: \n",
    "\n",
    "lower = int(input('Please enter a lower bound: '))\n",
    "upper = int(input('Please enter an upper bound: '))\n",
    "\n",
    "sum_range = 0     #starts with an int so you can add to it\n",
    "\n",
    "for number in range(lower, upper + 1):     #add 1 to calculate full sum (gauss)\n",
    "    sum_range = sum_range + number     #add each number to existing int\n",
    "    \n",
    "avg = sum_range / len(range(lower, upper + 1))     #divides calculated sum by number of values in range\n",
    "    \n",
    "print(f'The sum of numbers from the lower to upper bound is {sum_range}.')\n",
    "print(f'The average is {avg}.')\n"
   ]
  },
  {
   "cell_type": "markdown",
   "metadata": {},
   "source": [
    "Use a \"while\" loop to print out every fourth number counting backwards from 100 to 1, use the \"break\" statement to exit the loop."
   ]
  },
  {
   "cell_type": "code",
   "execution_count": null,
   "metadata": {},
   "outputs": [],
   "source": [
    "# Your code here:\n",
    "\n",
    "countdown = 100\n",
    "\n",
    "while True: \n",
    "    print(countdown)\n",
    "    countdown -= 4     #subtract 4 each time after printing\n",
    "    if countdown == 0:     #once it reaches 0 end the loop\n",
    "        break\n",
    "    else:\n",
    "        continue     #otherwise keep going"
   ]
  },
  {
   "cell_type": "markdown",
   "metadata": {},
   "source": [
    "Write a script that prints out all the squares of numbers from a user inputed lower to a user inputed upper bound.\n",
    "\n",
    "Use a for loop that demonstrates the use of the range function."
   ]
  },
  {
   "cell_type": "code",
   "execution_count": null,
   "metadata": {},
   "outputs": [],
   "source": [
    "# Your code here:\n",
    "\n",
    "lower = int(input('Please input a lower bound: '))\n",
    "upper = int(input('Please input an upper bound: '))\n",
    "squares = []\n",
    "\n",
    "for number in range(lower, upper + 1):     #iterate over all ints in range\n",
    "    squares.append(number ** 2)     #add each number squared to empty list\n",
    "    \n",
    "print(f'The square of each number in your range is {squares}.')\n"
   ]
  },
  {
   "cell_type": "markdown",
   "metadata": {},
   "source": [
    "### Print the Pattern (10 pts)\n",
    "\n",
    "Print the following pattern using for-loops\n",
    "\n",
    "1 <br>\n",
    "1 2 <br>\n",
    "1 2 3 <br>\n",
    "1 2 3 4 <br>\n",
    "1 2 3 4 5 <br>\n"
   ]
  },
  {
   "cell_type": "code",
   "execution_count": null,
   "metadata": {},
   "outputs": [],
   "source": [
    "# Your code here: \n",
    "\n",
    "\n",
    "for row in range(1, 6):     #sets height of triangle\n",
    "    for column in range(1, row + 1):     #resizes range to grow width by one each time\n",
    "        print(column, end=' ')     #prints numbers, adding one each time\n",
    "    print('')     #switches lines\n",
    "\n"
   ]
  },
  {
   "cell_type": "markdown",
   "metadata": {},
   "source": [
    "### For Loops (10 pts)¶\n",
    "\n",
    "Write a script that prompts the user for two words (two, one-word strings). Print all the unique letters that are common to both words, in alphabetical order, using for loops in your solution.\n",
    "\n",
    "For example:\n",
    "\n",
    "Enter one word: Home\n",
    "Enter another word: meter\n",
    "\n",
    "Letters in common: em"
   ]
  },
  {
   "cell_type": "code",
   "execution_count": null,
   "metadata": {},
   "outputs": [],
   "source": [
    "# Your code here: \n",
    "word1 = input('Enter one word: ')\n",
    "word2 = input('Enter another word: ')\n",
    "letter1 = [letter for letter in word1]     #splits first word into list of letters\n",
    "letter2 = [letter for letter in word2]     #splits second word the same way\n",
    "intersect = set()\n",
    "\n",
    "for letter in letter1:     #for each letter in the list\n",
    "    if letter in letter2:     #if it's in the other list\n",
    "        intersect.add(letter)     #add to empty set, won't add duplicates because it's a set\n",
    "    else:\n",
    "        pass     #otherwise don't do anything\n",
    "\n",
    "intersect = list(intersect)     #turn it into a list\n",
    "\n",
    "intersect2 = ''.join(map(str, sorted(intersect)))     #turn the list into a string sorted alphabetically\n",
    "        \n",
    "print(f'Letters in common: {intersect2}')"
   ]
  },
  {
   "cell_type": "markdown",
   "metadata": {},
   "source": [
    "### Make Tuples Not War (15 pts)\n",
    "\n",
    "Write a script that takes in a list of numbers (input) and:\n",
    "    - sorts the numbers\n",
    "    - stores the numers in tuples of two in a list\n",
    "    - prints each tuple\n",
    "    \n",
    "notes:\n",
    "If the user enters an off numbered list, add the last item to a tuple with the number 0. \n",
    "\n"
   ]
  },
  {
   "cell_type": "code",
   "execution_count": null,
   "metadata": {},
   "outputs": [],
   "source": [
    "#Your code here:\n",
    "\n",
    "num_input = input('Please enter a list of numbers: ').split()\n",
    "num_list = [int(num) for num in num_input]     #convert input into integers so they sort correctly\n",
    "num_list_sort = sorted(num_list)     #sorts from low to high\n",
    "if len(num_list_sort) % 2 == 1:     #if number of inputs is odd\n",
    "    num_list_sort.append(0)     #adds 0 to the end\n",
    "\n",
    "\n",
    "\n",
    "tup_list = list(zip(num_list_sort[::2], num_list_sort[1::2])) \n",
    "\n",
    "#pairs them by starting one at index 0 and one at 1\n",
    "#then skips one each time\n",
    "#so they don't print the same index value\n",
    "\n",
    "print(tup_list)"
   ]
  },
  {
   "cell_type": "markdown",
   "metadata": {},
   "source": [
    "Make a string from the following tuple: \n",
    "   tuple_1=(F','o','o','b','a','W','o','o','b','a','J','o','h','n')"
   ]
  },
  {
   "cell_type": "code",
   "execution_count": null,
   "metadata": {
    "scrolled": true
   },
   "outputs": [],
   "source": [
    "# Your code here: \n",
    "\n",
    "tuple_1=('F','o','o','b','a','W','o','o','b','a','J','o','h','n')\n",
    "\n",
    "stringy = ''.join(tuple_1)     #make tuple into string\n",
    "new_stringy = stringy.replace('a', 'a ')     #add space after a's to separate words\n",
    "\n",
    "print(new_stringy)"
   ]
  },
  {
   "cell_type": "markdown",
   "metadata": {},
   "source": [
    "\n",
    "Using only for loops, print the content of each tuple (list comprehension)."
   ]
  },
  {
   "cell_type": "code",
   "execution_count": null,
   "metadata": {},
   "outputs": [],
   "source": [
    "# Your code here: \n",
    "\n",
    "treaties = [('Kyoto Protocol', 1997), ('Montreal Protocol', 1987), ('Basel Convention', 1992), ('Tokyo Convention', 1969)]\n",
    "\n",
    "for treaty, year in treaties:\n",
    "    print(treaty, year)\n",
    "            "
   ]
  },
  {
   "cell_type": "markdown",
   "metadata": {},
   "source": [
    "Use enumerate() to enumerate through a list using for-loops: fruits = [ \"Apple\",\"Berry\",\"Cherry\" ]. \n",
    "\n",
    "Here, enumerate turns each item into (index, item) tuple pairs.\n",
    "\n",
    "**Hint: https://www.geeksforgeeks.org/enumerate-in-python/**\n",
    "\n",
    "For each item in the list, print: \n",
    "1. index  \n",
    "2. Item"
   ]
  },
  {
   "cell_type": "code",
   "execution_count": null,
   "metadata": {},
   "outputs": [],
   "source": [
    "# Your code here: \n",
    "\n",
    "fruits = [\"Apple\", \"Berry\", \"Cherry\"]\n",
    "\n",
    "for ind, fruit in enumerate(fruits):\n",
    "    print(ind, fruit)\n",
    "    "
   ]
  },
  {
   "cell_type": "markdown",
   "metadata": {},
   "source": [
    "### Lists (10 pts)"
   ]
  },
  {
   "cell_type": "markdown",
   "metadata": {},
   "source": [
    "Given the following list, use a for loop to return a list without Monopoly\n",
    "\n",
    "board_games =['Life','Monopoly', 'Sorry', 'Monopoly', 'Risk', 'Stratego', 'Monopoly']"
   ]
  },
  {
   "cell_type": "code",
   "execution_count": null,
   "metadata": {},
   "outputs": [],
   "source": [
    "#Your code here: \n",
    "\n",
    "board_games =['Life','Monopoly', 'Sorry', 'Monopoly', 'Risk', 'Stratego', 'Monopoly']\n",
    "\n",
    "for game in board_games:     #looks at each value\n",
    "    if game.startswith('M'):\n",
    "        board_games.remove(game)     #gets rid of it\n",
    "    else:\n",
    "        pass     #otherwise does nothing\n",
    "        \n",
    "print(board_games)"
   ]
  },
  {
   "cell_type": "markdown",
   "metadata": {},
   "source": [
    "Write a loop within a loop to print the following:\n",
    "\n",
    "Enchanting process,\n",
    "\n",
    "Inviting warm scenery,\n",
    "\n",
    "Beautiful wisdom.\n",
    "\n",
    "\n",
    "list_of_lists = [['E', 'n', 'c', 'h', 'a', 'n', 't', 'i', 'n', 'g', ' '], ['p', 'r', 'o', 'c', 'e', 's', 's', ',', '\\n'], \n",
    "                 ['I', 'n', 'v', 'i', 't', 'i', 'n', 'g', ' '], ['w', 'a', 'r', 'm', ' '], ['s', 'c', 'e', 'n', 'e', 'r', 'y', ',', '\\n'],\n",
    "                 ['B', 'e', 'a', 'u', 't', 'i', 'f', 'u', 'l', ' '], ['w', 'i', 's', 'd', 'o', 'm', '.']\n",
    "                ]\n"
   ]
  },
  {
   "cell_type": "code",
   "execution_count": null,
   "metadata": {},
   "outputs": [],
   "source": [
    "# Your code here: \n",
    "\n",
    "list_of_lists = [['E', 'n', 'c', 'h', 'a', 'n', 't', 'i', 'n', 'g', ' '], ['p', 'r', 'o', 'c', 'e', 's', 's', ',', '\\n'], ['I', 'n', 'v', 'i', 't', 'i', 'n', 'g', ' '], ['w', 'a', 'r', 'm', ' '], ['s', 'c', 'e', 'n', 'e', 'r', 'y', ',', '\\n'], ['B', 'e', 'a', 'u', 't', 'i', 'f', 'u', 'l', ' '], ['w', 'i', 's', 'd', 'o', 'm', '.']]\n",
    "poem = ''\n",
    "\n",
    "for sublist in list_of_lists:     #for each list within the list\n",
    "    for value in sublist:     #iterate over each value\n",
    "        poem = poem + value     #add that value to the empty string \n",
    "    \n",
    "print(poem)"
   ]
  },
  {
   "cell_type": "markdown",
   "metadata": {},
   "source": [
    "Given a word, provided below, make a list of all strings that can be formed by deleting exactly one character from the word.\n",
    "\n",
    "Example:\n",
    "\n",
    "Input: \"Welcomed\"\n",
    "\n",
    "Output: ['elcomed', 'Wlcomed', 'Wecomed', 'Welomed', 'Welcmed', 'Welcoed', 'Welcomd', 'Welcome']"
   ]
  },
  {
   "cell_type": "code",
   "execution_count": null,
   "metadata": {},
   "outputs": [],
   "source": [
    "# Your code here:\n",
    "\n",
    "word = (input('Input a word: '))\n",
    "deleted = []\n",
    "remove = []\n",
    "countup = 0     #start index at 0\n",
    "\n",
    "while countup < len(word):     #run the loop until index has reached end of word\n",
    "    remove = word[:countup] + word[countup + 1:]      #adds new entry to empty list, slicing a different letter each time\n",
    "    deleted.append(remove)      #adds the new entry to empty list\n",
    "    countup += 1    #move to next index value\n",
    "    \n",
    "\n",
    "    \n",
    "print(deleted)\n"
   ]
  },
  {
   "cell_type": "markdown",
   "metadata": {},
   "source": [
    "### Dictionary Drills (10 pts)"
   ]
  },
  {
   "cell_type": "markdown",
   "metadata": {},
   "source": [
    "Write a script that takes a sentence from the user and returns:\n",
    "    - the number of lower case letters\n",
    "    - the number of uppercase letters\n",
    "    - the number of punctuation characters\n",
    "    - the total number of characters\n",
    "\n",
    "Use a dictionay to store the count of each of the above.\n",
    "Note: ignore all spaces\n",
    "\n",
    "Example input:\n",
    "    I love to work with dictionaries! \n",
    "Example output:\n",
    "       Uppercase: 1\n",
    "       Lowercase: 26\n",
    "       Punctuation: 1 "
   ]
  },
  {
   "cell_type": "code",
   "execution_count": 2,
   "metadata": {},
   "outputs": [
    {
     "name": "stdout",
     "output_type": "stream",
     "text": [
      "Please input a sentence:I love to work with dictionaries!\n",
      "Uppercase: 1\n",
      "Lowercase: 26\n",
      "Punctuation: 1\n",
      "Total: 28\n"
     ]
    }
   ],
   "source": [
    "#Your code here:\n",
    "\n",
    "sentence = input('Please input a sentence:' )\n",
    "lowercase = []     #empty variable for lc letters\n",
    "uppercase = []     #empty variable for uc letters\n",
    "punctuation = []     #empty variable for punctuation\n",
    "\n",
    "for letter in sentence:\n",
    "    if letter.islower() == True: \n",
    "        lowercase.append(letter)     #add to lowercase list\n",
    "    elif letter.isupper() == True:\n",
    "        uppercase.append(letter)     #add to uppercase list\n",
    "    elif letter.isspace() == True:     #if it is a space\n",
    "        pass     #don't do anything\n",
    "    else:\n",
    "        punctuation.append(letter)     #otherwise (if it's punctuation) add to punctuation list\n",
    "        \n",
    "total = int(len(uppercase) + len(lowercase) + len(punctuation)) #add together and ignore spaces\n",
    "\n",
    "#making a dictionary connecting strings to length of lists aka number of values\n",
    "count = { \n",
    "    'Uppercase':len(uppercase), \n",
    "    'Lowercase':len(lowercase),\n",
    "    'Punctuation':len(punctuation),\n",
    "    'Total':total\n",
    "}\n",
    "\n",
    "for key, value in count.items():     #matches each key to its value to print without ugly brackets\n",
    "    print(f'{key}: {value}')"
   ]
  },
  {
   "cell_type": "markdown",
   "metadata": {},
   "source": [
    "Take in a number from the user and print \"January\", \"Feburary\", \"March\", \"April\", ..., \"December\" or \"other\" if the number from the user is 1, 2, 3, 4, ..., 12 or other respectively. \n",
    "\n"
   ]
  },
  {
   "cell_type": "code",
   "execution_count": null,
   "metadata": {},
   "outputs": [],
   "source": [
    "#Your code here:\n",
    "\n",
    "month_num = int(input('Please input a number: '))     #convert their input into a number\n",
    "\n",
    "months = {\n",
    "    1:'January',\n",
    "    2:'February',\n",
    "    3:'March',\n",
    "    4:'April',\n",
    "    5:'May',\n",
    "    6:'June',\n",
    "    7:'July',\n",
    "    8:'August',\n",
    "    9:'September',\n",
    "    10:'October',\n",
    "    11:'November',\n",
    "    12:'December'\n",
    "}\n",
    "\n",
    "if month_num in months:     #if the number they input is in the dict\n",
    "    print(months[month_num])     #print corresponding value\n",
    "else:\n",
    "    print('Other')"
   ]
  },
  {
   "cell_type": "markdown",
   "metadata": {},
   "source": [
    "Creat a new dictionary using the three dictionaries below. Then print out each key-value pair.\n",
    "\n",
    "dict_1 = {1:1, 2:4}\n",
    "dict_2 = {3:9, 4:16}\n",
    "dict_3 = {5:25, 6:36, 7:49}\n",
    "\n"
   ]
  },
  {
   "cell_type": "code",
   "execution_count": null,
   "metadata": {},
   "outputs": [],
   "source": [
    "# Your code here: \n",
    "\n",
    "dict_1 = {1:1, 2:4} \n",
    "dict_2 = {3:9, 4:16} \n",
    "dict_3 = {5:25, 6:36, 7:49}\n",
    "\n",
    "dict_1.update(dict_2)\n",
    "dict_1.update(dict_3)\n",
    "\n",
    "for key, value in dict_1.items():\n",
    "    print(key, value)     #prints each pair in the final dict"
   ]
  },
  {
   "cell_type": "markdown",
   "metadata": {},
   "source": [
    "###  Create a to-do list program using a dictionary of lists (20 points)\n",
    "\n",
    "Write code that stores a to-do list for each day of the week (Sunday through Saturday). Your program needs to have the following elements:\n",
    "\n",
    "-An empty dictionary to store information\n",
    "-A key in the dictionary for each day of the week\n",
    "\n",
    "-Each key has a value of a list that stores the to-do list items\n",
    "\n",
    "User can type \"add\" and the program will ask what day, then ask what item to add to that day. Ensure the user can add multiple items per day. (That is, ensure that this adds a new item, not replaces an existing item.)\n",
    "\n",
    "-User can type \"get\" and the program will ask for the day and print the values\n",
    "\n",
    "-The program will loop, using a while loop, until the user specifies \"quit\"\n",
    "\n",
    "Some user error checking is required, specifically: upper/lowercase for the days of the week, incorrect day of the week, or an incorrect command\n",
    "\n",
    "Hint: This task requires you to use tools you learned \"if\" and \"loops\" along with dictionaries and lists.\n",
    "\n",
    "Example:\n",
    "\n",
    "Prompt: What would you like to do?\n",
    "> add\n",
    "\n",
    "Prompt: What day?\n",
    "> Friday\n",
    "\n",
    "Prompt: What would you like to add to Friday's to-do list?\n",
    "> practice clarinet\n",
    "\n",
    "Prompt: What would you like to do?\n",
    "> get\n",
    "\n",
    "Prompt: What day?\n",
    "> funday\n",
    "Invalid entry - please enter a correct day of the week (like Monday or monday).\n",
    "\n",
    "Prompt: What day?\n",
    "> friday\n",
    "\n",
    "Response: You have to practice clarinet.\n",
    "\n",
    "Prompt: What would you like to do?\n",
    "> quit\n",
    "\n",
    "Response: Ending program. Thank you for using the to-do list!\n"
   ]
  },
  {
   "cell_type": "code",
   "execution_count": null,
   "metadata": {},
   "outputs": [],
   "source": [
    "# Your code here:\n",
    "\n",
    "todo_dict = {     #make dict with empty lists\n",
    "    'Monday':[],\n",
    "    'Tuesday':[],\n",
    "    'Wednesday':[],\n",
    "    'Thursday':[],\n",
    "    'Friday':[],\n",
    "    'Saturday':[],\n",
    "    'Sunday':[]\n",
    "}\n",
    "\n",
    "while True: #start loop\n",
    "    todo = input(\"What would you like to do? \")\n",
    "\n",
    "    if todo.lower() == 'add':\n",
    "        day = input('What day? ').title()     #ask what day they want to add to\n",
    "        if day in todo_dict.keys():      #if the day they type is one of the keys\n",
    "            stuff = input(f'What would you like to add to {day}\\'s to-do list? ')     #ask what they want to add\n",
    "            todo_dict[day].append(stuff)     #then add that to the list that goes with the key they entered\n",
    "        else:\n",
    "            print('Invalid entry - please enter a correct day of the week (like Monday or monday).')\n",
    "\n",
    "    elif todo.lower() == 'get':\n",
    "        day = input('What day? ').title()     #ask which day again\n",
    "        if day in todo_dict.keys():     #if it's a key in the list\n",
    "            print(f'You have to {todo_dict[day]}.')     #print the value that goes with the key\n",
    "        else:\n",
    "            print('Invalid entry - please enter a correct day of the week (like Monday or monday).')\n",
    "                \n",
    "    elif todo.lower() == 'quit':\n",
    "        print('Ending program. Thank you for using the to-do list!')\n",
    "        break     #end the loop\n",
    "    \n",
    "    else:\n",
    "        print('Please enter a valid command.')     #if they type something random make them enter it again\n",
    "        \n",
    "\n"
   ]
  },
  {
   "cell_type": "markdown",
   "metadata": {},
   "source": [
    "### Chinese Zodiac (20 points)¶\n",
    "\n",
    "Write a Python program to display the sign of the Chinese Zodiac for given year in which you were born."
   ]
  },
  {
   "cell_type": "code",
   "execution_count": null,
   "metadata": {},
   "outputs": [],
   "source": [
    "# Your code here: \n",
    "\n",
    "zodiac = {\n",
    "    1990:'Horse', \n",
    "    1991:'Sheep', \n",
    "    1992:'Monkey', \n",
    "    1993:'Rooster', \n",
    "    1994:'Dog', \n",
    "    1995:'Pig', \n",
    "    1996:'Rat', \n",
    "    1997:'Ox', \n",
    "    1998:'Tiger', \n",
    "    1999:'Rabbit', \n",
    "    2000:'Dragon', \n",
    "    2001:'Snake'\n",
    "}\n",
    "\n",
    "my_year = int(input('Please enter your birth year: '))\n",
    "\n",
    "print(f'Your zodiac animal is the {zodiac[my_year]}.')\n"
   ]
  },
  {
   "cell_type": "markdown",
   "metadata": {},
   "source": [
    "\n",
    "### Fibonacci (20 points)¶\n",
    "\n",
    "The Fibonacci numbers begin with 1, 1. After the first two numbers, each number is the sum of the previous two. 1 + 1 = 2, so 2 is the third number. Then 1 + 2 = 3, so 3 is the next one, and so on. Write a script that prompts the user for an integer number, then prints all the Fibonacci numbers that are less than or equal to the input, in order.\n",
    "\n",
    "Example:\n",
    "\n",
    "Enter a number: 15\n",
    "\n",
    "1 1 2 3 5 8 13\n",
    "\n"
   ]
  },
  {
   "cell_type": "code",
   "execution_count": null,
   "metadata": {},
   "outputs": [],
   "source": [
    "# Your code here: \n",
    "\n",
    "your_num = int(input('Please input a number: '))\n",
    "\n",
    "fibonacci = [1, 1]      #begin with first 2 numbers in sequence\n",
    "fibonacci_sum = 2     #begin with total of first 2 numbers\n",
    "first = fibonacci[0]     #set first number in sequence as a variable\n",
    "second = fibonacci[1]       #set second number in sequence as a variable\n",
    "new = 0\n",
    "\n",
    "while fibonacci_sum < your_num:     #until the sum of the numbers equals the input number\n",
    "    new = first + second     #new is created by adding index 0 and 1\n",
    "    fibonacci.append(new)     #new is added to the list\n",
    "    first = second     #first jumps forward one index\n",
    "    second = new     #second becomes the new sum added to the list\n",
    "    fibonacci_sum += first     #adds to the fibonacci sum\n",
    "    \n",
    "print(' '.join(map(str, fibonacci)))     #make it into a string to get rid of brackets and commas\n",
    "    \n",
    "\n"
   ]
  },
  {
   "cell_type": "markdown",
   "metadata": {},
   "source": [
    "### Extra Credit (15 pts): PEP 8 Style Guide (reading and response)\n",
    "\n",
    "Write a 250 word reading response to the article referenced below. In addition, please list 3 questions that you have from the article (the questions do not count towards the 250 word requirement). Please write your response in the markdown cell below.\n",
    "\n",
    "The writing response is a free response, so you may write about your reactions, such as an interesting thing that you saw in the article, something that really stuck out to you, etc.\n",
    "\n",
    "Article: The PEP 8 Style Guide: https://www.python.org/dev/peps/pep-0008/ This document is really important for Python coders because it describes best practices and customs.\n",
    "\n"
   ]
  },
  {
   "cell_type": "markdown",
   "metadata": {},
   "source": [
    "Your answer here: \n",
    "\n",
    "After reading the style guide, one idea that surprised me was how much of a conversation coding is. Having only written code in this class for assignments that will only be seen by 1-2 people, I had never considered it from that perspective. In fact, most of my comments to this point had been reminders to myself more than anything. I had definitely never thought about how comment readability or even language use should be a major consideration, although of course in hindsight this makes perfect sense. This also ties into the importance the use of whitespace is given in Python. I had always thought of the code itself as the most important feature of my code, but now I understand why Casey is so consistent in asking us to space out operands and add extra lines. I was also struck by the specificity of some of the style suggestions. My mental image of coders at work was admittedly formed by 'hackers' in movies, but I had always assumed speed reigns supreme when it comes to writing large code projects. Yet the style guide would beg to differ. For example, they prefer the use of four spaces to tabs, even though tabs are vastly more convenient (and also what I have been using). I found it unfortunate that the style guide has no recommendation for string quote usage, because this is the only stylistic area where I have a preference. Single quotation marks just look better! Fortunately, the Python style guide seems like a living document that is constantly being revisited and revised, so maybe there is hope yet.\n",
    "\n",
    "Questions:\n",
    "\n",
    "It seems there are many automated programs to check code in Python. Is there something similar to check stylistic conventions?\n",
    "\n",
    "The style guide is very specific in pointing out that coders should respect the conventions of their organization if they are working on a self-contained project. How universal is the use of Pythonic best practices in the real world outside of the largest organizations?\n",
    "\n",
    "I noticed the article is authored by just a few of the major figures in Python. How much input does the Python community have into what coding best practices should be?"
   ]
  }
 ],
 "metadata": {
  "kernelspec": {
   "display_name": "Python 3",
   "language": "python",
   "name": "python3"
  },
  "language_info": {
   "codemirror_mode": {
    "name": "ipython",
    "version": 3
   },
   "file_extension": ".py",
   "mimetype": "text/x-python",
   "name": "python",
   "nbconvert_exporter": "python",
   "pygments_lexer": "ipython3",
   "version": "3.8.5"
  }
 },
 "nbformat": 4,
 "nbformat_minor": 2
}
